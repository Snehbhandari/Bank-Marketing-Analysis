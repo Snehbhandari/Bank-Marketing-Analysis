{
  "nbformat": 4,
  "nbformat_minor": 0,
  "metadata": {
    "colab": {
      "name": "Copy of DL_Project_upsample.ipynb",
      "provenance": [],
      "collapsed_sections": [
        "63MWoue1IHWs",
        "uS5ncTMpIHWt",
        "aMtGELS-IHWv"
      ],
      "toc_visible": true
    },
    "kernelspec": {
      "name": "python3",
      "display_name": "Python 3"
    }
  },
  "cells": [
    {
      "cell_type": "code",
      "metadata": {
        "id": "UkhxEQZ3IHWn"
      },
      "source": [
        "#Importing Libraries\n",
        "import pandas as pd\n",
        "import numpy as np\n",
        "import seaborn as sns\n",
        "import matplotlib.pyplot as plt\n",
        "%matplotlib inline\n",
        "from sklearn.preprocessing import MinMaxScaler, StandardScaler"
      ],
      "execution_count": 1,
      "outputs": []
    },
    {
      "cell_type": "code",
      "metadata": {
        "id": "cl5s7ScxIHWo"
      },
      "source": [
        "#Importing dataset\n",
        "data=pd.read_csv(\"bank-full.csv\",sep=';')"
      ],
      "execution_count": 2,
      "outputs": []
    },
    {
      "cell_type": "code",
      "metadata": {
        "id": "TPE4ItGIIHWo",
        "colab": {
          "base_uri": "https://localhost:8080/"
        },
        "outputId": "3419bed5-0e1f-4961-8edb-07760cee826d"
      },
      "source": [
        "data.shape #Data contains 45211 rows and 17 columns "
      ],
      "execution_count": 3,
      "outputs": [
        {
          "output_type": "execute_result",
          "data": {
            "text/plain": [
              "(45211, 17)"
            ]
          },
          "metadata": {
            "tags": []
          },
          "execution_count": 3
        }
      ]
    },
    {
      "cell_type": "code",
      "metadata": {
        "id": "px2Pe1AUenEn",
        "outputId": "709109fc-6019-4e48-adb2-2f50c7e9a71a",
        "colab": {
          "base_uri": "https://localhost:8080/",
          "height": 191
        }
      },
      "source": [
        "data.head()"
      ],
      "execution_count": 4,
      "outputs": [
        {
          "output_type": "execute_result",
          "data": {
            "text/html": [
              "<div>\n",
              "<style scoped>\n",
              "    .dataframe tbody tr th:only-of-type {\n",
              "        vertical-align: middle;\n",
              "    }\n",
              "\n",
              "    .dataframe tbody tr th {\n",
              "        vertical-align: top;\n",
              "    }\n",
              "\n",
              "    .dataframe thead th {\n",
              "        text-align: right;\n",
              "    }\n",
              "</style>\n",
              "<table border=\"1\" class=\"dataframe\">\n",
              "  <thead>\n",
              "    <tr style=\"text-align: right;\">\n",
              "      <th></th>\n",
              "      <th>age</th>\n",
              "      <th>job</th>\n",
              "      <th>marital</th>\n",
              "      <th>education</th>\n",
              "      <th>default</th>\n",
              "      <th>balance</th>\n",
              "      <th>housing</th>\n",
              "      <th>loan</th>\n",
              "      <th>contact</th>\n",
              "      <th>day</th>\n",
              "      <th>month</th>\n",
              "      <th>duration</th>\n",
              "      <th>campaign</th>\n",
              "      <th>pdays</th>\n",
              "      <th>previous</th>\n",
              "      <th>poutcome</th>\n",
              "      <th>y</th>\n",
              "    </tr>\n",
              "  </thead>\n",
              "  <tbody>\n",
              "    <tr>\n",
              "      <th>0</th>\n",
              "      <td>58</td>\n",
              "      <td>management</td>\n",
              "      <td>married</td>\n",
              "      <td>tertiary</td>\n",
              "      <td>no</td>\n",
              "      <td>2143</td>\n",
              "      <td>yes</td>\n",
              "      <td>no</td>\n",
              "      <td>unknown</td>\n",
              "      <td>5</td>\n",
              "      <td>may</td>\n",
              "      <td>261</td>\n",
              "      <td>1</td>\n",
              "      <td>-1</td>\n",
              "      <td>0</td>\n",
              "      <td>unknown</td>\n",
              "      <td>no</td>\n",
              "    </tr>\n",
              "    <tr>\n",
              "      <th>1</th>\n",
              "      <td>44</td>\n",
              "      <td>technician</td>\n",
              "      <td>single</td>\n",
              "      <td>secondary</td>\n",
              "      <td>no</td>\n",
              "      <td>29</td>\n",
              "      <td>yes</td>\n",
              "      <td>no</td>\n",
              "      <td>unknown</td>\n",
              "      <td>5</td>\n",
              "      <td>may</td>\n",
              "      <td>151</td>\n",
              "      <td>1</td>\n",
              "      <td>-1</td>\n",
              "      <td>0</td>\n",
              "      <td>unknown</td>\n",
              "      <td>no</td>\n",
              "    </tr>\n",
              "    <tr>\n",
              "      <th>2</th>\n",
              "      <td>33</td>\n",
              "      <td>entrepreneur</td>\n",
              "      <td>married</td>\n",
              "      <td>secondary</td>\n",
              "      <td>no</td>\n",
              "      <td>2</td>\n",
              "      <td>yes</td>\n",
              "      <td>yes</td>\n",
              "      <td>unknown</td>\n",
              "      <td>5</td>\n",
              "      <td>may</td>\n",
              "      <td>76</td>\n",
              "      <td>1</td>\n",
              "      <td>-1</td>\n",
              "      <td>0</td>\n",
              "      <td>unknown</td>\n",
              "      <td>no</td>\n",
              "    </tr>\n",
              "    <tr>\n",
              "      <th>3</th>\n",
              "      <td>47</td>\n",
              "      <td>blue-collar</td>\n",
              "      <td>married</td>\n",
              "      <td>unknown</td>\n",
              "      <td>no</td>\n",
              "      <td>1506</td>\n",
              "      <td>yes</td>\n",
              "      <td>no</td>\n",
              "      <td>unknown</td>\n",
              "      <td>5</td>\n",
              "      <td>may</td>\n",
              "      <td>92</td>\n",
              "      <td>1</td>\n",
              "      <td>-1</td>\n",
              "      <td>0</td>\n",
              "      <td>unknown</td>\n",
              "      <td>no</td>\n",
              "    </tr>\n",
              "    <tr>\n",
              "      <th>4</th>\n",
              "      <td>33</td>\n",
              "      <td>unknown</td>\n",
              "      <td>single</td>\n",
              "      <td>unknown</td>\n",
              "      <td>no</td>\n",
              "      <td>1</td>\n",
              "      <td>no</td>\n",
              "      <td>no</td>\n",
              "      <td>unknown</td>\n",
              "      <td>5</td>\n",
              "      <td>may</td>\n",
              "      <td>198</td>\n",
              "      <td>1</td>\n",
              "      <td>-1</td>\n",
              "      <td>0</td>\n",
              "      <td>unknown</td>\n",
              "      <td>no</td>\n",
              "    </tr>\n",
              "  </tbody>\n",
              "</table>\n",
              "</div>"
            ],
            "text/plain": [
              "   age           job  marital  education  ... pdays  previous poutcome   y\n",
              "0   58    management  married   tertiary  ...    -1         0  unknown  no\n",
              "1   44    technician   single  secondary  ...    -1         0  unknown  no\n",
              "2   33  entrepreneur  married  secondary  ...    -1         0  unknown  no\n",
              "3   47   blue-collar  married    unknown  ...    -1         0  unknown  no\n",
              "4   33       unknown   single    unknown  ...    -1         0  unknown  no\n",
              "\n",
              "[5 rows x 17 columns]"
            ]
          },
          "metadata": {
            "tags": []
          },
          "execution_count": 4
        }
      ]
    },
    {
      "cell_type": "markdown",
      "metadata": {
        "id": "3gODz43TYFsY"
      },
      "source": [
        "#Data PreProcessing\n",
        "\n",
        "\n"
      ]
    },
    {
      "cell_type": "markdown",
      "metadata": {
        "id": "5jc5TssaX8l5"
      },
      "source": [
        "##Removing NULL Values"
      ]
    },
    {
      "cell_type": "code",
      "metadata": {
        "id": "rlO96oLRLFUF",
        "colab": {
          "base_uri": "https://localhost:8080/"
        },
        "outputId": "4abfad5f-52c6-4a35-b915-3f4b678e69c7"
      },
      "source": [
        "data = data.replace('unknown', np.nan)\n",
        "data=data.replace('other',np.nan)\n",
        "data.isna().sum() "
      ],
      "execution_count": 5,
      "outputs": [
        {
          "output_type": "execute_result",
          "data": {
            "text/plain": [
              "age              0\n",
              "job            288\n",
              "marital          0\n",
              "education     1857\n",
              "default          0\n",
              "balance          0\n",
              "housing          0\n",
              "loan             0\n",
              "contact      13020\n",
              "day              0\n",
              "month            0\n",
              "duration         0\n",
              "campaign         0\n",
              "pdays            0\n",
              "previous         0\n",
              "poutcome     38799\n",
              "y                0\n",
              "dtype: int64"
            ]
          },
          "metadata": {
            "tags": []
          },
          "execution_count": 5
        }
      ]
    },
    {
      "cell_type": "code",
      "metadata": {
        "id": "1NxzikicLeLK"
      },
      "source": [
        "data.drop('contact', inplace=True, axis=1) #dropping as it has too many NULL values\n",
        "data.drop('poutcome', inplace=True, axis=1) #dropping as it has too many NULL values\n",
        "data.drop('duration',inplace=True, axis=1) #dropping as the value of the variable will only be known at the end of the call. Hence, at that time we will also know the outcome of the call.\n",
        "data=data.dropna()\n"
      ],
      "execution_count": 6,
      "outputs": []
    },
    {
      "cell_type": "markdown",
      "metadata": {
        "id": "Htb-t2OiWHd7"
      },
      "source": [
        "##Upscaling the dataset"
      ]
    },
    {
      "cell_type": "code",
      "metadata": {
        "colab": {
          "base_uri": "https://localhost:8080/",
          "height": 298
        },
        "id": "LMlY7Q82eAEa",
        "outputId": "df364678-0581-497f-a7ba-71bd49ecc626"
      },
      "source": [
        "sns.countplot(x='y',data=data) #we can see that the data is imbalanced"
      ],
      "execution_count": 7,
      "outputs": [
        {
          "output_type": "execute_result",
          "data": {
            "text/plain": [
              "<matplotlib.axes._subplots.AxesSubplot at 0x7fea15d1bbe0>"
            ]
          },
          "metadata": {
            "tags": []
          },
          "execution_count": 7
        },
        {
          "output_type": "display_data",
          "data": {
            "image/png": "[encoded data removed]",
            "text/plain": [
              "<Figure size 432x288 with 1 Axes>"
            ]
          },
          "metadata": {
            "tags": [],
            "needs_background": "light"
          }
        }
      ]
    },
    {
      "cell_type": "code",
      "metadata": {
        "colab": {
          "base_uri": "https://localhost:8080/",
          "height": 295
        },
        "id": "ubrrZR_YeEKk",
        "outputId": "aa270021-ff43-450d-a0c1-a4b0b8cab102"
      },
      "source": [
        "d1=data.copy()\n",
        "d2=d1[d1.y=='yes']\n",
        "d1=pd.concat([d1, d2])\n",
        "d1=pd.concat([d1, d2])\n",
        "d1=pd.concat([d1, d2])\n",
        "d1=pd.concat([d1, d2])\n",
        "d1=pd.concat([d1, d2])\n",
        "d1=pd.concat([d1, d2])\n",
        "d1=pd.concat([d1, d2])\n",
        "data=d1\n",
        "sns.countplot(x='y',data=data)\n"
      ],
      "execution_count": 8,
      "outputs": [
        {
          "output_type": "execute_result",
          "data": {
            "text/plain": [
              "<matplotlib.axes._subplots.AxesSubplot at 0x7fea1498c978>"
            ]
          },
          "metadata": {
            "tags": []
          },
          "execution_count": 8
        },
        {
          "output_type": "display_data",
          "data": {
            "image/png": "[encoded data removed]",
            "text/plain": [
              "<Figure size 432x288 with 1 Axes>"
            ]
          },
          "metadata": {
            "tags": [],
            "needs_background": "light"
          }
        }
      ]
    },
    {
      "cell_type": "markdown",
      "metadata": {
        "id": "A8v_nbkigR97"
      },
      "source": [
        "##Correlation Plot"
      ]
    },
    {
      "cell_type": "code",
      "metadata": {
        "id": "bXKBA0v_gR98",
        "colab": {
          "base_uri": "https://localhost:8080/",
          "height": 503
        },
        "outputId": "43795b5d-2227-4fd3-d5b7-c034179896e9"
      },
      "source": [
        "corrdata = data.corr()\n",
        "ax,fig = plt.subplots(figsize=(15,8))\n",
        "sns.heatmap(corrdata,annot=True)"
      ],
      "execution_count": 9,
      "outputs": [
        {
          "output_type": "execute_result",
          "data": {
            "text/plain": [
              "<matplotlib.axes._subplots.AxesSubplot at 0x7fea149809b0>"
            ]
          },
          "metadata": {
            "tags": []
          },
          "execution_count": 9
        },
        {
          "output_type": "display_data",
          "data": {
            "image/png": "[encoded data removed]",
            "text/plain": [
              "<Figure size 1080x576 with 2 Axes>"
            ]
          },
          "metadata": {
            "tags": [],
            "needs_background": "light"
          }
        }
      ]
    },
    {
      "cell_type": "markdown",
      "metadata": {
        "id": "jNkXy093Wl1P"
      },
      "source": [
        "##Handling Categorical Variables"
      ]
    },
    {
      "cell_type": "code",
      "metadata": {
        "id": "GWFGUmin6Aer"
      },
      "source": [
        "#Ordinal variables\n",
        "data['default'] = data['default'].map({'yes': -1,'no': 0})\n",
        "data['housing'] = data['housing'].map({'yes': 1,'no': 0})\n",
        "data['loan'] = data['loan'].map({'yes': 1,'no': 0})"
      ],
      "execution_count": 10,
      "outputs": []
    },
    {
      "cell_type": "code",
      "metadata": {
        "id": "l1cr24rI6FuB"
      },
      "source": [
        "#Nominal Variables\n",
        "nominal = ['job','marital','education','month',]\n",
        "dataProcessed = pd.get_dummies(data,columns=nominal)\n",
        "dataProcessed['y']=dataProcessed['y'].map({'yes': 1,'no': 0})"
      ],
      "execution_count": 11,
      "outputs": []
    },
    {
      "cell_type": "code",
      "metadata": {
        "id": "z8hfvvC7L1bw",
        "colab": {
          "base_uri": "https://localhost:8080/",
          "height": 227
        },
        "outputId": "4a8976ca-ef99-486d-ead8-8e3468463b90"
      },
      "source": [
        "data=dataProcessed\n",
        "data.head() #all values have been coverted to numerical values "
      ],
      "execution_count": 12,
      "outputs": [
        {
          "output_type": "execute_result",
          "data": {
            "text/html": [
              "<div>\n",
              "<style scoped>\n",
              "    .dataframe tbody tr th:only-of-type {\n",
              "        vertical-align: middle;\n",
              "    }\n",
              "\n",
              "    .dataframe tbody tr th {\n",
              "        vertical-align: top;\n",
              "    }\n",
              "\n",
              "    .dataframe thead th {\n",
              "        text-align: right;\n",
              "    }\n",
              "</style>\n",
              "<table border=\"1\" class=\"dataframe\">\n",
              "  <thead>\n",
              "    <tr style=\"text-align: right;\">\n",
              "      <th></th>\n",
              "      <th>age</th>\n",
              "      <th>default</th>\n",
              "      <th>balance</th>\n",
              "      <th>housing</th>\n",
              "      <th>loan</th>\n",
              "      <th>day</th>\n",
              "      <th>campaign</th>\n",
              "      <th>pdays</th>\n",
              "      <th>previous</th>\n",
              "      <th>y</th>\n",
              "      <th>job_admin.</th>\n",
              "      <th>job_blue-collar</th>\n",
              "      <th>job_entrepreneur</th>\n",
              "      <th>job_housemaid</th>\n",
              "      <th>job_management</th>\n",
              "      <th>job_retired</th>\n",
              "      <th>job_self-employed</th>\n",
              "      <th>job_services</th>\n",
              "      <th>job_student</th>\n",
              "      <th>job_technician</th>\n",
              "      <th>job_unemployed</th>\n",
              "      <th>marital_divorced</th>\n",
              "      <th>marital_married</th>\n",
              "      <th>marital_single</th>\n",
              "      <th>education_primary</th>\n",
              "      <th>education_secondary</th>\n",
              "      <th>education_tertiary</th>\n",
              "      <th>month_apr</th>\n",
              "      <th>month_aug</th>\n",
              "      <th>month_dec</th>\n",
              "      <th>month_feb</th>\n",
              "      <th>month_jan</th>\n",
              "      <th>month_jul</th>\n",
              "      <th>month_jun</th>\n",
              "      <th>month_mar</th>\n",
              "      <th>month_may</th>\n",
              "      <th>month_nov</th>\n",
              "      <th>month_oct</th>\n",
              "      <th>month_sep</th>\n",
              "    </tr>\n",
              "  </thead>\n",
              "  <tbody>\n",
              "    <tr>\n",
              "      <th>0</th>\n",
              "      <td>58</td>\n",
              "      <td>0</td>\n",
              "      <td>2143</td>\n",
              "      <td>1</td>\n",
              "      <td>0</td>\n",
              "      <td>5</td>\n",
              "      <td>1</td>\n",
              "      <td>-1</td>\n",
              "      <td>0</td>\n",
              "      <td>0</td>\n",
              "      <td>0</td>\n",
              "      <td>0</td>\n",
              "      <td>0</td>\n",
              "      <td>0</td>\n",
              "      <td>1</td>\n",
              "      <td>0</td>\n",
              "      <td>0</td>\n",
              "      <td>0</td>\n",
              "      <td>0</td>\n",
              "      <td>0</td>\n",
              "      <td>0</td>\n",
              "      <td>0</td>\n",
              "      <td>1</td>\n",
              "      <td>0</td>\n",
              "      <td>0</td>\n",
              "      <td>0</td>\n",
              "      <td>1</td>\n",
              "      <td>0</td>\n",
              "      <td>0</td>\n",
              "      <td>0</td>\n",
              "      <td>0</td>\n",
              "      <td>0</td>\n",
              "      <td>0</td>\n",
              "      <td>0</td>\n",
              "      <td>0</td>\n",
              "      <td>1</td>\n",
              "      <td>0</td>\n",
              "      <td>0</td>\n",
              "      <td>0</td>\n",
              "    </tr>\n",
              "    <tr>\n",
              "      <th>1</th>\n",
              "      <td>44</td>\n",
              "      <td>0</td>\n",
              "      <td>29</td>\n",
              "      <td>1</td>\n",
              "      <td>0</td>\n",
              "      <td>5</td>\n",
              "      <td>1</td>\n",
              "      <td>-1</td>\n",
              "      <td>0</td>\n",
              "      <td>0</td>\n",
              "      <td>0</td>\n",
              "      <td>0</td>\n",
              "      <td>0</td>\n",
              "      <td>0</td>\n",
              "      <td>0</td>\n",
              "      <td>0</td>\n",
              "      <td>0</td>\n",
              "      <td>0</td>\n",
              "      <td>0</td>\n",
              "      <td>1</td>\n",
              "      <td>0</td>\n",
              "      <td>0</td>\n",
              "      <td>0</td>\n",
              "      <td>1</td>\n",
              "      <td>0</td>\n",
              "      <td>1</td>\n",
              "      <td>0</td>\n",
              "      <td>0</td>\n",
              "      <td>0</td>\n",
              "      <td>0</td>\n",
              "      <td>0</td>\n",
              "      <td>0</td>\n",
              "      <td>0</td>\n",
              "      <td>0</td>\n",
              "      <td>0</td>\n",
              "      <td>1</td>\n",
              "      <td>0</td>\n",
              "      <td>0</td>\n",
              "      <td>0</td>\n",
              "    </tr>\n",
              "    <tr>\n",
              "      <th>2</th>\n",
              "      <td>33</td>\n",
              "      <td>0</td>\n",
              "      <td>2</td>\n",
              "      <td>1</td>\n",
              "      <td>1</td>\n",
              "      <td>5</td>\n",
              "      <td>1</td>\n",
              "      <td>-1</td>\n",
              "      <td>0</td>\n",
              "      <td>0</td>\n",
              "      <td>0</td>\n",
              "      <td>0</td>\n",
              "      <td>1</td>\n",
              "      <td>0</td>\n",
              "      <td>0</td>\n",
              "      <td>0</td>\n",
              "      <td>0</td>\n",
              "      <td>0</td>\n",
              "      <td>0</td>\n",
              "      <td>0</td>\n",
              "      <td>0</td>\n",
              "      <td>0</td>\n",
              "      <td>1</td>\n",
              "      <td>0</td>\n",
              "      <td>0</td>\n",
              "      <td>1</td>\n",
              "      <td>0</td>\n",
              "      <td>0</td>\n",
              "      <td>0</td>\n",
              "      <td>0</td>\n",
              "      <td>0</td>\n",
              "      <td>0</td>\n",
              "      <td>0</td>\n",
              "      <td>0</td>\n",
              "      <td>0</td>\n",
              "      <td>1</td>\n",
              "      <td>0</td>\n",
              "      <td>0</td>\n",
              "      <td>0</td>\n",
              "    </tr>\n",
              "    <tr>\n",
              "      <th>5</th>\n",
              "      <td>35</td>\n",
              "      <td>0</td>\n",
              "      <td>231</td>\n",
              "      <td>1</td>\n",
              "      <td>0</td>\n",
              "      <td>5</td>\n",
              "      <td>1</td>\n",
              "      <td>-1</td>\n",
              "      <td>0</td>\n",
              "      <td>0</td>\n",
              "      <td>0</td>\n",
              "      <td>0</td>\n",
              "      <td>0</td>\n",
              "      <td>0</td>\n",
              "      <td>1</td>\n",
              "      <td>0</td>\n",
              "      <td>0</td>\n",
              "      <td>0</td>\n",
              "      <td>0</td>\n",
              "      <td>0</td>\n",
              "      <td>0</td>\n",
              "      <td>0</td>\n",
              "      <td>1</td>\n",
              "      <td>0</td>\n",
              "      <td>0</td>\n",
              "      <td>0</td>\n",
              "      <td>1</td>\n",
              "      <td>0</td>\n",
              "      <td>0</td>\n",
              "      <td>0</td>\n",
              "      <td>0</td>\n",
              "      <td>0</td>\n",
              "      <td>0</td>\n",
              "      <td>0</td>\n",
              "      <td>0</td>\n",
              "      <td>1</td>\n",
              "      <td>0</td>\n",
              "      <td>0</td>\n",
              "      <td>0</td>\n",
              "    </tr>\n",
              "    <tr>\n",
              "      <th>6</th>\n",
              "      <td>28</td>\n",
              "      <td>0</td>\n",
              "      <td>447</td>\n",
              "      <td>1</td>\n",
              "      <td>1</td>\n",
              "      <td>5</td>\n",
              "      <td>1</td>\n",
              "      <td>-1</td>\n",
              "      <td>0</td>\n",
              "      <td>0</td>\n",
              "      <td>0</td>\n",
              "      <td>0</td>\n",
              "      <td>0</td>\n",
              "      <td>0</td>\n",
              "      <td>1</td>\n",
              "      <td>0</td>\n",
              "      <td>0</td>\n",
              "      <td>0</td>\n",
              "      <td>0</td>\n",
              "      <td>0</td>\n",
              "      <td>0</td>\n",
              "      <td>0</td>\n",
              "      <td>0</td>\n",
              "      <td>1</td>\n",
              "      <td>0</td>\n",
              "      <td>0</td>\n",
              "      <td>1</td>\n",
              "      <td>0</td>\n",
              "      <td>0</td>\n",
              "      <td>0</td>\n",
              "      <td>0</td>\n",
              "      <td>0</td>\n",
              "      <td>0</td>\n",
              "      <td>0</td>\n",
              "      <td>0</td>\n",
              "      <td>1</td>\n",
              "      <td>0</td>\n",
              "      <td>0</td>\n",
              "      <td>0</td>\n",
              "    </tr>\n",
              "  </tbody>\n",
              "</table>\n",
              "</div>"
            ],
            "text/plain": [
              "   age  default  balance  housing  ...  month_may  month_nov  month_oct  month_sep\n",
              "0   58        0     2143        1  ...          1          0          0          0\n",
              "1   44        0       29        1  ...          1          0          0          0\n",
              "2   33        0        2        1  ...          1          0          0          0\n",
              "5   35        0      231        1  ...          1          0          0          0\n",
              "6   28        0      447        1  ...          1          0          0          0\n",
              "\n",
              "[5 rows x 39 columns]"
            ]
          },
          "metadata": {
            "tags": []
          },
          "execution_count": 12
        }
      ]
    },
    {
      "cell_type": "code",
      "metadata": {
        "id": "NpA4FrHL7FQo",
        "colab": {
          "base_uri": "https://localhost:8080/"
        },
        "outputId": "dbb746e4-750c-4801-cd99-379aae3ab0ad"
      },
      "source": [
        "data.shape #43172 rows and 39 columns"
      ],
      "execution_count": 13,
      "outputs": [
        {
          "output_type": "execute_result",
          "data": {
            "text/plain": [
              "(78340, 39)"
            ]
          },
          "metadata": {
            "tags": []
          },
          "execution_count": 13
        }
      ]
    },
    {
      "cell_type": "markdown",
      "metadata": {
        "id": "ehMBOKEQRROg"
      },
      "source": [
        "# Model Building \n"
      ]
    },
    {
      "cell_type": "markdown",
      "metadata": {
        "id": "NcZ6Ws23XXYo"
      },
      "source": [
        "##Splitting into training and testing data "
      ]
    },
    {
      "cell_type": "code",
      "metadata": {
        "id": "0Udx-3K3wPzm"
      },
      "source": [
        "Y=data[\"y\"]\n",
        "data.drop('y', inplace=True, axis=1)\n",
        "data = pd.concat([data,Y],axis=1)"
      ],
      "execution_count": 14,
      "outputs": []
    },
    {
      "cell_type": "code",
      "metadata": {
        "id": "ECg4qkAomYv-"
      },
      "source": [
        "from sklearn.model_selection import train_test_split\n",
        "trainX,testX,trainY,testY=train_test_split(data.iloc[:,:-1],data.iloc[:,-1],train_size=0.8,random_state=1)"
      ],
      "execution_count": 15,
      "outputs": []
    },
    {
      "cell_type": "code",
      "metadata": {
        "id": "z6BaWs70hANs",
        "colab": {
          "base_uri": "https://localhost:8080/",
          "height": 227
        },
        "outputId": "25452505-75de-4c0d-f4d7-8840ee9585c6"
      },
      "source": [
        "trainX.head()"
      ],
      "execution_count": 16,
      "outputs": [
        {
          "output_type": "execute_result",
          "data": {
            "text/html": [
              "<div>\n",
              "<style scoped>\n",
              "    .dataframe tbody tr th:only-of-type {\n",
              "        vertical-align: middle;\n",
              "    }\n",
              "\n",
              "    .dataframe tbody tr th {\n",
              "        vertical-align: top;\n",
              "    }\n",
              "\n",
              "    .dataframe thead th {\n",
              "        text-align: right;\n",
              "    }\n",
              "</style>\n",
              "<table border=\"1\" class=\"dataframe\">\n",
              "  <thead>\n",
              "    <tr style=\"text-align: right;\">\n",
              "      <th></th>\n",
              "      <th>age</th>\n",
              "      <th>default</th>\n",
              "      <th>balance</th>\n",
              "      <th>housing</th>\n",
              "      <th>loan</th>\n",
              "      <th>day</th>\n",
              "      <th>campaign</th>\n",
              "      <th>pdays</th>\n",
              "      <th>previous</th>\n",
              "      <th>job_admin.</th>\n",
              "      <th>job_blue-collar</th>\n",
              "      <th>job_entrepreneur</th>\n",
              "      <th>job_housemaid</th>\n",
              "      <th>job_management</th>\n",
              "      <th>job_retired</th>\n",
              "      <th>job_self-employed</th>\n",
              "      <th>job_services</th>\n",
              "      <th>job_student</th>\n",
              "      <th>job_technician</th>\n",
              "      <th>job_unemployed</th>\n",
              "      <th>marital_divorced</th>\n",
              "      <th>marital_married</th>\n",
              "      <th>marital_single</th>\n",
              "      <th>education_primary</th>\n",
              "      <th>education_secondary</th>\n",
              "      <th>education_tertiary</th>\n",
              "      <th>month_apr</th>\n",
              "      <th>month_aug</th>\n",
              "      <th>month_dec</th>\n",
              "      <th>month_feb</th>\n",
              "      <th>month_jan</th>\n",
              "      <th>month_jul</th>\n",
              "      <th>month_jun</th>\n",
              "      <th>month_mar</th>\n",
              "      <th>month_may</th>\n",
              "      <th>month_nov</th>\n",
              "      <th>month_oct</th>\n",
              "      <th>month_sep</th>\n",
              "    </tr>\n",
              "  </thead>\n",
              "  <tbody>\n",
              "    <tr>\n",
              "      <th>20834</th>\n",
              "      <td>30</td>\n",
              "      <td>0</td>\n",
              "      <td>0</td>\n",
              "      <td>1</td>\n",
              "      <td>0</td>\n",
              "      <td>13</td>\n",
              "      <td>4</td>\n",
              "      <td>-1</td>\n",
              "      <td>0</td>\n",
              "      <td>0</td>\n",
              "      <td>0</td>\n",
              "      <td>0</td>\n",
              "      <td>0</td>\n",
              "      <td>0</td>\n",
              "      <td>0</td>\n",
              "      <td>0</td>\n",
              "      <td>0</td>\n",
              "      <td>0</td>\n",
              "      <td>1</td>\n",
              "      <td>0</td>\n",
              "      <td>0</td>\n",
              "      <td>0</td>\n",
              "      <td>1</td>\n",
              "      <td>0</td>\n",
              "      <td>0</td>\n",
              "      <td>1</td>\n",
              "      <td>0</td>\n",
              "      <td>1</td>\n",
              "      <td>0</td>\n",
              "      <td>0</td>\n",
              "      <td>0</td>\n",
              "      <td>0</td>\n",
              "      <td>0</td>\n",
              "      <td>0</td>\n",
              "      <td>0</td>\n",
              "      <td>0</td>\n",
              "      <td>0</td>\n",
              "      <td>0</td>\n",
              "    </tr>\n",
              "    <tr>\n",
              "      <th>23260</th>\n",
              "      <td>56</td>\n",
              "      <td>0</td>\n",
              "      <td>297</td>\n",
              "      <td>0</td>\n",
              "      <td>1</td>\n",
              "      <td>27</td>\n",
              "      <td>16</td>\n",
              "      <td>-1</td>\n",
              "      <td>0</td>\n",
              "      <td>0</td>\n",
              "      <td>1</td>\n",
              "      <td>0</td>\n",
              "      <td>0</td>\n",
              "      <td>0</td>\n",
              "      <td>0</td>\n",
              "      <td>0</td>\n",
              "      <td>0</td>\n",
              "      <td>0</td>\n",
              "      <td>0</td>\n",
              "      <td>0</td>\n",
              "      <td>0</td>\n",
              "      <td>1</td>\n",
              "      <td>0</td>\n",
              "      <td>0</td>\n",
              "      <td>1</td>\n",
              "      <td>0</td>\n",
              "      <td>0</td>\n",
              "      <td>1</td>\n",
              "      <td>0</td>\n",
              "      <td>0</td>\n",
              "      <td>0</td>\n",
              "      <td>0</td>\n",
              "      <td>0</td>\n",
              "      <td>0</td>\n",
              "      <td>0</td>\n",
              "      <td>0</td>\n",
              "      <td>0</td>\n",
              "      <td>0</td>\n",
              "    </tr>\n",
              "    <tr>\n",
              "      <th>4720</th>\n",
              "      <td>49</td>\n",
              "      <td>0</td>\n",
              "      <td>0</td>\n",
              "      <td>1</td>\n",
              "      <td>0</td>\n",
              "      <td>20</td>\n",
              "      <td>2</td>\n",
              "      <td>-1</td>\n",
              "      <td>0</td>\n",
              "      <td>0</td>\n",
              "      <td>0</td>\n",
              "      <td>0</td>\n",
              "      <td>0</td>\n",
              "      <td>0</td>\n",
              "      <td>0</td>\n",
              "      <td>0</td>\n",
              "      <td>0</td>\n",
              "      <td>0</td>\n",
              "      <td>1</td>\n",
              "      <td>0</td>\n",
              "      <td>0</td>\n",
              "      <td>0</td>\n",
              "      <td>1</td>\n",
              "      <td>0</td>\n",
              "      <td>1</td>\n",
              "      <td>0</td>\n",
              "      <td>0</td>\n",
              "      <td>0</td>\n",
              "      <td>0</td>\n",
              "      <td>0</td>\n",
              "      <td>0</td>\n",
              "      <td>0</td>\n",
              "      <td>0</td>\n",
              "      <td>0</td>\n",
              "      <td>1</td>\n",
              "      <td>0</td>\n",
              "      <td>0</td>\n",
              "      <td>0</td>\n",
              "    </tr>\n",
              "    <tr>\n",
              "      <th>44475</th>\n",
              "      <td>37</td>\n",
              "      <td>0</td>\n",
              "      <td>4596</td>\n",
              "      <td>1</td>\n",
              "      <td>0</td>\n",
              "      <td>6</td>\n",
              "      <td>1</td>\n",
              "      <td>91</td>\n",
              "      <td>6</td>\n",
              "      <td>0</td>\n",
              "      <td>0</td>\n",
              "      <td>0</td>\n",
              "      <td>0</td>\n",
              "      <td>0</td>\n",
              "      <td>0</td>\n",
              "      <td>0</td>\n",
              "      <td>0</td>\n",
              "      <td>0</td>\n",
              "      <td>1</td>\n",
              "      <td>0</td>\n",
              "      <td>0</td>\n",
              "      <td>1</td>\n",
              "      <td>0</td>\n",
              "      <td>0</td>\n",
              "      <td>0</td>\n",
              "      <td>1</td>\n",
              "      <td>0</td>\n",
              "      <td>1</td>\n",
              "      <td>0</td>\n",
              "      <td>0</td>\n",
              "      <td>0</td>\n",
              "      <td>0</td>\n",
              "      <td>0</td>\n",
              "      <td>0</td>\n",
              "      <td>0</td>\n",
              "      <td>0</td>\n",
              "      <td>0</td>\n",
              "      <td>0</td>\n",
              "    </tr>\n",
              "    <tr>\n",
              "      <th>33968</th>\n",
              "      <td>35</td>\n",
              "      <td>0</td>\n",
              "      <td>193</td>\n",
              "      <td>1</td>\n",
              "      <td>0</td>\n",
              "      <td>30</td>\n",
              "      <td>1</td>\n",
              "      <td>13</td>\n",
              "      <td>1</td>\n",
              "      <td>0</td>\n",
              "      <td>0</td>\n",
              "      <td>0</td>\n",
              "      <td>0</td>\n",
              "      <td>1</td>\n",
              "      <td>0</td>\n",
              "      <td>0</td>\n",
              "      <td>0</td>\n",
              "      <td>0</td>\n",
              "      <td>0</td>\n",
              "      <td>0</td>\n",
              "      <td>0</td>\n",
              "      <td>1</td>\n",
              "      <td>0</td>\n",
              "      <td>0</td>\n",
              "      <td>0</td>\n",
              "      <td>1</td>\n",
              "      <td>1</td>\n",
              "      <td>0</td>\n",
              "      <td>0</td>\n",
              "      <td>0</td>\n",
              "      <td>0</td>\n",
              "      <td>0</td>\n",
              "      <td>0</td>\n",
              "      <td>0</td>\n",
              "      <td>0</td>\n",
              "      <td>0</td>\n",
              "      <td>0</td>\n",
              "      <td>0</td>\n",
              "    </tr>\n",
              "  </tbody>\n",
              "</table>\n",
              "</div>"
            ],
            "text/plain": [
              "       age  default  balance  ...  month_nov  month_oct  month_sep\n",
              "20834   30        0        0  ...          0          0          0\n",
              "23260   56        0      297  ...          0          0          0\n",
              "4720    49        0        0  ...          0          0          0\n",
              "44475   37        0     4596  ...          0          0          0\n",
              "33968   35        0      193  ...          0          0          0\n",
              "\n",
              "[5 rows x 38 columns]"
            ]
          },
          "metadata": {
            "tags": []
          },
          "execution_count": 16
        }
      ]
    },
    {
      "cell_type": "markdown",
      "metadata": {
        "id": "63MWoue1IHWs"
      },
      "source": [
        "## Random Forest"
      ]
    },
    {
      "cell_type": "code",
      "metadata": {
        "id": "hm4HHE4rIHWs"
      },
      "source": [
        "from sklearn.ensemble import RandomForestClassifier\n",
        "model=RandomForestClassifier()\n",
        "model.fit(trainX,trainY)\n",
        "pred=model.predict(testX)"
      ],
      "execution_count": 17,
      "outputs": []
    },
    {
      "cell_type": "code",
      "metadata": {
        "id": "iESrJ3YX3bbF",
        "outputId": "fbb5a08b-35f0-4f00-b2d5-44c873e08f1f",
        "colab": {
          "base_uri": "https://localhost:8080/"
        }
      },
      "source": [
        "from sklearn.metrics import classification_report,confusion_matrix\n",
        "cm1=(confusion_matrix(testY,pred))\n",
        "\n",
        "print('Confusion Matrix : \\n', cm1)\n",
        "total1=sum(sum(cm1))\n",
        "\n",
        "accuracy1=(cm1[0,0]+cm1[1,1])/total1\n",
        "print ('Accuracy : ', accuracy1)\n",
        "\n",
        "sensitivity1 = cm1[0,0]/(cm1[0,0]+cm1[0,1])\n",
        "print('Sensitivity : ', sensitivity1 )\n",
        "\n",
        "specificity1 = cm1[1,1]/(cm1[1,0]+cm1[1,1])\n",
        "print('Specificity : ', specificity1)"
      ],
      "execution_count": 18,
      "outputs": [
        {
          "output_type": "stream",
          "text": [
            "Confusion Matrix : \n",
            " [[7279  420]\n",
            " [   0 7969]]\n",
            "Accuracy :  0.9731937707429155\n",
            "Sensitivity :  0.9454474607091831\n",
            "Specificity :  1.0\n"
          ],
          "name": "stdout"
        }
      ]
    },
    {
      "cell_type": "code",
      "metadata": {
        "colab": {
          "base_uri": "https://localhost:8080/"
        },
        "id": "x8xXh1JmfOyy",
        "outputId": "e11f5554-6ed7-4069-d640-944f4f531c80"
      },
      "source": [
        "print(classification_report(pred,testY))\n"
      ],
      "execution_count": 19,
      "outputs": [
        {
          "output_type": "stream",
          "text": [
            "              precision    recall  f1-score   support\n",
            "\n",
            "           0       0.95      1.00      0.97      7279\n",
            "           1       1.00      0.95      0.97      8389\n",
            "\n",
            "    accuracy                           0.97     15668\n",
            "   macro avg       0.97      0.97      0.97     15668\n",
            "weighted avg       0.97      0.97      0.97     15668\n",
            "\n"
          ],
          "name": "stdout"
        }
      ]
    },
    {
      "cell_type": "code",
      "metadata": {
        "id": "jA3K-dNN-kqH",
        "colab": {
          "base_uri": "https://localhost:8080/"
        },
        "outputId": "b7eeafc9-92a3-4c2e-ad1c-1f568f2f8725"
      },
      "source": [
        "import sklearn.metrics as metrics\n",
        "#AUC\n",
        "randomforestauc = metrics.roc_auc_score(testY , pred)\n",
        "randomforestauc"
      ],
      "execution_count": 20,
      "outputs": [
        {
          "output_type": "execute_result",
          "data": {
            "text/plain": [
              "0.9727237303545915"
            ]
          },
          "metadata": {
            "tags": []
          },
          "execution_count": 20
        }
      ]
    },
    {
      "cell_type": "markdown",
      "metadata": {
        "id": "uS5ncTMpIHWt"
      },
      "source": [
        "## Support Vector Classifier"
      ]
    },
    {
      "cell_type": "code",
      "metadata": {
        "id": "3jrt3OitwUB0"
      },
      "source": [
        "#Normalizing the data\n",
        "from keras.utils import normalize\n",
        "Xtrain=normalize(trainX)\n",
        "Xtest=normalize(testX)"
      ],
      "execution_count": 21,
      "outputs": []
    },
    {
      "cell_type": "code",
      "metadata": {
        "id": "vDbP3zZspgPt",
        "colab": {
          "base_uri": "https://localhost:8080/"
        },
        "outputId": "f023da5a-7712-4817-bf81-f593cc25dc75"
      },
      "source": [
        "from sklearn.svm import SVC\n",
        "model=SVC(gamma=0.8,degree=0.8,max_iter=10000)\n",
        "model.fit(Xtrain,trainY)\n",
        "pred=model.predict(Xtest)"
      ],
      "execution_count": 22,
      "outputs": [
        {
          "output_type": "stream",
          "text": [
            "/usr/local/lib/python3.6/dist-packages/sklearn/svm/_base.py:231: ConvergenceWarning: Solver terminated early (max_iter=10000).  Consider pre-processing your data with StandardScaler or MinMaxScaler.\n",
            "  % self.max_iter, ConvergenceWarning)\n"
          ],
          "name": "stderr"
        }
      ]
    },
    {
      "cell_type": "code",
      "metadata": {
        "id": "sEXJ674aNbFL",
        "colab": {
          "base_uri": "https://localhost:8080/"
        },
        "outputId": "28156d6d-0031-4ffe-d625-4d8105069faa"
      },
      "source": [
        "cm1=(confusion_matrix(testY,pred))\n",
        "print('Confusion Matrix : \\n', cm1)\n",
        "total1=sum(sum(cm1))\n",
        "\n",
        "accuracy1=(cm1[0,0]+cm1[1,1])/total1\n",
        "print ('Accuracy : ', accuracy1)\n",
        "\n",
        "sensitivity1 = cm1[0,0]/(cm1[0,0]+cm1[0,1])\n",
        "print('Sensitivity : ', sensitivity1 )\n",
        "\n",
        "specificity1 = cm1[1,1]/(cm1[1,0]+cm1[1,1])\n",
        "print('Specificity : ', specificity1)"
      ],
      "execution_count": 23,
      "outputs": [
        {
          "output_type": "stream",
          "text": [
            "Confusion Matrix : \n",
            " [[1994 5705]\n",
            " [1394 6575]]\n",
            "Accuracy :  0.5469109011998979\n",
            "Sensitivity :  0.25899467463306924\n",
            "Specificity :  0.8250721545990714\n"
          ],
          "name": "stdout"
        }
      ]
    },
    {
      "cell_type": "code",
      "metadata": {
        "id": "UABAZE8ApgGk",
        "colab": {
          "base_uri": "https://localhost:8080/"
        },
        "outputId": "7ea5a651-0098-4ebe-d01b-f50085260ccd"
      },
      "source": [
        "print(classification_report(pred,testY))\n"
      ],
      "execution_count": 24,
      "outputs": [
        {
          "output_type": "stream",
          "text": [
            "              precision    recall  f1-score   support\n",
            "\n",
            "           0       0.26      0.59      0.36      3388\n",
            "           1       0.83      0.54      0.65     12280\n",
            "\n",
            "    accuracy                           0.55     15668\n",
            "   macro avg       0.54      0.56      0.50     15668\n",
            "weighted avg       0.70      0.55      0.59     15668\n",
            "\n"
          ],
          "name": "stdout"
        }
      ]
    },
    {
      "cell_type": "code",
      "metadata": {
        "id": "cnO8DnZW-r-G",
        "colab": {
          "base_uri": "https://localhost:8080/"
        },
        "outputId": "f372c9cb-2883-4f7c-e55b-e231ff4c7e6a"
      },
      "source": [
        "import sklearn.metrics as metrics\n",
        "#AUC\n",
        "supportVectorMachineauc = metrics.roc_auc_score(testY , pred)\n",
        "supportVectorMachineauc"
      ],
      "execution_count": 25,
      "outputs": [
        {
          "output_type": "execute_result",
          "data": {
            "text/plain": [
              "0.5420334146160704"
            ]
          },
          "metadata": {
            "tags": []
          },
          "execution_count": 25
        }
      ]
    },
    {
      "cell_type": "markdown",
      "metadata": {
        "id": "2AJh0XHvIHWu"
      },
      "source": [
        "## Artificial Neural Network"
      ]
    },
    {
      "cell_type": "code",
      "metadata": {
        "id": "CPo8sYAVweuW",
        "colab": {
          "base_uri": "https://localhost:8080/"
        },
        "outputId": "3a6c3362-fc2d-4589-a897-8a68c1926d83"
      },
      "source": [
        "pip install tensorflow==2.2"
      ],
      "execution_count": 26,
      "outputs": [
        {
          "output_type": "stream",
          "text": [
            "Requirement already satisfied: tensorflow==2.2 in /usr/local/lib/python3.6/dist-packages (2.2.0)\n",
            "Requirement already satisfied: wrapt>=1.11.1 in /usr/local/lib/python3.6/dist-packages (from tensorflow==2.2) (1.12.1)\n",
            "Requirement already satisfied: grpcio>=1.8.6 in /usr/local/lib/python3.6/dist-packages (from tensorflow==2.2) (1.33.2)\n",
            "Requirement already satisfied: h5py<2.11.0,>=2.10.0 in /usr/local/lib/python3.6/dist-packages (from tensorflow==2.2) (2.10.0)\n",
            "Requirement already satisfied: protobuf>=3.8.0 in /usr/local/lib/python3.6/dist-packages (from tensorflow==2.2) (3.12.4)\n",
            "Requirement already satisfied: six>=1.12.0 in /usr/local/lib/python3.6/dist-packages (from tensorflow==2.2) (1.15.0)\n",
            "Requirement already satisfied: google-pasta>=0.1.8 in /usr/local/lib/python3.6/dist-packages (from tensorflow==2.2) (0.2.0)\n",
            "Requirement already satisfied: astunparse==1.6.3 in /usr/local/lib/python3.6/dist-packages (from tensorflow==2.2) (1.6.3)\n",
            "Requirement already satisfied: keras-preprocessing>=1.1.0 in /usr/local/lib/python3.6/dist-packages (from tensorflow==2.2) (1.1.2)\n",
            "Requirement already satisfied: wheel>=0.26; python_version >= \"3\" in /usr/local/lib/python3.6/dist-packages (from tensorflow==2.2) (0.35.1)\n",
            "Requirement already satisfied: scipy==1.4.1; python_version >= \"3\" in /usr/local/lib/python3.6/dist-packages (from tensorflow==2.2) (1.4.1)\n",
            "Requirement already satisfied: numpy<2.0,>=1.16.0 in /usr/local/lib/python3.6/dist-packages (from tensorflow==2.2) (1.18.5)\n",
            "Requirement already satisfied: gast==0.3.3 in /usr/local/lib/python3.6/dist-packages (from tensorflow==2.2) (0.3.3)\n",
            "Requirement already satisfied: opt-einsum>=2.3.2 in /usr/local/lib/python3.6/dist-packages (from tensorflow==2.2) (3.3.0)\n",
            "Requirement already satisfied: tensorflow-estimator<2.3.0,>=2.2.0 in /usr/local/lib/python3.6/dist-packages (from tensorflow==2.2) (2.2.0)\n",
            "Requirement already satisfied: absl-py>=0.7.0 in /usr/local/lib/python3.6/dist-packages (from tensorflow==2.2) (0.10.0)\n",
            "Requirement already satisfied: tensorboard<2.3.0,>=2.2.0 in /usr/local/lib/python3.6/dist-packages (from tensorflow==2.2) (2.2.2)\n",
            "Requirement already satisfied: termcolor>=1.1.0 in /usr/local/lib/python3.6/dist-packages (from tensorflow==2.2) (1.1.0)\n",
            "Requirement already satisfied: setuptools in /usr/local/lib/python3.6/dist-packages (from protobuf>=3.8.0->tensorflow==2.2) (50.3.2)\n",
            "Requirement already satisfied: google-auth-oauthlib<0.5,>=0.4.1 in /usr/local/lib/python3.6/dist-packages (from tensorboard<2.3.0,>=2.2.0->tensorflow==2.2) (0.4.2)\n",
            "Requirement already satisfied: markdown>=2.6.8 in /usr/local/lib/python3.6/dist-packages (from tensorboard<2.3.0,>=2.2.0->tensorflow==2.2) (3.3.3)\n",
            "Requirement already satisfied: requests<3,>=2.21.0 in /usr/local/lib/python3.6/dist-packages (from tensorboard<2.3.0,>=2.2.0->tensorflow==2.2) (2.23.0)\n",
            "Requirement already satisfied: google-auth<2,>=1.6.3 in /usr/local/lib/python3.6/dist-packages (from tensorboard<2.3.0,>=2.2.0->tensorflow==2.2) (1.17.2)\n",
            "Requirement already satisfied: werkzeug>=0.11.15 in /usr/local/lib/python3.6/dist-packages (from tensorboard<2.3.0,>=2.2.0->tensorflow==2.2) (1.0.1)\n",
            "Requirement already satisfied: tensorboard-plugin-wit>=1.6.0 in /usr/local/lib/python3.6/dist-packages (from tensorboard<2.3.0,>=2.2.0->tensorflow==2.2) (1.7.0)\n",
            "Requirement already satisfied: requests-oauthlib>=0.7.0 in /usr/local/lib/python3.6/dist-packages (from google-auth-oauthlib<0.5,>=0.4.1->tensorboard<2.3.0,>=2.2.0->tensorflow==2.2) (1.3.0)\n",
            "Requirement already satisfied: importlib-metadata; python_version < \"3.8\" in /usr/local/lib/python3.6/dist-packages (from markdown>=2.6.8->tensorboard<2.3.0,>=2.2.0->tensorflow==2.2) (2.0.0)\n",
            "Requirement already satisfied: idna<3,>=2.5 in /usr/local/lib/python3.6/dist-packages (from requests<3,>=2.21.0->tensorboard<2.3.0,>=2.2.0->tensorflow==2.2) (2.10)\n",
            "Requirement already satisfied: chardet<4,>=3.0.2 in /usr/local/lib/python3.6/dist-packages (from requests<3,>=2.21.0->tensorboard<2.3.0,>=2.2.0->tensorflow==2.2) (3.0.4)\n",
            "Requirement already satisfied: urllib3!=1.25.0,!=1.25.1,<1.26,>=1.21.1 in /usr/local/lib/python3.6/dist-packages (from requests<3,>=2.21.0->tensorboard<2.3.0,>=2.2.0->tensorflow==2.2) (1.24.3)\n",
            "Requirement already satisfied: certifi>=2017.4.17 in /usr/local/lib/python3.6/dist-packages (from requests<3,>=2.21.0->tensorboard<2.3.0,>=2.2.0->tensorflow==2.2) (2020.11.8)\n",
            "Requirement already satisfied: pyasn1-modules>=0.2.1 in /usr/local/lib/python3.6/dist-packages (from google-auth<2,>=1.6.3->tensorboard<2.3.0,>=2.2.0->tensorflow==2.2) (0.2.8)\n",
            "Requirement already satisfied: rsa<5,>=3.1.4; python_version >= \"3\" in /usr/local/lib/python3.6/dist-packages (from google-auth<2,>=1.6.3->tensorboard<2.3.0,>=2.2.0->tensorflow==2.2) (4.6)\n",
            "Requirement already satisfied: cachetools<5.0,>=2.0.0 in /usr/local/lib/python3.6/dist-packages (from google-auth<2,>=1.6.3->tensorboard<2.3.0,>=2.2.0->tensorflow==2.2) (4.1.1)\n",
            "Requirement already satisfied: oauthlib>=3.0.0 in /usr/local/lib/python3.6/dist-packages (from requests-oauthlib>=0.7.0->google-auth-oauthlib<0.5,>=0.4.1->tensorboard<2.3.0,>=2.2.0->tensorflow==2.2) (3.1.0)\n",
            "Requirement already satisfied: zipp>=0.5 in /usr/local/lib/python3.6/dist-packages (from importlib-metadata; python_version < \"3.8\"->markdown>=2.6.8->tensorboard<2.3.0,>=2.2.0->tensorflow==2.2) (3.4.0)\n",
            "Requirement already satisfied: pyasn1<0.5.0,>=0.4.6 in /usr/local/lib/python3.6/dist-packages (from pyasn1-modules>=0.2.1->google-auth<2,>=1.6.3->tensorboard<2.3.0,>=2.2.0->tensorflow==2.2) (0.4.8)\n"
          ],
          "name": "stdout"
        }
      ]
    },
    {
      "cell_type": "code",
      "metadata": {
        "id": "LEkxJcMxwYug"
      },
      "source": [
        "import tensorflow as tf\n",
        "from tensorflow import keras\n",
        "from keras import layers\n",
        "from keras.utils import normalize"
      ],
      "execution_count": 27,
      "outputs": []
    },
    {
      "cell_type": "code",
      "metadata": {
        "id": "-TbzFMJNKuJD"
      },
      "source": [
        "#Normalizing the data\n",
        "from keras.utils import normalize\n",
        "Xtrain=normalize(trainX)\n",
        "Xtest=normalize(testX)"
      ],
      "execution_count": 28,
      "outputs": []
    },
    {
      "cell_type": "code",
      "metadata": {
        "id": "QttWHQk5IHWu"
      },
      "source": [
        "# Defining the model\n",
        "tf.keras.backend.set_floatx('float64')\n",
        "model=keras.models.Sequential()\n",
        "#model.add(keras.layers.Flatten()) #Flattens the input\n",
        "model.add(keras.layers.Dense(39,activation=tf.nn.relu)) #Adding input layer with 128 neurons and relu activation func\n",
        "model.add(keras.layers.Dense(39,activation=tf.nn.relu))\n",
        "model.add(keras.layers.Dense(2,activation=tf.nn.softmax))\n",
        "# Adam Optimiser converges faster than any other existing optimizer\n",
        "# sparse categorical crossentropy combines the good of crossentropy and one hot encoding\n",
        "model.compile(optimizer=\"adam\",loss=\"sparse_categorical_crossentropy\",metrics=[\"accuracy\"])"
      ],
      "execution_count": 29,
      "outputs": []
    },
    {
      "cell_type": "code",
      "metadata": {
        "id": "EYxAcrZnCBmn",
        "colab": {
          "base_uri": "https://localhost:8080/"
        },
        "outputId": "3a802030-b90a-4a66-affe-f9116b4f6aa9"
      },
      "source": [
        "model.fit(Xtrain,trainY,epochs=100)\n"
      ],
      "execution_count": 30,
      "outputs": [
        {
          "output_type": "stream",
          "text": [
            "Epoch 1/100\n",
            "1959/1959 [==============================] - 4s 2ms/step - loss: 0.6596 - accuracy: 0.6010\n",
            "Epoch 2/100\n",
            "1959/1959 [==============================] - 3s 2ms/step - loss: 0.6427 - accuracy: 0.6255\n",
            "Epoch 3/100\n",
            "1959/1959 [==============================] - 3s 2ms/step - loss: 0.6348 - accuracy: 0.6373\n",
            "Epoch 4/100\n",
            "1959/1959 [==============================] - 3s 1ms/step - loss: 0.6298 - accuracy: 0.6434\n",
            "Epoch 5/100\n",
            "1959/1959 [==============================] - 3s 1ms/step - loss: 0.6229 - accuracy: 0.6530\n",
            "Epoch 6/100\n",
            "1959/1959 [==============================] - 3s 1ms/step - loss: 0.6174 - accuracy: 0.6581\n",
            "Epoch 7/100\n",
            "1959/1959 [==============================] - 3s 1ms/step - loss: 0.6128 - accuracy: 0.6631\n",
            "Epoch 8/100\n",
            "1959/1959 [==============================] - 3s 2ms/step - loss: 0.6074 - accuracy: 0.6691\n",
            "Epoch 9/100\n",
            "1959/1959 [==============================] - 3s 1ms/step - loss: 0.6060 - accuracy: 0.6680\n",
            "Epoch 10/100\n",
            "1959/1959 [==============================] - 3s 1ms/step - loss: 0.6023 - accuracy: 0.6738\n",
            "Epoch 11/100\n",
            "1959/1959 [==============================] - 3s 1ms/step - loss: 0.6008 - accuracy: 0.6748\n",
            "Epoch 12/100\n",
            "1959/1959 [==============================] - 3s 1ms/step - loss: 0.5991 - accuracy: 0.6741\n",
            "Epoch 13/100\n",
            "1959/1959 [==============================] - 3s 1ms/step - loss: 0.5968 - accuracy: 0.6769\n",
            "Epoch 14/100\n",
            "1959/1959 [==============================] - 3s 2ms/step - loss: 0.5954 - accuracy: 0.6803\n",
            "Epoch 15/100\n",
            "1959/1959 [==============================] - 3s 1ms/step - loss: 0.5926 - accuracy: 0.6800\n",
            "Epoch 16/100\n",
            "1959/1959 [==============================] - 3s 1ms/step - loss: 0.5924 - accuracy: 0.6799\n",
            "Epoch 17/100\n",
            "1959/1959 [==============================] - 3s 1ms/step - loss: 0.5914 - accuracy: 0.6804\n",
            "Epoch 18/100\n",
            "1959/1959 [==============================] - 3s 2ms/step - loss: 0.5900 - accuracy: 0.6828\n",
            "Epoch 19/100\n",
            "1959/1959 [==============================] - 3s 2ms/step - loss: 0.5888 - accuracy: 0.6836\n",
            "Epoch 20/100\n",
            "1959/1959 [==============================] - 3s 2ms/step - loss: 0.5876 - accuracy: 0.6826\n",
            "Epoch 21/100\n",
            "1959/1959 [==============================] - 3s 2ms/step - loss: 0.5859 - accuracy: 0.6863\n",
            "Epoch 22/100\n",
            "1959/1959 [==============================] - 3s 1ms/step - loss: 0.5855 - accuracy: 0.6847\n",
            "Epoch 23/100\n",
            "1959/1959 [==============================] - 3s 1ms/step - loss: 0.5836 - accuracy: 0.6875\n",
            "Epoch 24/100\n",
            "1959/1959 [==============================] - 3s 1ms/step - loss: 0.5829 - accuracy: 0.6881\n",
            "Epoch 25/100\n",
            "1959/1959 [==============================] - 3s 1ms/step - loss: 0.5813 - accuracy: 0.6884\n",
            "Epoch 26/100\n",
            "1959/1959 [==============================] - 3s 1ms/step - loss: 0.5815 - accuracy: 0.6880\n",
            "Epoch 27/100\n",
            "1959/1959 [==============================] - 3s 1ms/step - loss: 0.5808 - accuracy: 0.6896\n",
            "Epoch 28/100\n",
            "1959/1959 [==============================] - 3s 1ms/step - loss: 0.5791 - accuracy: 0.6909\n",
            "Epoch 29/100\n",
            "1959/1959 [==============================] - 3s 1ms/step - loss: 0.5792 - accuracy: 0.6904\n",
            "Epoch 30/100\n",
            "1959/1959 [==============================] - 3s 1ms/step - loss: 0.5776 - accuracy: 0.6913\n",
            "Epoch 31/100\n",
            "1959/1959 [==============================] - 3s 1ms/step - loss: 0.5761 - accuracy: 0.6938\n",
            "Epoch 32/100\n",
            "1959/1959 [==============================] - 3s 2ms/step - loss: 0.5746 - accuracy: 0.6937\n",
            "Epoch 33/100\n",
            "1959/1959 [==============================] - 3s 2ms/step - loss: 0.5748 - accuracy: 0.6919\n",
            "Epoch 34/100\n",
            "1959/1959 [==============================] - 3s 1ms/step - loss: 0.5734 - accuracy: 0.6942\n",
            "Epoch 35/100\n",
            "1959/1959 [==============================] - 3s 1ms/step - loss: 0.5732 - accuracy: 0.6940\n",
            "Epoch 36/100\n",
            "1959/1959 [==============================] - 3s 1ms/step - loss: 0.5724 - accuracy: 0.6955\n",
            "Epoch 37/100\n",
            "1959/1959 [==============================] - 3s 1ms/step - loss: 0.5718 - accuracy: 0.6946\n",
            "Epoch 38/100\n",
            "1959/1959 [==============================] - 3s 1ms/step - loss: 0.5709 - accuracy: 0.6958\n",
            "Epoch 39/100\n",
            "1959/1959 [==============================] - 3s 1ms/step - loss: 0.5698 - accuracy: 0.6956\n",
            "Epoch 40/100\n",
            "1959/1959 [==============================] - 3s 1ms/step - loss: 0.5697 - accuracy: 0.6964\n",
            "Epoch 41/100\n",
            "1959/1959 [==============================] - 3s 1ms/step - loss: 0.5686 - accuracy: 0.6973\n",
            "Epoch 42/100\n",
            "1959/1959 [==============================] - 3s 1ms/step - loss: 0.5676 - accuracy: 0.6984\n",
            "Epoch 43/100\n",
            "1959/1959 [==============================] - 3s 1ms/step - loss: 0.5671 - accuracy: 0.6993\n",
            "Epoch 44/100\n",
            "1959/1959 [==============================] - 3s 2ms/step - loss: 0.5660 - accuracy: 0.6991\n",
            "Epoch 45/100\n",
            "1959/1959 [==============================] - 3s 1ms/step - loss: 0.5649 - accuracy: 0.6999\n",
            "Epoch 46/100\n",
            "1959/1959 [==============================] - 3s 2ms/step - loss: 0.5644 - accuracy: 0.6991\n",
            "Epoch 47/100\n",
            "1959/1959 [==============================] - 3s 1ms/step - loss: 0.5649 - accuracy: 0.6994\n",
            "Epoch 48/100\n",
            "1959/1959 [==============================] - 3s 1ms/step - loss: 0.5627 - accuracy: 0.7017\n",
            "Epoch 49/100\n",
            "1959/1959 [==============================] - 3s 1ms/step - loss: 0.5629 - accuracy: 0.7002\n",
            "Epoch 50/100\n",
            "1959/1959 [==============================] - 3s 1ms/step - loss: 0.5622 - accuracy: 0.7015\n",
            "Epoch 51/100\n",
            "1959/1959 [==============================] - 3s 1ms/step - loss: 0.5611 - accuracy: 0.7034\n",
            "Epoch 52/100\n",
            "1959/1959 [==============================] - 3s 2ms/step - loss: 0.5608 - accuracy: 0.7041\n",
            "Epoch 53/100\n",
            "1959/1959 [==============================] - 3s 2ms/step - loss: 0.5595 - accuracy: 0.7031\n",
            "Epoch 54/100\n",
            "1959/1959 [==============================] - 3s 2ms/step - loss: 0.5588 - accuracy: 0.7038\n",
            "Epoch 55/100\n",
            "1959/1959 [==============================] - 3s 2ms/step - loss: 0.5573 - accuracy: 0.7053\n",
            "Epoch 56/100\n",
            "1959/1959 [==============================] - 3s 1ms/step - loss: 0.5570 - accuracy: 0.7055\n",
            "Epoch 57/100\n",
            "1959/1959 [==============================] - 3s 1ms/step - loss: 0.5565 - accuracy: 0.7067\n",
            "Epoch 58/100\n",
            "1959/1959 [==============================] - 4s 2ms/step - loss: 0.5555 - accuracy: 0.7062\n",
            "Epoch 59/100\n",
            "1959/1959 [==============================] - 4s 2ms/step - loss: 0.5568 - accuracy: 0.7043\n",
            "Epoch 60/100\n",
            "1959/1959 [==============================] - 3s 1ms/step - loss: 0.5547 - accuracy: 0.7070\n",
            "Epoch 61/100\n",
            "1959/1959 [==============================] - 3s 1ms/step - loss: 0.5540 - accuracy: 0.7073\n",
            "Epoch 62/100\n",
            "1959/1959 [==============================] - 3s 1ms/step - loss: 0.5530 - accuracy: 0.7080\n",
            "Epoch 63/100\n",
            "1959/1959 [==============================] - 3s 1ms/step - loss: 0.5525 - accuracy: 0.7085\n",
            "Epoch 64/100\n",
            "1959/1959 [==============================] - 3s 2ms/step - loss: 0.5513 - accuracy: 0.7085\n",
            "Epoch 65/100\n",
            "1959/1959 [==============================] - 3s 1ms/step - loss: 0.5502 - accuracy: 0.7091\n",
            "Epoch 66/100\n",
            "1959/1959 [==============================] - 3s 2ms/step - loss: 0.5509 - accuracy: 0.7094\n",
            "Epoch 67/100\n",
            "1959/1959 [==============================] - 3s 1ms/step - loss: 0.5491 - accuracy: 0.7118\n",
            "Epoch 68/100\n",
            "1959/1959 [==============================] - 3s 1ms/step - loss: 0.5505 - accuracy: 0.7098\n",
            "Epoch 69/100\n",
            "1959/1959 [==============================] - 3s 1ms/step - loss: 0.5481 - accuracy: 0.7121\n",
            "Epoch 70/100\n",
            "1959/1959 [==============================] - 3s 1ms/step - loss: 0.5484 - accuracy: 0.7113\n",
            "Epoch 71/100\n",
            "1959/1959 [==============================] - 3s 1ms/step - loss: 0.5468 - accuracy: 0.7127\n",
            "Epoch 72/100\n",
            "1959/1959 [==============================] - 3s 1ms/step - loss: 0.5470 - accuracy: 0.7105\n",
            "Epoch 73/100\n",
            "1959/1959 [==============================] - 3s 1ms/step - loss: 0.5457 - accuracy: 0.7119\n",
            "Epoch 74/100\n",
            "1959/1959 [==============================] - 3s 1ms/step - loss: 0.5449 - accuracy: 0.7138\n",
            "Epoch 75/100\n",
            "1959/1959 [==============================] - 3s 2ms/step - loss: 0.5446 - accuracy: 0.7143\n",
            "Epoch 76/100\n",
            "1959/1959 [==============================] - 3s 2ms/step - loss: 0.5439 - accuracy: 0.7136\n",
            "Epoch 77/100\n",
            "1959/1959 [==============================] - 3s 1ms/step - loss: 0.5451 - accuracy: 0.7123\n",
            "Epoch 78/100\n",
            "1959/1959 [==============================] - 3s 1ms/step - loss: 0.5440 - accuracy: 0.7129\n",
            "Epoch 79/100\n",
            "1959/1959 [==============================] - 3s 2ms/step - loss: 0.5422 - accuracy: 0.7156\n",
            "Epoch 80/100\n",
            "1959/1959 [==============================] - 3s 2ms/step - loss: 0.5424 - accuracy: 0.7149\n",
            "Epoch 81/100\n",
            "1959/1959 [==============================] - 3s 2ms/step - loss: 0.5420 - accuracy: 0.7151\n",
            "Epoch 82/100\n",
            "1959/1959 [==============================] - 3s 2ms/step - loss: 0.5419 - accuracy: 0.7158\n",
            "Epoch 83/100\n",
            "1959/1959 [==============================] - 3s 1ms/step - loss: 0.5405 - accuracy: 0.7146\n",
            "Epoch 84/100\n",
            "1959/1959 [==============================] - 3s 2ms/step - loss: 0.5398 - accuracy: 0.7156\n",
            "Epoch 85/100\n",
            "1959/1959 [==============================] - 3s 2ms/step - loss: 0.5394 - accuracy: 0.7176\n",
            "Epoch 86/100\n",
            "1959/1959 [==============================] - 3s 2ms/step - loss: 0.5384 - accuracy: 0.7181\n",
            "Epoch 87/100\n",
            "1959/1959 [==============================] - 3s 1ms/step - loss: 0.5374 - accuracy: 0.7172\n",
            "Epoch 88/100\n",
            "1959/1959 [==============================] - 3s 2ms/step - loss: 0.5373 - accuracy: 0.7189\n",
            "Epoch 89/100\n",
            "1959/1959 [==============================] - 3s 2ms/step - loss: 0.5361 - accuracy: 0.7192\n",
            "Epoch 90/100\n",
            "1959/1959 [==============================] - 4s 2ms/step - loss: 0.5363 - accuracy: 0.7189\n",
            "Epoch 91/100\n",
            "1959/1959 [==============================] - 3s 2ms/step - loss: 0.5362 - accuracy: 0.7176\n",
            "Epoch 92/100\n",
            "1959/1959 [==============================] - 3s 2ms/step - loss: 0.5358 - accuracy: 0.7199\n",
            "Epoch 93/100\n",
            "1959/1959 [==============================] - 3s 2ms/step - loss: 0.5344 - accuracy: 0.7201\n",
            "Epoch 94/100\n",
            "1959/1959 [==============================] - 3s 2ms/step - loss: 0.5334 - accuracy: 0.7200\n",
            "Epoch 95/100\n",
            "1959/1959 [==============================] - 3s 2ms/step - loss: 0.5346 - accuracy: 0.7193\n",
            "Epoch 96/100\n",
            "1959/1959 [==============================] - 3s 1ms/step - loss: 0.5334 - accuracy: 0.7192\n",
            "Epoch 97/100\n",
            "1959/1959 [==============================] - 3s 2ms/step - loss: 0.5329 - accuracy: 0.7207\n",
            "Epoch 98/100\n",
            "1959/1959 [==============================] - 3s 2ms/step - loss: 0.5320 - accuracy: 0.7204\n",
            "Epoch 99/100\n",
            "1959/1959 [==============================] - 3s 2ms/step - loss: 0.5314 - accuracy: 0.7212\n",
            "Epoch 100/100\n",
            "1959/1959 [==============================] - 3s 1ms/step - loss: 0.5310 - accuracy: 0.7222\n"
          ],
          "name": "stdout"
        },
        {
          "output_type": "execute_result",
          "data": {
            "text/plain": [
              "<tensorflow.python.keras.callbacks.History at 0x7fe9b1f29eb8>"
            ]
          },
          "metadata": {
            "tags": []
          },
          "execution_count": 30
        }
      ]
    },
    {
      "cell_type": "code",
      "metadata": {
        "id": "g8rgl-pUgb9-"
      },
      "source": [
        "predY = model.predict(Xtest)\n",
        "y_pred_class = np.argmax(predY,axis=1)"
      ],
      "execution_count": 31,
      "outputs": []
    },
    {
      "cell_type": "code",
      "metadata": {
        "id": "NVCQcW3AV3cV",
        "outputId": "8734cb9d-7425-4e25-abfc-35923ebfdb9d",
        "colab": {
          "base_uri": "https://localhost:8080/"
        }
      },
      "source": [
        "from sklearn.metrics import classification_report,confusion_matrix\n",
        "cm1=(confusion_matrix(testY,y_pred_class))\n",
        "print('Confusion Matrix : \\n', cm1)\n",
        "total1=sum(sum(cm1))\n",
        "\n",
        "accuracy1=(cm1[0,0]+cm1[1,1])/total1\n",
        "print ('Accuracy : ', accuracy1)\n",
        "\n",
        "sensitivity1 = cm1[0,0]/(cm1[0,0]+cm1[0,1])\n",
        "print('Sensitivity : ', sensitivity1 )\n",
        "\n",
        "specificity1 = cm1[1,1]/(cm1[1,0]+cm1[1,1])\n",
        "print('Specificity : ', specificity1)"
      ],
      "execution_count": 32,
      "outputs": [
        {
          "output_type": "stream",
          "text": [
            "Confusion Matrix : \n",
            " [[5204 2495]\n",
            " [1994 5975]]\n",
            "Accuracy :  0.7134924687260659\n",
            "Sensitivity :  0.6759319392128847\n",
            "Specificity :  0.7497803990463044\n"
          ],
          "name": "stdout"
        }
      ]
    },
    {
      "cell_type": "code",
      "metadata": {
        "id": "Qw5nUCDuiDD6",
        "outputId": "6040bfe6-8221-4c1a-8ea4-f45991a38678",
        "colab": {
          "base_uri": "https://localhost:8080/"
        }
      },
      "source": [
        "print(classification_report(testY,y_pred_class))"
      ],
      "execution_count": 33,
      "outputs": [
        {
          "output_type": "stream",
          "text": [
            "              precision    recall  f1-score   support\n",
            "\n",
            "           0       0.72      0.68      0.70      7699\n",
            "           1       0.71      0.75      0.73      7969\n",
            "\n",
            "    accuracy                           0.71     15668\n",
            "   macro avg       0.71      0.71      0.71     15668\n",
            "weighted avg       0.71      0.71      0.71     15668\n",
            "\n"
          ],
          "name": "stdout"
        }
      ]
    },
    {
      "cell_type": "code",
      "metadata": {
        "id": "alPrjHyB-1X8",
        "outputId": "c7e010aa-b272-49b6-9051-e2b33a1d8077",
        "colab": {
          "base_uri": "https://localhost:8080/"
        }
      },
      "source": [
        "import sklearn.metrics as metrics\n",
        "#AUC\n",
        "artificialNeuralNetworkauc = metrics.roc_auc_score(testY , y_pred_class)\n",
        "artificialNeuralNetworkauc"
      ],
      "execution_count": 34,
      "outputs": [
        {
          "output_type": "execute_result",
          "data": {
            "text/plain": [
              "0.7128561691295946"
            ]
          },
          "metadata": {
            "tags": []
          },
          "execution_count": 34
        }
      ]
    },
    {
      "cell_type": "markdown",
      "metadata": {
        "id": "aMtGELS-IHWv"
      },
      "source": [
        "## Probabilistic Neural Network"
      ]
    },
    {
      "cell_type": "code",
      "metadata": {
        "id": "nzNVPFI6qGOi",
        "outputId": "c1f66734-50f4-49d5-b802-7a9fb16ebb25",
        "colab": {
          "base_uri": "https://localhost:8080/",
          "height": 1000
        }
      },
      "source": [
        "!pip install neupy"
      ],
      "execution_count": 36,
      "outputs": [
        {
          "output_type": "stream",
          "text": [
            "Collecting neupy\n",
            "\u001b[?25l  Downloading https://files.pythonhosted.org/packages/21/be/19082cbe9a6c76dd909255341587f0b487cd3e9d32d44debda013d2accd1/neupy-0.8.2-py2.py3-none-any.whl (226kB)\n",
            "\r\u001b[K     |█▌                              | 10kB 15.5MB/s eta 0:00:01\r\u001b[K     |███                             | 20kB 20.2MB/s eta 0:00:01\r\u001b[K     |████▍                           | 30kB 18.6MB/s eta 0:00:01\r\u001b[K     |█████▉                          | 40kB 9.7MB/s eta 0:00:01\r\u001b[K     |███████▎                        | 51kB 7.5MB/s eta 0:00:01\r\u001b[K     |████████▊                       | 61kB 7.6MB/s eta 0:00:01\r\u001b[K     |██████████▏                     | 71kB 8.0MB/s eta 0:00:01\r\u001b[K     |███████████▋                    | 81kB 8.6MB/s eta 0:00:01\r\u001b[K     |█████████████                   | 92kB 8.8MB/s eta 0:00:01\r\u001b[K     |██████████████▌                 | 102kB 8.6MB/s eta 0:00:01\r\u001b[K     |████████████████                | 112kB 8.6MB/s eta 0:00:01\r\u001b[K     |█████████████████▍              | 122kB 8.6MB/s eta 0:00:01\r\u001b[K     |██████████████████▉             | 133kB 8.6MB/s eta 0:00:01\r\u001b[K     |████████████████████▎           | 143kB 8.6MB/s eta 0:00:01\r\u001b[K     |█████████████████████▊          | 153kB 8.6MB/s eta 0:00:01\r\u001b[K     |███████████████████████▏        | 163kB 8.6MB/s eta 0:00:01\r\u001b[K     |████████████████████████▋       | 174kB 8.6MB/s eta 0:00:01\r\u001b[K     |██████████████████████████      | 184kB 8.6MB/s eta 0:00:01\r\u001b[K     |███████████████████████████▌    | 194kB 8.6MB/s eta 0:00:01\r\u001b[K     |█████████████████████████████   | 204kB 8.6MB/s eta 0:00:01\r\u001b[K     |██████████████████████████████▍ | 215kB 8.6MB/s eta 0:00:01\r\u001b[K     |███████████████████████████████▉| 225kB 8.6MB/s eta 0:00:01\r\u001b[K     |████████████████████████████████| 235kB 8.6MB/s \n",
            "\u001b[?25hRequirement already satisfied: h5py in /usr/local/lib/python3.6/dist-packages (from neupy) (2.10.0)\n",
            "Collecting progressbar2==3.34.3\n",
            "  Downloading https://files.pythonhosted.org/packages/87/31/b984e17bcc7491c1baeda3906fe3abc14cb5cd5dbd046ab46d9fc7a2edfd/progressbar2-3.34.3-py2.py3-none-any.whl\n",
            "Requirement already satisfied: scipy>=0.19.0 in /usr/local/lib/python3.6/dist-packages (from neupy) (1.4.1)\n",
            "Collecting tensorflow<1.14.0,>=1.10.1\n",
            "\u001b[?25l  Downloading https://files.pythonhosted.org/packages/db/d3/651f95288a6cd9094f7411cdd90ef12a3d01a268009e0e3cd66b5c8d65bd/tensorflow-1.13.2-cp36-cp36m-manylinux1_x86_64.whl (92.6MB)\n",
            "\u001b[K     |████████████████████████████████| 92.6MB 91kB/s \n",
            "\u001b[?25hCollecting graphviz==0.5.1\n",
            "  Downloading https://files.pythonhosted.org/packages/55/8d/18e45d3f57adfde20ac831a5ba7144b9e643185e05eb0a02b6f22d076752/graphviz-0.5.1-py2.py3-none-any.whl\n",
            "Requirement already satisfied: numpy>=1.13.3 in /usr/local/lib/python3.6/dist-packages (from neupy) (1.18.5)\n",
            "Requirement already satisfied: matplotlib>=1.5.1 in /usr/local/lib/python3.6/dist-packages (from neupy) (3.2.2)\n",
            "Requirement already satisfied: six in /usr/local/lib/python3.6/dist-packages (from h5py->neupy) (1.15.0)\n",
            "Requirement already satisfied: python-utils>=2.1.0 in /usr/local/lib/python3.6/dist-packages (from progressbar2==3.34.3->neupy) (2.4.0)\n",
            "Collecting keras-applications>=1.0.6\n",
            "\u001b[?25l  Downloading https://files.pythonhosted.org/packages/71/e3/19762fdfc62877ae9102edf6342d71b28fbfd9dea3d2f96a882ce099b03f/Keras_Applications-1.0.8-py3-none-any.whl (50kB)\n",
            "\u001b[K     |████████████████████████████████| 51kB 6.6MB/s \n",
            "\u001b[?25hRequirement already satisfied: protobuf>=3.6.1 in /usr/local/lib/python3.6/dist-packages (from tensorflow<1.14.0,>=1.10.1->neupy) (3.12.4)\n",
            "Requirement already satisfied: grpcio>=1.8.6 in /usr/local/lib/python3.6/dist-packages (from tensorflow<1.14.0,>=1.10.1->neupy) (1.33.2)\n",
            "Requirement already satisfied: absl-py>=0.1.6 in /usr/local/lib/python3.6/dist-packages (from tensorflow<1.14.0,>=1.10.1->neupy) (0.10.0)\n",
            "Requirement already satisfied: astor>=0.6.0 in /usr/local/lib/python3.6/dist-packages (from tensorflow<1.14.0,>=1.10.1->neupy) (0.8.1)\n",
            "Requirement already satisfied: gast>=0.2.0 in /usr/local/lib/python3.6/dist-packages (from tensorflow<1.14.0,>=1.10.1->neupy) (0.3.3)\n",
            "Requirement already satisfied: keras-preprocessing>=1.0.5 in /usr/local/lib/python3.6/dist-packages (from tensorflow<1.14.0,>=1.10.1->neupy) (1.1.2)\n",
            "Collecting tensorflow-estimator<1.14.0rc0,>=1.13.0\n",
            "\u001b[?25l  Downloading https://files.pythonhosted.org/packages/bb/48/13f49fc3fa0fdf916aa1419013bb8f2ad09674c275b4046d5ee669a46873/tensorflow_estimator-1.13.0-py2.py3-none-any.whl (367kB)\n",
            "\u001b[K     |████████████████████████████████| 368kB 43.7MB/s \n",
            "\u001b[?25hRequirement already satisfied: termcolor>=1.1.0 in /usr/local/lib/python3.6/dist-packages (from tensorflow<1.14.0,>=1.10.1->neupy) (1.1.0)\n",
            "Requirement already satisfied: wheel>=0.26 in /usr/local/lib/python3.6/dist-packages (from tensorflow<1.14.0,>=1.10.1->neupy) (0.35.1)\n",
            "Collecting tensorboard<1.14.0,>=1.13.0\n",
            "\u001b[?25l  Downloading https://files.pythonhosted.org/packages/0f/39/bdd75b08a6fba41f098b6cb091b9e8c7a80e1b4d679a581a0ccd17b10373/tensorboard-1.13.1-py3-none-any.whl (3.2MB)\n",
            "\u001b[K     |████████████████████████████████| 3.2MB 43.9MB/s \n",
            "\u001b[?25hRequirement already satisfied: cycler>=0.10 in /usr/local/lib/python3.6/dist-packages (from matplotlib>=1.5.1->neupy) (0.10.0)\n",
            "Requirement already satisfied: python-dateutil>=2.1 in /usr/local/lib/python3.6/dist-packages (from matplotlib>=1.5.1->neupy) (2.8.1)\n",
            "Requirement already satisfied: kiwisolver>=1.0.1 in /usr/local/lib/python3.6/dist-packages (from matplotlib>=1.5.1->neupy) (1.3.1)\n",
            "Requirement already satisfied: pyparsing!=2.0.4,!=2.1.2,!=2.1.6,>=2.0.1 in /usr/local/lib/python3.6/dist-packages (from matplotlib>=1.5.1->neupy) (2.4.7)\n",
            "Requirement already satisfied: setuptools in /usr/local/lib/python3.6/dist-packages (from protobuf>=3.6.1->tensorflow<1.14.0,>=1.10.1->neupy) (50.3.2)\n",
            "Collecting mock>=2.0.0\n",
            "  Downloading https://files.pythonhosted.org/packages/cd/74/d72daf8dff5b6566db857cfd088907bb0355f5dd2914c4b3ef065c790735/mock-4.0.2-py3-none-any.whl\n",
            "Requirement already satisfied: werkzeug>=0.11.15 in /usr/local/lib/python3.6/dist-packages (from tensorboard<1.14.0,>=1.13.0->tensorflow<1.14.0,>=1.10.1->neupy) (1.0.1)\n",
            "Requirement already satisfied: markdown>=2.6.8 in /usr/local/lib/python3.6/dist-packages (from tensorboard<1.14.0,>=1.13.0->tensorflow<1.14.0,>=1.10.1->neupy) (3.3.3)\n",
            "Requirement already satisfied: importlib-metadata; python_version < \"3.8\" in /usr/local/lib/python3.6/dist-packages (from markdown>=2.6.8->tensorboard<1.14.0,>=1.13.0->tensorflow<1.14.0,>=1.10.1->neupy) (2.0.0)\n",
            "Requirement already satisfied: zipp>=0.5 in /usr/local/lib/python3.6/dist-packages (from importlib-metadata; python_version < \"3.8\"->markdown>=2.6.8->tensorboard<1.14.0,>=1.13.0->tensorflow<1.14.0,>=1.10.1->neupy) (3.4.0)\n",
            "Installing collected packages: progressbar2, keras-applications, mock, tensorflow-estimator, tensorboard, tensorflow, graphviz, neupy\n",
            "  Found existing installation: progressbar2 3.38.0\n",
            "    Uninstalling progressbar2-3.38.0:\n",
            "      Successfully uninstalled progressbar2-3.38.0\n",
            "  Found existing installation: tensorflow-estimator 2.2.0\n",
            "    Uninstalling tensorflow-estimator-2.2.0:\n",
            "      Successfully uninstalled tensorflow-estimator-2.2.0\n",
            "  Found existing installation: tensorboard 2.2.2\n",
            "    Uninstalling tensorboard-2.2.2:\n",
            "      Successfully uninstalled tensorboard-2.2.2\n",
            "  Found existing installation: tensorflow 2.2.0\n",
            "    Uninstalling tensorflow-2.2.0:\n",
            "      Successfully uninstalled tensorflow-2.2.0\n",
            "  Found existing installation: graphviz 0.10.1\n",
            "    Uninstalling graphviz-0.10.1:\n",
            "      Successfully uninstalled graphviz-0.10.1\n",
            "Successfully installed graphviz-0.5.1 keras-applications-1.0.8 mock-4.0.2 neupy-0.8.2 progressbar2-3.34.3 tensorboard-1.13.1 tensorflow-1.13.2 tensorflow-estimator-1.13.0\n"
          ],
          "name": "stdout"
        },
        {
          "output_type": "display_data",
          "data": {
            "application/vnd.colab-display-data+json": {
              "pip_warning": {
                "packages": [
                  "tensorboard",
                  "tensorflow"
                ]
              }
            }
          },
          "metadata": {
            "tags": []
          }
        }
      ]
    },
    {
      "cell_type": "code",
      "metadata": {
        "id": "QQn6Mki3IHWv"
      },
      "source": [
        "from neupy import algorithms\n",
        "from sklearn import metrics"
      ],
      "execution_count": 38,
      "outputs": []
    },
    {
      "cell_type": "code",
      "metadata": {
        "id": "MkyEj5ORsNIr",
        "outputId": "eab4c374-744a-43bf-9211-cd4dc0f566ae",
        "colab": {
          "base_uri": "https://localhost:8080/"
        }
      },
      "source": [
        "pnn = algorithms.PNN(std=10,verbose=True)\n",
        "pnn.train(Xtrain,trainY)"
      ],
      "execution_count": 39,
      "outputs": [
        {
          "output_type": "stream",
          "text": [
            "\n",
            "Main information\n",
            "\n",
            "[ALGORITHM] PNN\n",
            "\r\n",
            "[OPTION] batch_size = 128\n",
            "[OPTION] std = 10\n",
            "[OPTION] verbose = True\n",
            "\r\n"
          ],
          "name": "stdout"
        }
      ]
    },
    {
      "cell_type": "code",
      "metadata": {
        "id": "82oCXHwjuRYs",
        "outputId": "33ab46b7-7e34-4604-d72a-7cd0c5f68c8b",
        "colab": {
          "base_uri": "https://localhost:8080/"
        }
      },
      "source": [
        "pred=pnn.predict(Xtest)\n",
        "prob=pnn.predict_proba(Xtest)\n",
        "print(pred)"
      ],
      "execution_count": 40,
      "outputs": [
        {
          "output_type": "stream",
          "text": [
            "Time: 0:05:18 | 99%|########################################### | ETA:  0:00:02"
          ],
          "name": "stderr"
        },
        {
          "output_type": "stream",
          "text": [
            "[1 1 1 ... 1 1 0]\n"
          ],
          "name": "stdout"
        },
        {
          "output_type": "stream",
          "text": [
            "\r                                                                               \r"
          ],
          "name": "stderr"
        }
      ]
    },
    {
      "cell_type": "code",
      "metadata": {
        "id": "RFFbRm1QsNBN",
        "outputId": "4a38d819-35f6-41b3-f6ca-b25a82ac6f0d",
        "colab": {
          "base_uri": "https://localhost:8080/"
        }
      },
      "source": [
        "y_pred = pnn.predict(testX)"
      ],
      "execution_count": 41,
      "outputs": [
        {
          "output_type": "stream",
          "text": [
            ""
          ],
          "name": "stderr"
        }
      ]
    },
    {
      "cell_type": "code",
      "metadata": {
        "id": "d3eQ4NWZBt_P",
        "outputId": "4a36f5b9-d099-4489-b2cd-a8b36eb588ed",
        "colab": {
          "base_uri": "https://localhost:8080/"
        }
      },
      "source": [
        "from sklearn.metrics import classification_report,confusion_matrix\n",
        "cm1=(confusion_matrix(testY,y_pred))\n",
        "print('Confusion Matrix : \\n', cm1)\n",
        "total1=sum(sum(cm1))\n",
        "\n",
        "accuracy1=(cm1[0,0]+cm1[1,1])/total1\n",
        "print ('Accuracy : ', accuracy1)\n",
        "\n",
        "sensitivity1 = cm1[0,0]/(cm1[0,0]+cm1[0,1])\n",
        "print('Sensitivity : ', sensitivity1 )\n",
        "\n",
        "specificity1 = cm1[1,1]/(cm1[1,0]+cm1[1,1])\n",
        "print('Specificity : ', specificity1)"
      ],
      "execution_count": 42,
      "outputs": [
        {
          "output_type": "stream",
          "text": [
            "Confusion Matrix : \n",
            " [[6347 1352]\n",
            " [6734 1235]]\n",
            "Accuracy :  0.4839162624457493\n",
            "Sensitivity :  0.8243927782828939\n",
            "Specificity :  0.15497553017944535\n"
          ],
          "name": "stdout"
        }
      ]
    },
    {
      "cell_type": "code",
      "metadata": {
        "id": "OtQ7kQ1cTHCA",
        "outputId": "d3af8b0a-158c-4f21-9805-48d9f5f2c0fa",
        "colab": {
          "base_uri": "https://localhost:8080/"
        }
      },
      "source": [
        "print(classification_report(testY,y_pred))"
      ],
      "execution_count": 43,
      "outputs": [
        {
          "output_type": "stream",
          "text": [
            "              precision    recall  f1-score   support\n",
            "\n",
            "           0       0.49      0.82      0.61      7699\n",
            "           1       0.48      0.15      0.23      7969\n",
            "\n",
            "    accuracy                           0.48     15668\n",
            "   macro avg       0.48      0.49      0.42     15668\n",
            "weighted avg       0.48      0.48      0.42     15668\n",
            "\n"
          ],
          "name": "stdout"
        }
      ]
    },
    {
      "cell_type": "code",
      "metadata": {
        "id": "kznhWcay_FM_",
        "outputId": "08dd5be5-beba-479c-ce63-12c19ce6b58f",
        "colab": {
          "base_uri": "https://localhost:8080/"
        }
      },
      "source": [
        "import sklearn.metrics as metrics\n",
        "#AUC\n",
        "probablisticNeuralNetworkauc = metrics.roc_auc_score(testY , y_pred)\n",
        "probablisticNeuralNetworkauc"
      ],
      "execution_count": 44,
      "outputs": [
        {
          "output_type": "execute_result",
          "data": {
            "text/plain": [
              "0.4896841542311696"
            ]
          },
          "metadata": {
            "tags": []
          },
          "execution_count": 44
        }
      ]
    },
    {
      "cell_type": "markdown",
      "metadata": {
        "id": "twzD3FZO_KQZ"
      },
      "source": [
        "**Comparing all the auc scores:**"
      ]
    },
    {
      "cell_type": "code",
      "metadata": {
        "id": "taPFIA8b_P3G",
        "outputId": "b8c89156-08b2-49d1-a057-b0ee70ebdf80",
        "colab": {
          "base_uri": "https://localhost:8080/"
        }
      },
      "source": [
        "print('random forest', randomforestauc)\n",
        "print('Support Vector Machines', supportVectorMachineauc)\n",
        "print('Artificial Neural Network', artificialNeuralNetworkauc)\n",
        "print('Probablistic Neural Network', probablisticNeuralNetworkauc)"
      ],
      "execution_count": 45,
      "outputs": [
        {
          "output_type": "stream",
          "text": [
            "random forest 0.9727237303545915\n",
            "Support Vector Machines 0.5420334146160704\n",
            "Artificial Neural Network 0.7128561691295946\n",
            "Probablistic Neural Network 0.4896841542311696\n"
          ],
          "name": "stdout"
        }
      ]
    },
    {
      "cell_type": "code",
      "metadata": {
        "id": "OMU7X_KP_TpH",
        "outputId": "97636bb6-fbeb-4338-c572-86c11ed978e8",
        "colab": {
          "base_uri": "https://localhost:8080/"
        }
      },
      "source": [
        "print('best result is:' )\n",
        "print(max(randomforestauc, supportVectorMachineauc, artificialNeuralNetworkauc, probablisticNeuralNetworkauc))"
      ],
      "execution_count": 46,
      "outputs": [
        {
          "output_type": "stream",
          "text": [
            "best result is:\n",
            "0.9727237303545915\n"
          ],
          "name": "stdout"
        }
      ]
    }
  ]
}