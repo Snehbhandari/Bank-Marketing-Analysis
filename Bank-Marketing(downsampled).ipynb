{
  "nbformat": 4,
  "nbformat_minor": 0,
  "metadata": {
    "kernelspec": {
      "display_name": "Python 3",
      "language": "python",
      "name": "python3"
    },
    "language_info": {
      "codemirror_mode": {
        "name": "ipython",
        "version": 3
      },
      "file_extension": ".py",
      "mimetype": "text/x-python",
      "name": "python",
      "nbconvert_exporter": "python",
      "pygments_lexer": "ipython3",
      "version": "3.8.3"
    },
    "colab": {
      "name": "DL_Project_downsample.ipynb",
      "provenance": [],
      "collapsed_sections": [],
      "toc_visible": true
    }
  },
  "cells": [
    {
      "cell_type": "code",
      "metadata": {
        "id": "UkhxEQZ3IHWn"
      },
      "source": [
        "#importing libraries\n",
        "import pandas as pd\n",
        "import numpy as np\n",
        "import seaborn as sns\n",
        "import matplotlib.pyplot as plt\n",
        "%matplotlib inline\n",
        "from sklearn.preprocessing import MinMaxScaler, StandardScaler"
      ],
      "execution_count": null,
      "outputs": []
    },
    {
      "cell_type": "code",
      "metadata": {
        "id": "cl5s7ScxIHWo"
      },
      "source": [
        "#importing the dataset\n",
        "data=pd.read_csv(\"/content/bank-full.csv\",sep=';')\n"
      ],
      "execution_count": null,
      "outputs": []
    },
    {
      "cell_type": "code",
      "metadata": {
        "colab": {
          "base_uri": "https://localhost:8080/"
        },
        "id": "oVnhRHtAjUF1",
        "outputId": "bcc3ac90-6b85-4845-c232-773119d80391"
      },
      "source": [
        "data.shape #Data contains 45211 rows and 17 columns "
      ],
      "execution_count": null,
      "outputs": [
        {
          "output_type": "execute_result",
          "data": {
            "text/plain": [
              "(45211, 17)"
            ]
          },
          "metadata": {
            "tags": []
          },
          "execution_count": 272
        }
      ]
    },
    {
      "cell_type": "code",
      "metadata": {
        "colab": {
          "base_uri": "https://localhost:8080/",
          "height": 195
        },
        "id": "JEMGpm5VjUF5",
        "outputId": "8f04fd05-2cd5-4a19-981d-5abcc3f038f9"
      },
      "source": [
        "data.head()"
      ],
      "execution_count": null,
      "outputs": [
        {
          "output_type": "execute_result",
          "data": {
            "text/html": [
              "<div>\n",
              "<style scoped>\n",
              "    .dataframe tbody tr th:only-of-type {\n",
              "        vertical-align: middle;\n",
              "    }\n",
              "\n",
              "    .dataframe tbody tr th {\n",
              "        vertical-align: top;\n",
              "    }\n",
              "\n",
              "    .dataframe thead th {\n",
              "        text-align: right;\n",
              "    }\n",
              "</style>\n",
              "<table border=\"1\" class=\"dataframe\">\n",
              "  <thead>\n",
              "    <tr style=\"text-align: right;\">\n",
              "      <th></th>\n",
              "      <th>age</th>\n",
              "      <th>job</th>\n",
              "      <th>marital</th>\n",
              "      <th>education</th>\n",
              "      <th>default</th>\n",
              "      <th>balance</th>\n",
              "      <th>housing</th>\n",
              "      <th>loan</th>\n",
              "      <th>contact</th>\n",
              "      <th>day</th>\n",
              "      <th>month</th>\n",
              "      <th>duration</th>\n",
              "      <th>campaign</th>\n",
              "      <th>pdays</th>\n",
              "      <th>previous</th>\n",
              "      <th>poutcome</th>\n",
              "      <th>y</th>\n",
              "    </tr>\n",
              "  </thead>\n",
              "  <tbody>\n",
              "    <tr>\n",
              "      <th>0</th>\n",
              "      <td>58</td>\n",
              "      <td>management</td>\n",
              "      <td>married</td>\n",
              "      <td>tertiary</td>\n",
              "      <td>no</td>\n",
              "      <td>2143</td>\n",
              "      <td>yes</td>\n",
              "      <td>no</td>\n",
              "      <td>unknown</td>\n",
              "      <td>5</td>\n",
              "      <td>may</td>\n",
              "      <td>261</td>\n",
              "      <td>1</td>\n",
              "      <td>-1</td>\n",
              "      <td>0</td>\n",
              "      <td>unknown</td>\n",
              "      <td>no</td>\n",
              "    </tr>\n",
              "    <tr>\n",
              "      <th>1</th>\n",
              "      <td>44</td>\n",
              "      <td>technician</td>\n",
              "      <td>single</td>\n",
              "      <td>secondary</td>\n",
              "      <td>no</td>\n",
              "      <td>29</td>\n",
              "      <td>yes</td>\n",
              "      <td>no</td>\n",
              "      <td>unknown</td>\n",
              "      <td>5</td>\n",
              "      <td>may</td>\n",
              "      <td>151</td>\n",
              "      <td>1</td>\n",
              "      <td>-1</td>\n",
              "      <td>0</td>\n",
              "      <td>unknown</td>\n",
              "      <td>no</td>\n",
              "    </tr>\n",
              "    <tr>\n",
              "      <th>2</th>\n",
              "      <td>33</td>\n",
              "      <td>entrepreneur</td>\n",
              "      <td>married</td>\n",
              "      <td>secondary</td>\n",
              "      <td>no</td>\n",
              "      <td>2</td>\n",
              "      <td>yes</td>\n",
              "      <td>yes</td>\n",
              "      <td>unknown</td>\n",
              "      <td>5</td>\n",
              "      <td>may</td>\n",
              "      <td>76</td>\n",
              "      <td>1</td>\n",
              "      <td>-1</td>\n",
              "      <td>0</td>\n",
              "      <td>unknown</td>\n",
              "      <td>no</td>\n",
              "    </tr>\n",
              "    <tr>\n",
              "      <th>3</th>\n",
              "      <td>47</td>\n",
              "      <td>blue-collar</td>\n",
              "      <td>married</td>\n",
              "      <td>unknown</td>\n",
              "      <td>no</td>\n",
              "      <td>1506</td>\n",
              "      <td>yes</td>\n",
              "      <td>no</td>\n",
              "      <td>unknown</td>\n",
              "      <td>5</td>\n",
              "      <td>may</td>\n",
              "      <td>92</td>\n",
              "      <td>1</td>\n",
              "      <td>-1</td>\n",
              "      <td>0</td>\n",
              "      <td>unknown</td>\n",
              "      <td>no</td>\n",
              "    </tr>\n",
              "    <tr>\n",
              "      <th>4</th>\n",
              "      <td>33</td>\n",
              "      <td>unknown</td>\n",
              "      <td>single</td>\n",
              "      <td>unknown</td>\n",
              "      <td>no</td>\n",
              "      <td>1</td>\n",
              "      <td>no</td>\n",
              "      <td>no</td>\n",
              "      <td>unknown</td>\n",
              "      <td>5</td>\n",
              "      <td>may</td>\n",
              "      <td>198</td>\n",
              "      <td>1</td>\n",
              "      <td>-1</td>\n",
              "      <td>0</td>\n",
              "      <td>unknown</td>\n",
              "      <td>no</td>\n",
              "    </tr>\n",
              "  </tbody>\n",
              "</table>\n",
              "</div>"
            ],
            "text/plain": [
              "   age           job  marital  education  ... pdays  previous poutcome   y\n",
              "0   58    management  married   tertiary  ...    -1         0  unknown  no\n",
              "1   44    technician   single  secondary  ...    -1         0  unknown  no\n",
              "2   33  entrepreneur  married  secondary  ...    -1         0  unknown  no\n",
              "3   47   blue-collar  married    unknown  ...    -1         0  unknown  no\n",
              "4   33       unknown   single    unknown  ...    -1         0  unknown  no\n",
              "\n",
              "[5 rows x 17 columns]"
            ]
          },
          "metadata": {
            "tags": []
          },
          "execution_count": 273
        }
      ]
    },
    {
      "cell_type": "markdown",
      "metadata": {
        "id": "XtbyPdg4qmRG"
      },
      "source": [
        "#Data PreProcessing"
      ]
    },
    {
      "cell_type": "markdown",
      "metadata": {
        "id": "LdXtNfZ5jcLj"
      },
      "source": [
        "##Removing NULL Values"
      ]
    },
    {
      "cell_type": "code",
      "metadata": {
        "id": "rlO96oLRLFUF",
        "colab": {
          "base_uri": "https://localhost:8080/"
        },
        "outputId": "d9f95cf8-fde0-4c3e-c60a-203e35523caf"
      },
      "source": [
        "data = data.replace('unknown', np.nan)\n",
        "data=data.replace('other',np.nan)\n",
        "data.isna().sum() #There are null values"
      ],
      "execution_count": null,
      "outputs": [
        {
          "output_type": "execute_result",
          "data": {
            "text/plain": [
              "age              0\n",
              "job            288\n",
              "marital          0\n",
              "education     1857\n",
              "default          0\n",
              "balance          0\n",
              "housing          0\n",
              "loan             0\n",
              "contact      13020\n",
              "day              0\n",
              "month            0\n",
              "duration         0\n",
              "campaign         0\n",
              "pdays            0\n",
              "previous         0\n",
              "poutcome     38799\n",
              "y                0\n",
              "dtype: int64"
            ]
          },
          "metadata": {
            "tags": []
          },
          "execution_count": 274
        }
      ]
    },
    {
      "cell_type": "code",
      "metadata": {
        "id": "1NxzikicLeLK"
      },
      "source": [
        "data.drop('contact', inplace=True, axis=1)\n",
        "data.drop('poutcome', inplace=True, axis=1)\n",
        "data.drop('duration',inplace=True, axis=1) #We have dropped the 'duration' variable as the value of the variable will only be known at the end of the call. Hence, at that time we will also know the outcome of the call.\n",
        "data=data.dropna()\n",
        "data=data.drop_duplicates()"
      ],
      "execution_count": null,
      "outputs": []
    },
    {
      "cell_type": "code",
      "metadata": {
        "id": "Ua7-y59PIHWp",
        "colab": {
          "base_uri": "https://localhost:8080/"
        },
        "outputId": "5ff2a4fe-4e94-4d88-d51f-f91d25562bdf"
      },
      "source": [
        "data.shape #43172 rows and 14 columns\n"
      ],
      "execution_count": null,
      "outputs": [
        {
          "output_type": "execute_result",
          "data": {
            "text/plain": [
              "(43172, 14)"
            ]
          },
          "metadata": {
            "tags": []
          },
          "execution_count": 276
        }
      ]
    },
    {
      "cell_type": "code",
      "metadata": {
        "colab": {
          "base_uri": "https://localhost:8080/",
          "height": 128
        },
        "id": "TsVc6WeywFtl",
        "outputId": "3ea91cd8-4b27-49cb-93d1-9634816af6fc"
      },
      "source": [
        ""
      ],
      "execution_count": null,
      "outputs": [
        {
          "output_type": "error",
          "ename": "SyntaxError",
          "evalue": "ignored",
          "traceback": [
            "\u001b[0;36m  File \u001b[0;32m\"<ipython-input-279-452bd46606b4>\"\u001b[0;36m, line \u001b[0;32m1\u001b[0m\n\u001b[0;31m    dataset = data.groupby('y')data.[month].mean()\u001b[0m\n\u001b[0m                                  ^\u001b[0m\n\u001b[0;31mSyntaxError\u001b[0m\u001b[0;31m:\u001b[0m invalid syntax\n"
          ]
        }
      ]
    },
    {
      "cell_type": "markdown",
      "metadata": {
        "id": "A8v_nbkigR97"
      },
      "source": [
        "**Correlation Plot**"
      ]
    },
    {
      "cell_type": "code",
      "metadata": {
        "id": "bXKBA0v_gR98"
      },
      "source": [
        "corrdata = data.corr()\n",
        "ax,fig = plt.subplots(figsize=(15,8))\n",
        "sns.heatmap(corrdata,annot=True)"
      ],
      "execution_count": null,
      "outputs": []
    },
    {
      "cell_type": "code",
      "metadata": {
        "id": "zo5vE2uq3P7p"
      },
      "source": [
        "numerical_variables = ['age','balance','day','campaign','pdays','previous']\n",
        "data.hist(column=numerical_variables,figsize=(10,10))\n",
        "plt.subplots_adjust(wspace = 0.5, hspace = 0.5)\n",
        "plt.show()"
      ],
      "execution_count": null,
      "outputs": []
    },
    {
      "cell_type": "code",
      "metadata": {
        "id": "nWGy_EVjYfLQ"
      },
      "source": [
        "categorical_variables = ['job','marital', 'education', 'default', 'housing','loan', 'month', 'day','y']\n",
        "for col in categorical_variables:\n",
        "    plt.figure(figsize=(10,4))\n",
        "    sns.barplot(data[col].value_counts().values, data[col].value_counts().index)\n",
        "    plt.title(col)\n",
        "    plt.tight_layout()"
      ],
      "execution_count": null,
      "outputs": []
    },
    {
      "cell_type": "code",
      "metadata": {
        "id": "TWdfjAuktIBx"
      },
      "source": [
        "dataset = data.groupby('y')[month].mean()"
      ],
      "execution_count": null,
      "outputs": []
    },
    {
      "cell_type": "markdown",
      "metadata": {
        "id": "wfnBJTl5fmPt"
      },
      "source": [
        "##Handling Categorical Variables"
      ]
    },
    {
      "cell_type": "code",
      "metadata": {
        "id": "GWFGUmin6Aer"
      },
      "source": [
        "data['default'] = data['default'].map({'yes': -1,'no': 0})\n",
        "data['housing'] = data['housing'].map({'yes': 1,'no': 0})\n",
        "data['loan'] = data['loan'].map({'yes': 1,'no': 0})"
      ],
      "execution_count": null,
      "outputs": []
    },
    {
      "cell_type": "code",
      "metadata": {
        "id": "l1cr24rI6FuB"
      },
      "source": [
        "nominal = ['job','marital','education','month',]\n",
        "dataProcessed = pd.get_dummies(data,columns=nominal)\n",
        "dataProcessed['y']=dataProcessed['y'].map({'yes': 1,'no': 0})"
      ],
      "execution_count": null,
      "outputs": []
    },
    {
      "cell_type": "code",
      "metadata": {
        "id": "z8hfvvC7L1bw"
      },
      "source": [
        "data=dataProcessed\n",
        "data.head() #all values have been coverted to numerical values "
      ],
      "execution_count": null,
      "outputs": []
    },
    {
      "cell_type": "code",
      "metadata": {
        "id": "NpA4FrHL7FQo"
      },
      "source": [
        "data.shape #43172 rows and 39 columns"
      ],
      "execution_count": null,
      "outputs": []
    },
    {
      "cell_type": "markdown",
      "metadata": {
        "id": "P35puMHjkRw1"
      },
      "source": [
        "##Downscaling the Dataset"
      ]
    },
    {
      "cell_type": "code",
      "metadata": {
        "id": "trBB_NLdbHrW"
      },
      "source": [
        "data1 = data[data['y']==0]\n",
        "data2 = data[data['y']==1]\n",
        "data1.shape"
      ],
      "execution_count": null,
      "outputs": []
    },
    {
      "cell_type": "code",
      "metadata": {
        "id": "GiE3ZC-aePUw"
      },
      "source": [
        "data3 = data1.sample(n=5021)\n",
        "data3.shape"
      ],
      "execution_count": null,
      "outputs": []
    },
    {
      "cell_type": "code",
      "metadata": {
        "id": "Ka3Hv8ADe5A6"
      },
      "source": [
        "data4 = pd.concat([data2, data3])\n",
        "data4.shape"
      ],
      "execution_count": null,
      "outputs": []
    },
    {
      "cell_type": "markdown",
      "metadata": {
        "id": "ehMBOKEQRROg"
      },
      "source": [
        "# Model Building \n"
      ]
    },
    {
      "cell_type": "markdown",
      "metadata": {
        "id": "NcZ6Ws23XXYo"
      },
      "source": [
        "Splitting into training and testing data "
      ]
    },
    {
      "cell_type": "code",
      "metadata": {
        "id": "0Udx-3K3wPzm"
      },
      "source": [
        "Y=data4[\"y\"]\n",
        "data4.drop('y', inplace=True, axis=1)\n",
        "data4 = pd.concat([data4,Y],axis=1)"
      ],
      "execution_count": null,
      "outputs": []
    },
    {
      "cell_type": "code",
      "metadata": {
        "id": "ECg4qkAomYv-"
      },
      "source": [
        "from sklearn.model_selection import train_test_split\n",
        "trainX,testX,trainY,testY=train_test_split(data4.iloc[:,:-1],data4.iloc[:,-1],train_size=0.8,random_state=1)"
      ],
      "execution_count": null,
      "outputs": []
    },
    {
      "cell_type": "code",
      "metadata": {
        "id": "JMXy6HTdkt5-"
      },
      "source": [
        "trainX.head()"
      ],
      "execution_count": null,
      "outputs": []
    },
    {
      "cell_type": "markdown",
      "metadata": {
        "id": "63MWoue1IHWs"
      },
      "source": [
        "## Random Forest"
      ]
    },
    {
      "cell_type": "code",
      "metadata": {
        "id": "hm4HHE4rIHWs"
      },
      "source": [
        "from sklearn.ensemble import RandomForestClassifier\n",
        "model=RandomForestClassifier()\n",
        "model.fit(trainX,trainY)\n",
        "pred=model.predict(testX)"
      ],
      "execution_count": null,
      "outputs": []
    },
    {
      "cell_type": "code",
      "metadata": {
        "id": "kBKnXT0HNTiJ"
      },
      "source": [
        "from sklearn.metrics import classification_report,confusion_matrix\n",
        "cm1=(confusion_matrix(testY,pred))\n",
        "\n",
        "print('Confusion Matrix : \\n', cm1)\n",
        "total1=sum(sum(cm1))\n",
        "\n",
        "accuracy1=(cm1[0,0]+cm1[1,1])/total1\n",
        "print ('Accuracy : ', accuracy1)\n",
        "\n",
        "sensitivity1 = cm1[0,0]/(cm1[0,0]+cm1[0,1])\n",
        "print('Sensitivity : ', sensitivity1 )\n",
        "\n",
        "specificity1 = cm1[1,1]/(cm1[1,0]+cm1[1,1])\n",
        "print('Specificity : ', specificity1)"
      ],
      "execution_count": null,
      "outputs": []
    },
    {
      "cell_type": "code",
      "metadata": {
        "id": "UKcYVSSsIHWt"
      },
      "source": [
        "print(classification_report(testY, pred))"
      ],
      "execution_count": null,
      "outputs": []
    },
    {
      "cell_type": "code",
      "metadata": {
        "id": "gRQwVMcH4nfZ"
      },
      "source": [
        "import sklearn.metrics as metrics\n",
        "#AUC\n",
        "randomforestauc = metrics.roc_auc_score(testY , pred)\n",
        "randomforestauc"
      ],
      "execution_count": null,
      "outputs": []
    },
    {
      "cell_type": "markdown",
      "metadata": {
        "id": "uS5ncTMpIHWt"
      },
      "source": [
        "## Support Vector Classifier"
      ]
    },
    {
      "cell_type": "code",
      "metadata": {
        "id": "vDbP3zZspgPt"
      },
      "source": [
        "from sklearn.svm import SVC\n",
        "model=SVC(gamma=0.6,degree=0.8,max_iter=10000)\n",
        "model.fit(trainX,trainY)\n",
        "pred=model.predict(testX)"
      ],
      "execution_count": null,
      "outputs": []
    },
    {
      "cell_type": "code",
      "metadata": {
        "id": "sEXJ674aNbFL"
      },
      "source": [
        "from sklearn.metrics import classification_report,confusion_matrix\n",
        "cm1=(confusion_matrix(testY,pred))\n",
        "print('Confusion Matrix : \\n', cm1)\n",
        "total1=sum(sum(cm1))\n",
        "\n",
        "accuracy1=(cm1[0,0]+cm1[1,1])/total1\n",
        "print ('Accuracy : ', accuracy1)\n",
        "\n",
        "sensitivity1 = cm1[0,0]/(cm1[0,0]+cm1[0,1])\n",
        "print('Sensitivity : ', sensitivity1 )\n",
        "\n",
        "specificity1 = cm1[1,1]/(cm1[1,0]+cm1[1,1])\n",
        "print('Specificity : ', specificity1)"
      ],
      "execution_count": null,
      "outputs": []
    },
    {
      "cell_type": "code",
      "metadata": {
        "id": "UABAZE8ApgGk"
      },
      "source": [
        "print(classification_report(pred,testY))"
      ],
      "execution_count": null,
      "outputs": []
    },
    {
      "cell_type": "code",
      "metadata": {
        "id": "hOGAHAqX46PM"
      },
      "source": [
        "import sklearn.metrics as metrics\n",
        "#AUC\n",
        "supportVectorMachineauc = metrics.roc_auc_score(testY , pred)\n",
        "supportVectorMachineauc"
      ],
      "execution_count": null,
      "outputs": []
    },
    {
      "cell_type": "markdown",
      "metadata": {
        "id": "2AJh0XHvIHWu"
      },
      "source": [
        "## Artificial Neural Network"
      ]
    },
    {
      "cell_type": "code",
      "metadata": {
        "id": "CPo8sYAVweuW"
      },
      "source": [
        "pip install tensorflow==2.2"
      ],
      "execution_count": null,
      "outputs": []
    },
    {
      "cell_type": "code",
      "metadata": {
        "id": "LEkxJcMxwYug"
      },
      "source": [
        "import tensorflow as tf\n",
        "from tensorflow import keras\n",
        "from keras import layers\n",
        "from keras.utils import normalize"
      ],
      "execution_count": null,
      "outputs": []
    },
    {
      "cell_type": "code",
      "metadata": {
        "id": "3jrt3OitwUB0"
      },
      "source": [
        "#Normalizing the data\n",
        "from keras.utils import normalize\n",
        "Xtrain=normalize(trainX)\n",
        "Xtest=normalize(testX)"
      ],
      "execution_count": null,
      "outputs": []
    },
    {
      "cell_type": "code",
      "metadata": {
        "id": "QttWHQk5IHWu"
      },
      "source": [
        "# Defining the model\n",
        "tf.keras.backend.set_floatx('float64')\n",
        "model=keras.models.Sequential()\n",
        "#model.add(keras.layers.Flatten()) #Flattens the input\n",
        "model.add(keras.layers.Dense(39,activation=tf.nn.relu)) #Adding input layer with 39 neurons and relu activation func\n",
        "model.add(keras.layers.Dense(39,activation=tf.nn.relu))\n",
        "model.add(keras.layers.Dense(2,activation=tf.nn.softmax))\n",
        "# Adam Optimiser converges faster than any other existing optimizer\n",
        "# sparse categorical crossentropy combines the good of crossentropy and one hot encoding\n",
        "model.compile(optimizer=\"adam\",loss=\"sparse_categorical_crossentropy\",metrics=[\"accuracy\"])"
      ],
      "execution_count": null,
      "outputs": []
    },
    {
      "cell_type": "code",
      "metadata": {
        "id": "EYxAcrZnCBmn"
      },
      "source": [
        "model.fit(Xtrain,trainY,epochs=100)"
      ],
      "execution_count": null,
      "outputs": []
    },
    {
      "cell_type": "code",
      "metadata": {
        "id": "g8rgl-pUgb9-"
      },
      "source": [
        "predY = model.predict(Xtest)\n",
        "y_pred_class = np.argmax(predY,axis=1)"
      ],
      "execution_count": null,
      "outputs": []
    },
    {
      "cell_type": "code",
      "metadata": {
        "id": "EYN0xJMrV3cV"
      },
      "source": [
        "from sklearn.metrics import classification_report,confusion_matrix\n",
        "cm1=(confusion_matrix(testY,y_pred_class))\n",
        "print('Confusion Matrix : \\n', cm1)\n",
        "total1=sum(sum(cm1))\n",
        "\n",
        "accuracy1=(cm1[0,0]+cm1[1,1])/total1\n",
        "print ('Accuracy : ', accuracy1)\n",
        "\n",
        "sensitivity1 = cm1[0,0]/(cm1[0,0]+cm1[0,1])\n",
        "print('Sensitivity : ', sensitivity1 )\n",
        "\n",
        "specificity1 = cm1[1,1]/(cm1[1,0]+cm1[1,1])\n",
        "print('Specificity : ', specificity1)"
      ],
      "execution_count": null,
      "outputs": []
    },
    {
      "cell_type": "code",
      "metadata": {
        "id": "NVCQcW3AV3cV"
      },
      "source": [
        "print(classification_report(testY,y_pred_class))"
      ],
      "execution_count": null,
      "outputs": []
    },
    {
      "cell_type": "code",
      "metadata": {
        "id": "UBZXm47q6Sxc"
      },
      "source": [
        "import sklearn.metrics as metrics\n",
        "#AUC\n",
        "artificialNeuralNetworkauc = metrics.roc_auc_score(testY , y_pred_class)\n",
        "artificialNeuralNetworkauc"
      ],
      "execution_count": null,
      "outputs": []
    },
    {
      "cell_type": "markdown",
      "metadata": {
        "id": "aMtGELS-IHWv"
      },
      "source": [
        "## Probabilistic Neural Network"
      ]
    },
    {
      "cell_type": "code",
      "metadata": {
        "id": "DegfzDoSr2Jf"
      },
      "source": [
        "pip install neupy"
      ],
      "execution_count": null,
      "outputs": []
    },
    {
      "cell_type": "code",
      "metadata": {
        "id": "QQn6Mki3IHWv"
      },
      "source": [
        "from neupy import algorithms\n",
        "from sklearn import metrics"
      ],
      "execution_count": null,
      "outputs": []
    },
    {
      "cell_type": "code",
      "metadata": {
        "id": "MkyEj5ORsNIr"
      },
      "source": [
        "pnn = algorithms.PNN(std=10,verbose=True)\n",
        "pnn.train(Xtrain,trainY)"
      ],
      "execution_count": null,
      "outputs": []
    },
    {
      "cell_type": "code",
      "metadata": {
        "id": "82oCXHwjuRYs"
      },
      "source": [
        "pred=pnn.predict(Xtest)\n",
        "prob=pnn.predict_proba(Xtest)\n",
        "print(pred)"
      ],
      "execution_count": null,
      "outputs": []
    },
    {
      "cell_type": "code",
      "metadata": {
        "id": "RFFbRm1QsNBN"
      },
      "source": [
        "y_pred = pnn.predict(testX)"
      ],
      "execution_count": null,
      "outputs": []
    },
    {
      "cell_type": "code",
      "metadata": {
        "id": "d3eQ4NWZBt_P"
      },
      "source": [
        "from sklearn.metrics import classification_report,confusion_matrix\n",
        "cm1=(confusion_matrix(testY,y_pred))\n",
        "print('Confusion Matrix : \\n', cm1)\n",
        "total1=sum(sum(cm1))\n",
        "\n",
        "accuracy1=(cm1[0,0]+cm1[1,1])/total1\n",
        "print ('Accuracy : ', accuracy1)\n",
        "\n",
        "sensitivity1 = cm1[0,0]/(cm1[0,0]+cm1[0,1])\n",
        "print('Sensitivity : ', sensitivity1 )\n",
        "\n",
        "specificity1 = cm1[1,1]/(cm1[1,0]+cm1[1,1])\n",
        "print('Specificity : ', specificity1)"
      ],
      "execution_count": null,
      "outputs": []
    },
    {
      "cell_type": "code",
      "metadata": {
        "id": "VpzZOt4OGTuF"
      },
      "source": [
        "print(classification_report(testY,y_pred))"
      ],
      "execution_count": null,
      "outputs": []
    },
    {
      "cell_type": "code",
      "metadata": {
        "id": "3H0ASfTY7ANW"
      },
      "source": [
        "import sklearn.metrics as metrics\n",
        "#AUC\n",
        "probablisticNeuralNetworkauc = metrics.roc_auc_score(testY , y_pred)\n",
        "probablisticNeuralNetworkauc"
      ],
      "execution_count": null,
      "outputs": []
    },
    {
      "cell_type": "markdown",
      "metadata": {
        "id": "BF4m47Pg7MC4"
      },
      "source": [
        "**Comparing all the auc scores:**"
      ]
    },
    {
      "cell_type": "code",
      "metadata": {
        "id": "ZThAEpc27Tdq"
      },
      "source": [
        "print('random forest:', randomforestauc)\n",
        "print('Support Vector Machines:', supportVectorMachineauc)\n",
        "print('Artificial Neural Network:', artificialNeuralNetworkauc)\n",
        "print('Probablistic Neural Network:', probablisticNeuralNetworkauc)"
      ],
      "execution_count": null,
      "outputs": []
    },
    {
      "cell_type": "code",
      "metadata": {
        "id": "GTO5ql2H9MGG"
      },
      "source": [
        "print('best result is:' )\n",
        "print(max(randomforestauc, supportVectorMachineauc, artificialNeuralNetworkauc, probablisticNeuralNetworkauc))"
      ],
      "execution_count": null,
      "outputs": []
    }
  ]
}