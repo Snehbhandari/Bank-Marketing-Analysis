{
  "nbformat": 4,
  "nbformat_minor": 0,
  "metadata": {
    "colab": {
      "name": "DL_Project1.ipynb",
      "provenance": [],
      "collapsed_sections": [],
      "toc_visible": true
    },
    "kernelspec": {
      "name": "python3",
      "display_name": "Python 3"
    }
  },
  "cells": [
    {
      "cell_type": "code",
      "metadata": {
        "id": "UkhxEQZ3IHWn"
      },
      "source": [
        "#importing libraries\n",
        "import pandas as pd\n",
        "import numpy as np\n",
        "import seaborn as sns\n",
        "import matplotlib.pyplot as plt\n",
        "%matplotlib inline\n",
        "from sklearn.preprocessing import MinMaxScaler, StandardScaler"
      ],
      "execution_count": 1,
      "outputs": []
    },
    {
      "cell_type": "code",
      "metadata": {
        "id": "cl5s7ScxIHWo"
      },
      "source": [
        "#Importing Dataset\n",
        "data=pd.read_csv(\"/content/bank-full.csv\",sep=';')"
      ],
      "execution_count": 2,
      "outputs": []
    },
    {
      "cell_type": "code",
      "metadata": {
        "id": "TPE4ItGIIHWo",
        "colab": {
          "base_uri": "https://localhost:8080/"
        },
        "outputId": "d2f68d66-edd0-466a-8489-12e3ba0bd074"
      },
      "source": [
        "data.shape #Data contains 45211 rows and 17 columns "
      ],
      "execution_count": 3,
      "outputs": [
        {
          "output_type": "execute_result",
          "data": {
            "text/plain": [
              "(45211, 17)"
            ]
          },
          "metadata": {
            "tags": []
          },
          "execution_count": 3
        }
      ]
    },
    {
      "cell_type": "code",
      "metadata": {
        "id": "mhG2Q2zwa1MP",
        "colab": {
          "base_uri": "https://localhost:8080/",
          "height": 191
        },
        "outputId": "fe65dca4-ac9e-4928-f0c3-b96aaaf8ad05"
      },
      "source": [
        "data.head()"
      ],
      "execution_count": 4,
      "outputs": [
        {
          "output_type": "execute_result",
          "data": {
            "text/html": [
              "<div>\n",
              "<style scoped>\n",
              "    .dataframe tbody tr th:only-of-type {\n",
              "        vertical-align: middle;\n",
              "    }\n",
              "\n",
              "    .dataframe tbody tr th {\n",
              "        vertical-align: top;\n",
              "    }\n",
              "\n",
              "    .dataframe thead th {\n",
              "        text-align: right;\n",
              "    }\n",
              "</style>\n",
              "<table border=\"1\" class=\"dataframe\">\n",
              "  <thead>\n",
              "    <tr style=\"text-align: right;\">\n",
              "      <th></th>\n",
              "      <th>age</th>\n",
              "      <th>job</th>\n",
              "      <th>marital</th>\n",
              "      <th>education</th>\n",
              "      <th>default</th>\n",
              "      <th>balance</th>\n",
              "      <th>housing</th>\n",
              "      <th>loan</th>\n",
              "      <th>contact</th>\n",
              "      <th>day</th>\n",
              "      <th>month</th>\n",
              "      <th>duration</th>\n",
              "      <th>campaign</th>\n",
              "      <th>pdays</th>\n",
              "      <th>previous</th>\n",
              "      <th>poutcome</th>\n",
              "      <th>y</th>\n",
              "    </tr>\n",
              "  </thead>\n",
              "  <tbody>\n",
              "    <tr>\n",
              "      <th>0</th>\n",
              "      <td>58</td>\n",
              "      <td>management</td>\n",
              "      <td>married</td>\n",
              "      <td>tertiary</td>\n",
              "      <td>no</td>\n",
              "      <td>2143</td>\n",
              "      <td>yes</td>\n",
              "      <td>no</td>\n",
              "      <td>unknown</td>\n",
              "      <td>5</td>\n",
              "      <td>may</td>\n",
              "      <td>261</td>\n",
              "      <td>1</td>\n",
              "      <td>-1</td>\n",
              "      <td>0</td>\n",
              "      <td>unknown</td>\n",
              "      <td>no</td>\n",
              "    </tr>\n",
              "    <tr>\n",
              "      <th>1</th>\n",
              "      <td>44</td>\n",
              "      <td>technician</td>\n",
              "      <td>single</td>\n",
              "      <td>secondary</td>\n",
              "      <td>no</td>\n",
              "      <td>29</td>\n",
              "      <td>yes</td>\n",
              "      <td>no</td>\n",
              "      <td>unknown</td>\n",
              "      <td>5</td>\n",
              "      <td>may</td>\n",
              "      <td>151</td>\n",
              "      <td>1</td>\n",
              "      <td>-1</td>\n",
              "      <td>0</td>\n",
              "      <td>unknown</td>\n",
              "      <td>no</td>\n",
              "    </tr>\n",
              "    <tr>\n",
              "      <th>2</th>\n",
              "      <td>33</td>\n",
              "      <td>entrepreneur</td>\n",
              "      <td>married</td>\n",
              "      <td>secondary</td>\n",
              "      <td>no</td>\n",
              "      <td>2</td>\n",
              "      <td>yes</td>\n",
              "      <td>yes</td>\n",
              "      <td>unknown</td>\n",
              "      <td>5</td>\n",
              "      <td>may</td>\n",
              "      <td>76</td>\n",
              "      <td>1</td>\n",
              "      <td>-1</td>\n",
              "      <td>0</td>\n",
              "      <td>unknown</td>\n",
              "      <td>no</td>\n",
              "    </tr>\n",
              "    <tr>\n",
              "      <th>3</th>\n",
              "      <td>47</td>\n",
              "      <td>blue-collar</td>\n",
              "      <td>married</td>\n",
              "      <td>unknown</td>\n",
              "      <td>no</td>\n",
              "      <td>1506</td>\n",
              "      <td>yes</td>\n",
              "      <td>no</td>\n",
              "      <td>unknown</td>\n",
              "      <td>5</td>\n",
              "      <td>may</td>\n",
              "      <td>92</td>\n",
              "      <td>1</td>\n",
              "      <td>-1</td>\n",
              "      <td>0</td>\n",
              "      <td>unknown</td>\n",
              "      <td>no</td>\n",
              "    </tr>\n",
              "    <tr>\n",
              "      <th>4</th>\n",
              "      <td>33</td>\n",
              "      <td>unknown</td>\n",
              "      <td>single</td>\n",
              "      <td>unknown</td>\n",
              "      <td>no</td>\n",
              "      <td>1</td>\n",
              "      <td>no</td>\n",
              "      <td>no</td>\n",
              "      <td>unknown</td>\n",
              "      <td>5</td>\n",
              "      <td>may</td>\n",
              "      <td>198</td>\n",
              "      <td>1</td>\n",
              "      <td>-1</td>\n",
              "      <td>0</td>\n",
              "      <td>unknown</td>\n",
              "      <td>no</td>\n",
              "    </tr>\n",
              "  </tbody>\n",
              "</table>\n",
              "</div>"
            ],
            "text/plain": [
              "   age           job  marital  education  ... pdays  previous poutcome   y\n",
              "0   58    management  married   tertiary  ...    -1         0  unknown  no\n",
              "1   44    technician   single  secondary  ...    -1         0  unknown  no\n",
              "2   33  entrepreneur  married  secondary  ...    -1         0  unknown  no\n",
              "3   47   blue-collar  married    unknown  ...    -1         0  unknown  no\n",
              "4   33       unknown   single    unknown  ...    -1         0  unknown  no\n",
              "\n",
              "[5 rows x 17 columns]"
            ]
          },
          "metadata": {
            "tags": []
          },
          "execution_count": 4
        }
      ]
    },
    {
      "cell_type": "markdown",
      "metadata": {
        "id": "XtbyPdg4qmRG"
      },
      "source": [
        "# Data PreProcessing"
      ]
    },
    {
      "cell_type": "markdown",
      "metadata": {
        "id": "FL2-vGHreuzC"
      },
      "source": [
        "##Removing NULL Values"
      ]
    },
    {
      "cell_type": "code",
      "metadata": {
        "id": "rlO96oLRLFUF",
        "colab": {
          "base_uri": "https://localhost:8080/"
        },
        "outputId": "a02792f8-d77c-430a-9ea5-99a9c823c796"
      },
      "source": [
        "data = data.replace('unknown', np.nan)\n",
        "data=data.replace('other',np.nan)\n",
        "data.isna().sum() #There are null values"
      ],
      "execution_count": 5,
      "outputs": [
        {
          "output_type": "execute_result",
          "data": {
            "text/plain": [
              "age              0\n",
              "job            288\n",
              "marital          0\n",
              "education     1857\n",
              "default          0\n",
              "balance          0\n",
              "housing          0\n",
              "loan             0\n",
              "contact      13020\n",
              "day              0\n",
              "month            0\n",
              "duration         0\n",
              "campaign         0\n",
              "pdays            0\n",
              "previous         0\n",
              "poutcome     38799\n",
              "y                0\n",
              "dtype: int64"
            ]
          },
          "metadata": {
            "tags": []
          },
          "execution_count": 5
        }
      ]
    },
    {
      "cell_type": "code",
      "metadata": {
        "id": "1NxzikicLeLK"
      },
      "source": [
        "data.drop('contact', inplace=True, axis=1)\n",
        "data.drop('poutcome', inplace=True, axis=1)\n",
        "data.drop('duration',inplace=True, axis=1) #We have dropped the 'duration' variable as the value of the variable will only be known at the end of the call. Hence, at that time we will also know the outcome of the call.\n",
        "data=data.dropna()\n",
        "data=data.drop_duplicates()"
      ],
      "execution_count": 6,
      "outputs": []
    },
    {
      "cell_type": "code",
      "metadata": {
        "id": "Ua7-y59PIHWp",
        "colab": {
          "base_uri": "https://localhost:8080/"
        },
        "outputId": "3634e7b5-36c6-4f4a-9d53-4442ee88a43d"
      },
      "source": [
        "data.shape #43172 rows and 14 columns\n"
      ],
      "execution_count": 7,
      "outputs": [
        {
          "output_type": "execute_result",
          "data": {
            "text/plain": [
              "(43172, 14)"
            ]
          },
          "metadata": {
            "tags": []
          },
          "execution_count": 7
        }
      ]
    },
    {
      "cell_type": "markdown",
      "metadata": {
        "id": "A8v_nbkigR97"
      },
      "source": [
        "**Correlation Plot**"
      ]
    },
    {
      "cell_type": "code",
      "metadata": {
        "id": "bXKBA0v_gR98",
        "colab": {
          "base_uri": "https://localhost:8080/",
          "height": 503
        },
        "outputId": "0f0a10fe-b9bb-4cd8-f2cf-d836da40aaaf"
      },
      "source": [
        "corrdata = data.corr()\n",
        "ax,fig = plt.subplots(figsize=(15,8))\n",
        "sns.heatmap(corrdata,annot=True)"
      ],
      "execution_count": 8,
      "outputs": [
        {
          "output_type": "execute_result",
          "data": {
            "text/plain": [
              "<matplotlib.axes._subplots.AxesSubplot at 0x7ff645fed7b8>"
            ]
          },
          "metadata": {
            "tags": []
          },
          "execution_count": 8
        },
        {
          "output_type": "display_data",
          "data": {
            "image/png": "[encoded data removed]",
            "text/plain": [
              "<Figure size 1080x576 with 2 Axes>"
            ]
          },
          "metadata": {
            "tags": [],
            "needs_background": "light"
          }
        }
      ]
    },
    {
      "cell_type": "code",
      "metadata": {
        "id": "zo5vE2uq3P7p",
        "colab": {
          "base_uri": "https://localhost:8080/",
          "height": 607
        },
        "outputId": "dc41eea9-39d7-4a23-e8d1-848b8e3ca1c2"
      },
      "source": [
        "numerical_variables = ['age','balance','day','campaign','pdays','previous']\n",
        "data.hist(column=numerical_variables,figsize=(10,10))\n",
        "plt.subplots_adjust(wspace = 0.5, hspace = 0.5)\n",
        "plt.show()"
      ],
      "execution_count": 9,
      "outputs": [
        {
          "output_type": "display_data",
          "data": {
            "image/png": "[encoded data removed]",
            "text/plain": [
              "<Figure size 720x720 with 6 Axes>"
            ]
          },
          "metadata": {
            "tags": [],
            "needs_background": "light"
          }
        }
      ]
    },
    {
      "cell_type": "code",
      "metadata": {
        "id": "nWGy_EVjYfLQ",
        "colab": {
          "base_uri": "https://localhost:8080/",
          "height": 1000
        },
        "outputId": "28311e88-41cd-4595-9864-4bfaf1df651b"
      },
      "source": [
        "categorical_variables = ['job','marital', 'education', 'default', 'housing','loan', 'month', 'day','y']\n",
        "for col in categorical_variables:\n",
        "    plt.figure(figsize=(10,4))\n",
        "    sns.barplot(data[col].value_counts().values, data[col].value_counts().index)\n",
        "    plt.title(col)\n",
        "    plt.tight_layout()"
      ],
      "execution_count": 10,
      "outputs": [
        {
          "output_type": "stream",
          "text": [
            "/usr/local/lib/python3.6/dist-packages/seaborn/_decorators.py:43: FutureWarning: Pass the following variables as keyword args: x, y. From version 0.12, the only valid positional argument will be `data`, and passing other arguments without an explicit keyword will result in an error or misinterpretation.\n",
            "  FutureWarning\n",
            "/usr/local/lib/python3.6/dist-packages/seaborn/_decorators.py:43: FutureWarning: Pass the following variables as keyword args: x, y. From version 0.12, the only valid positional argument will be `data`, and passing other arguments without an explicit keyword will result in an error or misinterpretation.\n",
            "  FutureWarning\n",
            "/usr/local/lib/python3.6/dist-packages/seaborn/_decorators.py:43: FutureWarning: Pass the following variables as keyword args: x, y. From version 0.12, the only valid positional argument will be `data`, and passing other arguments without an explicit keyword will result in an error or misinterpretation.\n",
            "  FutureWarning\n",
            "/usr/local/lib/python3.6/dist-packages/seaborn/_decorators.py:43: FutureWarning: Pass the following variables as keyword args: x, y. From version 0.12, the only valid positional argument will be `data`, and passing other arguments without an explicit keyword will result in an error or misinterpretation.\n",
            "  FutureWarning\n",
            "/usr/local/lib/python3.6/dist-packages/seaborn/_decorators.py:43: FutureWarning: Pass the following variables as keyword args: x, y. From version 0.12, the only valid positional argument will be `data`, and passing other arguments without an explicit keyword will result in an error or misinterpretation.\n",
            "  FutureWarning\n",
            "/usr/local/lib/python3.6/dist-packages/seaborn/_decorators.py:43: FutureWarning: Pass the following variables as keyword args: x, y. From version 0.12, the only valid positional argument will be `data`, and passing other arguments without an explicit keyword will result in an error or misinterpretation.\n",
            "  FutureWarning\n",
            "/usr/local/lib/python3.6/dist-packages/seaborn/_decorators.py:43: FutureWarning: Pass the following variables as keyword args: x, y. From version 0.12, the only valid positional argument will be `data`, and passing other arguments without an explicit keyword will result in an error or misinterpretation.\n",
            "  FutureWarning\n",
            "/usr/local/lib/python3.6/dist-packages/seaborn/_decorators.py:43: FutureWarning: Pass the following variables as keyword args: x, y. From version 0.12, the only valid positional argument will be `data`, and passing other arguments without an explicit keyword will result in an error or misinterpretation.\n",
            "  FutureWarning\n",
            "/usr/local/lib/python3.6/dist-packages/seaborn/_decorators.py:43: FutureWarning: Pass the following variables as keyword args: x, y. From version 0.12, the only valid positional argument will be `data`, and passing other arguments without an explicit keyword will result in an error or misinterpretation.\n",
            "  FutureWarning\n"
          ],
          "name": "stderr"
        },
        {
          "output_type": "display_data",
          "data": {
            "image/png": "[encoded data removed]",
            "text/plain": [
              "<Figure size 720x288 with 1 Axes>"
            ]
          },
          "metadata": {
            "tags": [],
            "needs_background": "light"
          }
        },
        {
          "output_type": "display_data",
          "data": {
            "image/png": "[encoded data removed]",
            "text/plain": [
              "<Figure size 720x288 with 1 Axes>"
            ]
          },
          "metadata": {
            "tags": [],
            "needs_background": "light"
          }
        },
        {
          "output_type": "display_data",
          "data": {
            "image/png": "[encoded data removed]",
            "text/plain": [
              "<Figure size 720x288 with 1 Axes>"
            ]
          },
          "metadata": {
            "tags": [],
            "needs_background": "light"
          }
        },
        {
          "output_type": "display_data",
          "data": {
            "image/png": "[encoded data removed]",
            "text/plain": [
              "<Figure size 720x288 with 1 Axes>"
            ]
          },
          "metadata": {
            "tags": [],
            "needs_background": "light"
          }
        },
        {
          "output_type": "display_data",
          "data": {
            "image/png": "[encoded data removed]",
            "text/plain": [
              "<Figure size 720x288 with 1 Axes>"
            ]
          },
          "metadata": {
            "tags": [],
            "needs_background": "light"
          }
        },
        {
          "output_type": "display_data",
          "data": {
            "image/png": "[encoded data removed]",
            "text/plain": [
              "<Figure size 720x288 with 1 Axes>"
            ]
          },
          "metadata": {
            "tags": [],
            "needs_background": "light"
          }
        },
        {
          "output_type": "display_data",
          "data": {
            "image/png": "[encoded data removed]",
            "text/plain": [
              "<Figure size 720x288 with 1 Axes>"
            ]
          },
          "metadata": {
            "tags": [],
            "needs_background": "light"
          }
        },
        {
          "output_type": "display_data",
          "data": {
            "image/png": "[encoded data removed]",
            "text/plain": [
              "<Figure size 720x288 with 1 Axes>"
            ]
          },
          "metadata": {
            "tags": [],
            "needs_background": "light"
          }
        },
        {
          "output_type": "display_data",
          "data": {
            "image/png": "[encoded data removed]",
            "text/plain": [
              "<Figure size 720x288 with 1 Axes>"
            ]
          },
          "metadata": {
            "tags": [],
            "needs_background": "light"
          }
        }
      ]
    },
    {
      "cell_type": "markdown",
      "metadata": {
        "id": "wfnBJTl5fmPt"
      },
      "source": [
        "##Handling Categorical Variables"
      ]
    },
    {
      "cell_type": "code",
      "metadata": {
        "id": "GWFGUmin6Aer"
      },
      "source": [
        "#ordinal\n",
        "data['default'] = data['default'].map({'yes': -1,'no': 0})\n",
        "data['housing'] = data['housing'].map({'yes': 1,'no': 0})\n",
        "data['loan'] = data['loan'].map({'yes': 1,'no': 0})"
      ],
      "execution_count": 11,
      "outputs": []
    },
    {
      "cell_type": "code",
      "metadata": {
        "id": "l1cr24rI6FuB"
      },
      "source": [
        "#nominal\n",
        "nominal = ['job','marital','education','month',]\n",
        "dataProcessed = pd.get_dummies(data,columns=nominal)\n",
        "dataProcessed['y']=dataProcessed['y'].map({'yes': 1,'no': 0})"
      ],
      "execution_count": 12,
      "outputs": []
    },
    {
      "cell_type": "code",
      "metadata": {
        "id": "z8hfvvC7L1bw",
        "colab": {
          "base_uri": "https://localhost:8080/",
          "height": 227
        },
        "outputId": "e232109c-71a2-4868-9dbd-f2a781bc1346"
      },
      "source": [
        "data=dataProcessed\n",
        "data.head() #all values have been coverted to numerical values "
      ],
      "execution_count": 13,
      "outputs": [
        {
          "output_type": "execute_result",
          "data": {
            "text/html": [
              "<div>\n",
              "<style scoped>\n",
              "    .dataframe tbody tr th:only-of-type {\n",
              "        vertical-align: middle;\n",
              "    }\n",
              "\n",
              "    .dataframe tbody tr th {\n",
              "        vertical-align: top;\n",
              "    }\n",
              "\n",
              "    .dataframe thead th {\n",
              "        text-align: right;\n",
              "    }\n",
              "</style>\n",
              "<table border=\"1\" class=\"dataframe\">\n",
              "  <thead>\n",
              "    <tr style=\"text-align: right;\">\n",
              "      <th></th>\n",
              "      <th>age</th>\n",
              "      <th>default</th>\n",
              "      <th>balance</th>\n",
              "      <th>housing</th>\n",
              "      <th>loan</th>\n",
              "      <th>day</th>\n",
              "      <th>campaign</th>\n",
              "      <th>pdays</th>\n",
              "      <th>previous</th>\n",
              "      <th>y</th>\n",
              "      <th>job_admin.</th>\n",
              "      <th>job_blue-collar</th>\n",
              "      <th>job_entrepreneur</th>\n",
              "      <th>job_housemaid</th>\n",
              "      <th>job_management</th>\n",
              "      <th>job_retired</th>\n",
              "      <th>job_self-employed</th>\n",
              "      <th>job_services</th>\n",
              "      <th>job_student</th>\n",
              "      <th>job_technician</th>\n",
              "      <th>job_unemployed</th>\n",
              "      <th>marital_divorced</th>\n",
              "      <th>marital_married</th>\n",
              "      <th>marital_single</th>\n",
              "      <th>education_primary</th>\n",
              "      <th>education_secondary</th>\n",
              "      <th>education_tertiary</th>\n",
              "      <th>month_apr</th>\n",
              "      <th>month_aug</th>\n",
              "      <th>month_dec</th>\n",
              "      <th>month_feb</th>\n",
              "      <th>month_jan</th>\n",
              "      <th>month_jul</th>\n",
              "      <th>month_jun</th>\n",
              "      <th>month_mar</th>\n",
              "      <th>month_may</th>\n",
              "      <th>month_nov</th>\n",
              "      <th>month_oct</th>\n",
              "      <th>month_sep</th>\n",
              "    </tr>\n",
              "  </thead>\n",
              "  <tbody>\n",
              "    <tr>\n",
              "      <th>0</th>\n",
              "      <td>58</td>\n",
              "      <td>0</td>\n",
              "      <td>2143</td>\n",
              "      <td>1</td>\n",
              "      <td>0</td>\n",
              "      <td>5</td>\n",
              "      <td>1</td>\n",
              "      <td>-1</td>\n",
              "      <td>0</td>\n",
              "      <td>0</td>\n",
              "      <td>0</td>\n",
              "      <td>0</td>\n",
              "      <td>0</td>\n",
              "      <td>0</td>\n",
              "      <td>1</td>\n",
              "      <td>0</td>\n",
              "      <td>0</td>\n",
              "      <td>0</td>\n",
              "      <td>0</td>\n",
              "      <td>0</td>\n",
              "      <td>0</td>\n",
              "      <td>0</td>\n",
              "      <td>1</td>\n",
              "      <td>0</td>\n",
              "      <td>0</td>\n",
              "      <td>0</td>\n",
              "      <td>1</td>\n",
              "      <td>0</td>\n",
              "      <td>0</td>\n",
              "      <td>0</td>\n",
              "      <td>0</td>\n",
              "      <td>0</td>\n",
              "      <td>0</td>\n",
              "      <td>0</td>\n",
              "      <td>0</td>\n",
              "      <td>1</td>\n",
              "      <td>0</td>\n",
              "      <td>0</td>\n",
              "      <td>0</td>\n",
              "    </tr>\n",
              "    <tr>\n",
              "      <th>1</th>\n",
              "      <td>44</td>\n",
              "      <td>0</td>\n",
              "      <td>29</td>\n",
              "      <td>1</td>\n",
              "      <td>0</td>\n",
              "      <td>5</td>\n",
              "      <td>1</td>\n",
              "      <td>-1</td>\n",
              "      <td>0</td>\n",
              "      <td>0</td>\n",
              "      <td>0</td>\n",
              "      <td>0</td>\n",
              "      <td>0</td>\n",
              "      <td>0</td>\n",
              "      <td>0</td>\n",
              "      <td>0</td>\n",
              "      <td>0</td>\n",
              "      <td>0</td>\n",
              "      <td>0</td>\n",
              "      <td>1</td>\n",
              "      <td>0</td>\n",
              "      <td>0</td>\n",
              "      <td>0</td>\n",
              "      <td>1</td>\n",
              "      <td>0</td>\n",
              "      <td>1</td>\n",
              "      <td>0</td>\n",
              "      <td>0</td>\n",
              "      <td>0</td>\n",
              "      <td>0</td>\n",
              "      <td>0</td>\n",
              "      <td>0</td>\n",
              "      <td>0</td>\n",
              "      <td>0</td>\n",
              "      <td>0</td>\n",
              "      <td>1</td>\n",
              "      <td>0</td>\n",
              "      <td>0</td>\n",
              "      <td>0</td>\n",
              "    </tr>\n",
              "    <tr>\n",
              "      <th>2</th>\n",
              "      <td>33</td>\n",
              "      <td>0</td>\n",
              "      <td>2</td>\n",
              "      <td>1</td>\n",
              "      <td>1</td>\n",
              "      <td>5</td>\n",
              "      <td>1</td>\n",
              "      <td>-1</td>\n",
              "      <td>0</td>\n",
              "      <td>0</td>\n",
              "      <td>0</td>\n",
              "      <td>0</td>\n",
              "      <td>1</td>\n",
              "      <td>0</td>\n",
              "      <td>0</td>\n",
              "      <td>0</td>\n",
              "      <td>0</td>\n",
              "      <td>0</td>\n",
              "      <td>0</td>\n",
              "      <td>0</td>\n",
              "      <td>0</td>\n",
              "      <td>0</td>\n",
              "      <td>1</td>\n",
              "      <td>0</td>\n",
              "      <td>0</td>\n",
              "      <td>1</td>\n",
              "      <td>0</td>\n",
              "      <td>0</td>\n",
              "      <td>0</td>\n",
              "      <td>0</td>\n",
              "      <td>0</td>\n",
              "      <td>0</td>\n",
              "      <td>0</td>\n",
              "      <td>0</td>\n",
              "      <td>0</td>\n",
              "      <td>1</td>\n",
              "      <td>0</td>\n",
              "      <td>0</td>\n",
              "      <td>0</td>\n",
              "    </tr>\n",
              "    <tr>\n",
              "      <th>5</th>\n",
              "      <td>35</td>\n",
              "      <td>0</td>\n",
              "      <td>231</td>\n",
              "      <td>1</td>\n",
              "      <td>0</td>\n",
              "      <td>5</td>\n",
              "      <td>1</td>\n",
              "      <td>-1</td>\n",
              "      <td>0</td>\n",
              "      <td>0</td>\n",
              "      <td>0</td>\n",
              "      <td>0</td>\n",
              "      <td>0</td>\n",
              "      <td>0</td>\n",
              "      <td>1</td>\n",
              "      <td>0</td>\n",
              "      <td>0</td>\n",
              "      <td>0</td>\n",
              "      <td>0</td>\n",
              "      <td>0</td>\n",
              "      <td>0</td>\n",
              "      <td>0</td>\n",
              "      <td>1</td>\n",
              "      <td>0</td>\n",
              "      <td>0</td>\n",
              "      <td>0</td>\n",
              "      <td>1</td>\n",
              "      <td>0</td>\n",
              "      <td>0</td>\n",
              "      <td>0</td>\n",
              "      <td>0</td>\n",
              "      <td>0</td>\n",
              "      <td>0</td>\n",
              "      <td>0</td>\n",
              "      <td>0</td>\n",
              "      <td>1</td>\n",
              "      <td>0</td>\n",
              "      <td>0</td>\n",
              "      <td>0</td>\n",
              "    </tr>\n",
              "    <tr>\n",
              "      <th>6</th>\n",
              "      <td>28</td>\n",
              "      <td>0</td>\n",
              "      <td>447</td>\n",
              "      <td>1</td>\n",
              "      <td>1</td>\n",
              "      <td>5</td>\n",
              "      <td>1</td>\n",
              "      <td>-1</td>\n",
              "      <td>0</td>\n",
              "      <td>0</td>\n",
              "      <td>0</td>\n",
              "      <td>0</td>\n",
              "      <td>0</td>\n",
              "      <td>0</td>\n",
              "      <td>1</td>\n",
              "      <td>0</td>\n",
              "      <td>0</td>\n",
              "      <td>0</td>\n",
              "      <td>0</td>\n",
              "      <td>0</td>\n",
              "      <td>0</td>\n",
              "      <td>0</td>\n",
              "      <td>0</td>\n",
              "      <td>1</td>\n",
              "      <td>0</td>\n",
              "      <td>0</td>\n",
              "      <td>1</td>\n",
              "      <td>0</td>\n",
              "      <td>0</td>\n",
              "      <td>0</td>\n",
              "      <td>0</td>\n",
              "      <td>0</td>\n",
              "      <td>0</td>\n",
              "      <td>0</td>\n",
              "      <td>0</td>\n",
              "      <td>1</td>\n",
              "      <td>0</td>\n",
              "      <td>0</td>\n",
              "      <td>0</td>\n",
              "    </tr>\n",
              "  </tbody>\n",
              "</table>\n",
              "</div>"
            ],
            "text/plain": [
              "   age  default  balance  housing  ...  month_may  month_nov  month_oct  month_sep\n",
              "0   58        0     2143        1  ...          1          0          0          0\n",
              "1   44        0       29        1  ...          1          0          0          0\n",
              "2   33        0        2        1  ...          1          0          0          0\n",
              "5   35        0      231        1  ...          1          0          0          0\n",
              "6   28        0      447        1  ...          1          0          0          0\n",
              "\n",
              "[5 rows x 39 columns]"
            ]
          },
          "metadata": {
            "tags": []
          },
          "execution_count": 13
        }
      ]
    },
    {
      "cell_type": "code",
      "metadata": {
        "id": "NpA4FrHL7FQo",
        "colab": {
          "base_uri": "https://localhost:8080/"
        },
        "outputId": "756fd16d-72c2-4778-acab-4dc4c2350387"
      },
      "source": [
        "data.shape #43172 rows and 39 columns"
      ],
      "execution_count": 14,
      "outputs": [
        {
          "output_type": "execute_result",
          "data": {
            "text/plain": [
              "(43172, 39)"
            ]
          },
          "metadata": {
            "tags": []
          },
          "execution_count": 14
        }
      ]
    },
    {
      "cell_type": "markdown",
      "metadata": {
        "id": "ehMBOKEQRROg"
      },
      "source": [
        "# Model Building \n"
      ]
    },
    {
      "cell_type": "markdown",
      "metadata": {
        "id": "NcZ6Ws23XXYo"
      },
      "source": [
        "##Splitting into training and testing data "
      ]
    },
    {
      "cell_type": "code",
      "metadata": {
        "id": "0Udx-3K3wPzm"
      },
      "source": [
        "Y=data[\"y\"]\n",
        "data.drop('y', inplace=True, axis=1)\n",
        "data = pd.concat([data,Y],axis=1)"
      ],
      "execution_count": 15,
      "outputs": []
    },
    {
      "cell_type": "code",
      "metadata": {
        "id": "ECg4qkAomYv-"
      },
      "source": [
        "from sklearn.model_selection import train_test_split\n",
        "trainX,testX,trainY,testY=train_test_split(data.iloc[:,:-1],data.iloc[:,-1],train_size=0.8,random_state=1)"
      ],
      "execution_count": 16,
      "outputs": []
    },
    {
      "cell_type": "code",
      "metadata": {
        "colab": {
          "base_uri": "https://localhost:8080/",
          "height": 227
        },
        "id": "-DTPxTAdgLrL",
        "outputId": "3a4a68e9-aca6-4958-e83a-e084bbd5c09b"
      },
      "source": [
        "trainX.head()"
      ],
      "execution_count": 17,
      "outputs": [
        {
          "output_type": "execute_result",
          "data": {
            "text/html": [
              "<div>\n",
              "<style scoped>\n",
              "    .dataframe tbody tr th:only-of-type {\n",
              "        vertical-align: middle;\n",
              "    }\n",
              "\n",
              "    .dataframe tbody tr th {\n",
              "        vertical-align: top;\n",
              "    }\n",
              "\n",
              "    .dataframe thead th {\n",
              "        text-align: right;\n",
              "    }\n",
              "</style>\n",
              "<table border=\"1\" class=\"dataframe\">\n",
              "  <thead>\n",
              "    <tr style=\"text-align: right;\">\n",
              "      <th></th>\n",
              "      <th>age</th>\n",
              "      <th>default</th>\n",
              "      <th>balance</th>\n",
              "      <th>housing</th>\n",
              "      <th>loan</th>\n",
              "      <th>day</th>\n",
              "      <th>campaign</th>\n",
              "      <th>pdays</th>\n",
              "      <th>previous</th>\n",
              "      <th>job_admin.</th>\n",
              "      <th>job_blue-collar</th>\n",
              "      <th>job_entrepreneur</th>\n",
              "      <th>job_housemaid</th>\n",
              "      <th>job_management</th>\n",
              "      <th>job_retired</th>\n",
              "      <th>job_self-employed</th>\n",
              "      <th>job_services</th>\n",
              "      <th>job_student</th>\n",
              "      <th>job_technician</th>\n",
              "      <th>job_unemployed</th>\n",
              "      <th>marital_divorced</th>\n",
              "      <th>marital_married</th>\n",
              "      <th>marital_single</th>\n",
              "      <th>education_primary</th>\n",
              "      <th>education_secondary</th>\n",
              "      <th>education_tertiary</th>\n",
              "      <th>month_apr</th>\n",
              "      <th>month_aug</th>\n",
              "      <th>month_dec</th>\n",
              "      <th>month_feb</th>\n",
              "      <th>month_jan</th>\n",
              "      <th>month_jul</th>\n",
              "      <th>month_jun</th>\n",
              "      <th>month_mar</th>\n",
              "      <th>month_may</th>\n",
              "      <th>month_nov</th>\n",
              "      <th>month_oct</th>\n",
              "      <th>month_sep</th>\n",
              "    </tr>\n",
              "  </thead>\n",
              "  <tbody>\n",
              "    <tr>\n",
              "      <th>16021</th>\n",
              "      <td>54</td>\n",
              "      <td>0</td>\n",
              "      <td>167</td>\n",
              "      <td>1</td>\n",
              "      <td>0</td>\n",
              "      <td>22</td>\n",
              "      <td>2</td>\n",
              "      <td>-1</td>\n",
              "      <td>0</td>\n",
              "      <td>0</td>\n",
              "      <td>0</td>\n",
              "      <td>0</td>\n",
              "      <td>1</td>\n",
              "      <td>0</td>\n",
              "      <td>0</td>\n",
              "      <td>0</td>\n",
              "      <td>0</td>\n",
              "      <td>0</td>\n",
              "      <td>0</td>\n",
              "      <td>0</td>\n",
              "      <td>0</td>\n",
              "      <td>1</td>\n",
              "      <td>0</td>\n",
              "      <td>1</td>\n",
              "      <td>0</td>\n",
              "      <td>0</td>\n",
              "      <td>0</td>\n",
              "      <td>0</td>\n",
              "      <td>0</td>\n",
              "      <td>0</td>\n",
              "      <td>0</td>\n",
              "      <td>1</td>\n",
              "      <td>0</td>\n",
              "      <td>0</td>\n",
              "      <td>0</td>\n",
              "      <td>0</td>\n",
              "      <td>0</td>\n",
              "      <td>0</td>\n",
              "    </tr>\n",
              "    <tr>\n",
              "      <th>13404</th>\n",
              "      <td>60</td>\n",
              "      <td>0</td>\n",
              "      <td>2270</td>\n",
              "      <td>1</td>\n",
              "      <td>0</td>\n",
              "      <td>9</td>\n",
              "      <td>1</td>\n",
              "      <td>-1</td>\n",
              "      <td>0</td>\n",
              "      <td>0</td>\n",
              "      <td>0</td>\n",
              "      <td>0</td>\n",
              "      <td>1</td>\n",
              "      <td>0</td>\n",
              "      <td>0</td>\n",
              "      <td>0</td>\n",
              "      <td>0</td>\n",
              "      <td>0</td>\n",
              "      <td>0</td>\n",
              "      <td>0</td>\n",
              "      <td>0</td>\n",
              "      <td>1</td>\n",
              "      <td>0</td>\n",
              "      <td>1</td>\n",
              "      <td>0</td>\n",
              "      <td>0</td>\n",
              "      <td>0</td>\n",
              "      <td>0</td>\n",
              "      <td>0</td>\n",
              "      <td>0</td>\n",
              "      <td>0</td>\n",
              "      <td>1</td>\n",
              "      <td>0</td>\n",
              "      <td>0</td>\n",
              "      <td>0</td>\n",
              "      <td>0</td>\n",
              "      <td>0</td>\n",
              "      <td>0</td>\n",
              "    </tr>\n",
              "    <tr>\n",
              "      <th>36531</th>\n",
              "      <td>41</td>\n",
              "      <td>0</td>\n",
              "      <td>-277</td>\n",
              "      <td>1</td>\n",
              "      <td>0</td>\n",
              "      <td>12</td>\n",
              "      <td>1</td>\n",
              "      <td>-1</td>\n",
              "      <td>0</td>\n",
              "      <td>0</td>\n",
              "      <td>0</td>\n",
              "      <td>0</td>\n",
              "      <td>0</td>\n",
              "      <td>1</td>\n",
              "      <td>0</td>\n",
              "      <td>0</td>\n",
              "      <td>0</td>\n",
              "      <td>0</td>\n",
              "      <td>0</td>\n",
              "      <td>0</td>\n",
              "      <td>0</td>\n",
              "      <td>0</td>\n",
              "      <td>1</td>\n",
              "      <td>0</td>\n",
              "      <td>1</td>\n",
              "      <td>0</td>\n",
              "      <td>0</td>\n",
              "      <td>0</td>\n",
              "      <td>0</td>\n",
              "      <td>0</td>\n",
              "      <td>0</td>\n",
              "      <td>0</td>\n",
              "      <td>0</td>\n",
              "      <td>0</td>\n",
              "      <td>1</td>\n",
              "      <td>0</td>\n",
              "      <td>0</td>\n",
              "      <td>0</td>\n",
              "    </tr>\n",
              "    <tr>\n",
              "      <th>36208</th>\n",
              "      <td>35</td>\n",
              "      <td>0</td>\n",
              "      <td>189</td>\n",
              "      <td>1</td>\n",
              "      <td>0</td>\n",
              "      <td>11</td>\n",
              "      <td>1</td>\n",
              "      <td>-1</td>\n",
              "      <td>0</td>\n",
              "      <td>1</td>\n",
              "      <td>0</td>\n",
              "      <td>0</td>\n",
              "      <td>0</td>\n",
              "      <td>0</td>\n",
              "      <td>0</td>\n",
              "      <td>0</td>\n",
              "      <td>0</td>\n",
              "      <td>0</td>\n",
              "      <td>0</td>\n",
              "      <td>0</td>\n",
              "      <td>0</td>\n",
              "      <td>1</td>\n",
              "      <td>0</td>\n",
              "      <td>1</td>\n",
              "      <td>0</td>\n",
              "      <td>0</td>\n",
              "      <td>0</td>\n",
              "      <td>0</td>\n",
              "      <td>0</td>\n",
              "      <td>0</td>\n",
              "      <td>0</td>\n",
              "      <td>0</td>\n",
              "      <td>0</td>\n",
              "      <td>0</td>\n",
              "      <td>1</td>\n",
              "      <td>0</td>\n",
              "      <td>0</td>\n",
              "      <td>0</td>\n",
              "    </tr>\n",
              "    <tr>\n",
              "      <th>10064</th>\n",
              "      <td>54</td>\n",
              "      <td>0</td>\n",
              "      <td>1379</td>\n",
              "      <td>0</td>\n",
              "      <td>0</td>\n",
              "      <td>11</td>\n",
              "      <td>1</td>\n",
              "      <td>-1</td>\n",
              "      <td>0</td>\n",
              "      <td>0</td>\n",
              "      <td>0</td>\n",
              "      <td>0</td>\n",
              "      <td>0</td>\n",
              "      <td>0</td>\n",
              "      <td>1</td>\n",
              "      <td>0</td>\n",
              "      <td>0</td>\n",
              "      <td>0</td>\n",
              "      <td>0</td>\n",
              "      <td>0</td>\n",
              "      <td>0</td>\n",
              "      <td>1</td>\n",
              "      <td>0</td>\n",
              "      <td>1</td>\n",
              "      <td>0</td>\n",
              "      <td>0</td>\n",
              "      <td>0</td>\n",
              "      <td>0</td>\n",
              "      <td>0</td>\n",
              "      <td>0</td>\n",
              "      <td>0</td>\n",
              "      <td>0</td>\n",
              "      <td>1</td>\n",
              "      <td>0</td>\n",
              "      <td>0</td>\n",
              "      <td>0</td>\n",
              "      <td>0</td>\n",
              "      <td>0</td>\n",
              "    </tr>\n",
              "  </tbody>\n",
              "</table>\n",
              "</div>"
            ],
            "text/plain": [
              "       age  default  balance  ...  month_nov  month_oct  month_sep\n",
              "16021   54        0      167  ...          0          0          0\n",
              "13404   60        0     2270  ...          0          0          0\n",
              "36531   41        0     -277  ...          0          0          0\n",
              "36208   35        0      189  ...          0          0          0\n",
              "10064   54        0     1379  ...          0          0          0\n",
              "\n",
              "[5 rows x 38 columns]"
            ]
          },
          "metadata": {
            "tags": []
          },
          "execution_count": 17
        }
      ]
    },
    {
      "cell_type": "markdown",
      "metadata": {
        "id": "63MWoue1IHWs"
      },
      "source": [
        "## Random Forest"
      ]
    },
    {
      "cell_type": "code",
      "metadata": {
        "id": "hm4HHE4rIHWs"
      },
      "source": [
        "from sklearn.ensemble import RandomForestClassifier\n",
        "model=RandomForestClassifier()\n",
        "model.fit(trainX,trainY)\n",
        "pred=model.predict(testX)"
      ],
      "execution_count": 18,
      "outputs": []
    },
    {
      "cell_type": "code",
      "metadata": {
        "colab": {
          "base_uri": "https://localhost:8080/"
        },
        "id": "kBKnXT0HNTiJ",
        "outputId": "6980478e-a054-407b-c83a-f786849886bb"
      },
      "source": [
        "from sklearn.metrics import classification_report,confusion_matrix\n",
        "cm1=(confusion_matrix(testY,pred))\n",
        "\n",
        "print('Confusion Matrix : \\n', cm1)\n",
        "total1=sum(sum(cm1))\n",
        "\n",
        "accuracy1=(cm1[0,0]+cm1[1,1])/total1\n",
        "print ('Accuracy : ', accuracy1)\n",
        "\n",
        "sensitivity1 = cm1[0,0]/(cm1[0,0]+cm1[0,1])\n",
        "print('Sensitivity : ', sensitivity1 )\n",
        "\n",
        "specificity1 = cm1[1,1]/(cm1[1,0]+cm1[1,1])\n",
        "print('Specificity : ', specificity1)"
      ],
      "execution_count": 19,
      "outputs": [
        {
          "output_type": "stream",
          "text": [
            "Confusion Matrix : \n",
            " [[7443  154]\n",
            " [ 835  203]]\n",
            "Accuracy :  0.8854661262304574\n",
            "Sensitivity :  0.9797288403317099\n",
            "Specificity :  0.1955684007707129\n"
          ],
          "name": "stdout"
        }
      ]
    },
    {
      "cell_type": "code",
      "metadata": {
        "id": "UKcYVSSsIHWt",
        "colab": {
          "base_uri": "https://localhost:8080/"
        },
        "outputId": "15ff9394-93b8-4f87-c760-b7c3df4e666b"
      },
      "source": [
        "print(classification_report(testY, pred))"
      ],
      "execution_count": 20,
      "outputs": [
        {
          "output_type": "stream",
          "text": [
            "              precision    recall  f1-score   support\n",
            "\n",
            "           0       0.90      0.98      0.94      7597\n",
            "           1       0.57      0.20      0.29      1038\n",
            "\n",
            "    accuracy                           0.89      8635\n",
            "   macro avg       0.73      0.59      0.61      8635\n",
            "weighted avg       0.86      0.89      0.86      8635\n",
            "\n"
          ],
          "name": "stdout"
        }
      ]
    },
    {
      "cell_type": "code",
      "metadata": {
        "colab": {
          "base_uri": "https://localhost:8080/"
        },
        "id": "KQvdcmya8fna",
        "outputId": "97c4439b-cdb3-479e-aeac-49e6ef463f0b"
      },
      "source": [
        "import sklearn.metrics as metrics\n",
        "#AUC\n",
        "randomforestauc = metrics.roc_auc_score(testY , pred)\n",
        "randomforestauc"
      ],
      "execution_count": 21,
      "outputs": [
        {
          "output_type": "execute_result",
          "data": {
            "text/plain": [
              "0.5876486205512114"
            ]
          },
          "metadata": {
            "tags": []
          },
          "execution_count": 21
        }
      ]
    },
    {
      "cell_type": "markdown",
      "metadata": {
        "id": "uS5ncTMpIHWt"
      },
      "source": [
        "## Support Vector Classifier"
      ]
    },
    {
      "cell_type": "code",
      "metadata": {
        "id": "QkTXsIVEQCC5"
      },
      "source": [
        "#Normalizing the data\n",
        "from keras.utils import normalize\n",
        "Xtrain=normalize(trainX)\n",
        "Xtest=normalize(testX)"
      ],
      "execution_count": 22,
      "outputs": []
    },
    {
      "cell_type": "code",
      "metadata": {
        "id": "vDbP3zZspgPt",
        "colab": {
          "base_uri": "https://localhost:8080/"
        },
        "outputId": "c4518dbb-d854-4f5b-b288-47f6cd461b7a"
      },
      "source": [
        "from sklearn.svm import SVC\n",
        "model=SVC(gamma=0.8,degree=0.8,max_iter=10000)\n",
        "model.fit(trainX,trainY)\n",
        "pred=model.predict(testX)"
      ],
      "execution_count": 23,
      "outputs": [
        {
          "output_type": "stream",
          "text": [
            "/usr/local/lib/python3.6/dist-packages/sklearn/svm/_base.py:231: ConvergenceWarning: Solver terminated early (max_iter=10000).  Consider pre-processing your data with StandardScaler or MinMaxScaler.\n",
            "  % self.max_iter, ConvergenceWarning)\n"
          ],
          "name": "stderr"
        }
      ]
    },
    {
      "cell_type": "code",
      "metadata": {
        "id": "sEXJ674aNbFL",
        "colab": {
          "base_uri": "https://localhost:8080/"
        },
        "outputId": "66befe01-f18e-4770-ff14-3f1b7d79e9cd"
      },
      "source": [
        "cm1=(confusion_matrix(testY,pred))\n",
        "print('Confusion Matrix : \\n', cm1)\n",
        "total1=sum(sum(cm1))\n",
        "\n",
        "accuracy1=(cm1[0,0]+cm1[1,1])/total1\n",
        "print ('Accuracy : ', accuracy1)\n",
        "\n",
        "sensitivity1 = cm1[0,0]/(cm1[0,0]+cm1[0,1])\n",
        "print('Sensitivity : ', sensitivity1 )\n",
        "\n",
        "specificity1 = cm1[1,1]/(cm1[1,0]+cm1[1,1])\n",
        "print('Specificity : ', specificity1)"
      ],
      "execution_count": 24,
      "outputs": [
        {
          "output_type": "stream",
          "text": [
            "Confusion Matrix : \n",
            " [[7597    0]\n",
            " [1038    0]]\n",
            "Accuracy :  0.8797915460335842\n",
            "Sensitivity :  1.0\n",
            "Specificity :  0.0\n"
          ],
          "name": "stdout"
        }
      ]
    },
    {
      "cell_type": "code",
      "metadata": {
        "id": "UABAZE8ApgGk",
        "colab": {
          "base_uri": "https://localhost:8080/"
        },
        "outputId": "f820822c-21d5-4966-be2c-2b0046a86cbf"
      },
      "source": [
        "print(classification_report(testY, pred))"
      ],
      "execution_count": 25,
      "outputs": [
        {
          "output_type": "stream",
          "text": [
            "              precision    recall  f1-score   support\n",
            "\n",
            "           0       0.88      1.00      0.94      7597\n",
            "           1       0.00      0.00      0.00      1038\n",
            "\n",
            "    accuracy                           0.88      8635\n",
            "   macro avg       0.44      0.50      0.47      8635\n",
            "weighted avg       0.77      0.88      0.82      8635\n",
            "\n"
          ],
          "name": "stdout"
        },
        {
          "output_type": "stream",
          "text": [
            "/usr/local/lib/python3.6/dist-packages/sklearn/metrics/_classification.py:1272: UndefinedMetricWarning: Precision and F-score are ill-defined and being set to 0.0 in labels with no predicted samples. Use `zero_division` parameter to control this behavior.\n",
            "  _warn_prf(average, modifier, msg_start, len(result))\n"
          ],
          "name": "stderr"
        }
      ]
    },
    {
      "cell_type": "code",
      "metadata": {
        "colab": {
          "base_uri": "https://localhost:8080/"
        },
        "id": "f-kZ0KNX8wX7",
        "outputId": "4610437d-4221-4186-df9a-1612388b8c2e"
      },
      "source": [
        "import sklearn.metrics as metrics\n",
        "#AUC\n",
        "supportVectorMachineauc = metrics.roc_auc_score(testY , pred)\n",
        "supportVectorMachineauc"
      ],
      "execution_count": 26,
      "outputs": [
        {
          "output_type": "execute_result",
          "data": {
            "text/plain": [
              "0.5"
            ]
          },
          "metadata": {
            "tags": []
          },
          "execution_count": 26
        }
      ]
    },
    {
      "cell_type": "markdown",
      "metadata": {
        "id": "2AJh0XHvIHWu"
      },
      "source": [
        "## Artificial Neural Network"
      ]
    },
    {
      "cell_type": "code",
      "metadata": {
        "id": "CPo8sYAVweuW",
        "colab": {
          "base_uri": "https://localhost:8080/"
        },
        "outputId": "5b4954d1-24e7-43c1-a7ad-9292a0066a35"
      },
      "source": [
        "pip install tensorflow==2.2"
      ],
      "execution_count": 27,
      "outputs": [
        {
          "output_type": "stream",
          "text": [
            "Requirement already satisfied: tensorflow==2.2 in /usr/local/lib/python3.6/dist-packages (2.2.0)\n",
            "Requirement already satisfied: numpy<2.0,>=1.16.0 in /usr/local/lib/python3.6/dist-packages (from tensorflow==2.2) (1.18.5)\n",
            "Requirement already satisfied: six>=1.12.0 in /usr/local/lib/python3.6/dist-packages (from tensorflow==2.2) (1.15.0)\n",
            "Requirement already satisfied: google-pasta>=0.1.8 in /usr/local/lib/python3.6/dist-packages (from tensorflow==2.2) (0.2.0)\n",
            "Requirement already satisfied: grpcio>=1.8.6 in /usr/local/lib/python3.6/dist-packages (from tensorflow==2.2) (1.33.2)\n",
            "Requirement already satisfied: wrapt>=1.11.1 in /usr/local/lib/python3.6/dist-packages (from tensorflow==2.2) (1.12.1)\n",
            "Requirement already satisfied: h5py<2.11.0,>=2.10.0 in /usr/local/lib/python3.6/dist-packages (from tensorflow==2.2) (2.10.0)\n",
            "Requirement already satisfied: scipy==1.4.1; python_version >= \"3\" in /usr/local/lib/python3.6/dist-packages (from tensorflow==2.2) (1.4.1)\n",
            "Requirement already satisfied: keras-preprocessing>=1.1.0 in /usr/local/lib/python3.6/dist-packages (from tensorflow==2.2) (1.1.2)\n",
            "Requirement already satisfied: opt-einsum>=2.3.2 in /usr/local/lib/python3.6/dist-packages (from tensorflow==2.2) (3.3.0)\n",
            "Requirement already satisfied: tensorflow-estimator<2.3.0,>=2.2.0 in /usr/local/lib/python3.6/dist-packages (from tensorflow==2.2) (2.2.0)\n",
            "Requirement already satisfied: astunparse==1.6.3 in /usr/local/lib/python3.6/dist-packages (from tensorflow==2.2) (1.6.3)\n",
            "Requirement already satisfied: tensorboard<2.3.0,>=2.2.0 in /usr/local/lib/python3.6/dist-packages (from tensorflow==2.2) (2.2.2)\n",
            "Requirement already satisfied: termcolor>=1.1.0 in /usr/local/lib/python3.6/dist-packages (from tensorflow==2.2) (1.1.0)\n",
            "Requirement already satisfied: absl-py>=0.7.0 in /usr/local/lib/python3.6/dist-packages (from tensorflow==2.2) (0.10.0)\n",
            "Requirement already satisfied: gast==0.3.3 in /usr/local/lib/python3.6/dist-packages (from tensorflow==2.2) (0.3.3)\n",
            "Requirement already satisfied: protobuf>=3.8.0 in /usr/local/lib/python3.6/dist-packages (from tensorflow==2.2) (3.12.4)\n",
            "Requirement already satisfied: wheel>=0.26; python_version >= \"3\" in /usr/local/lib/python3.6/dist-packages (from tensorflow==2.2) (0.35.1)\n",
            "Requirement already satisfied: google-auth-oauthlib<0.5,>=0.4.1 in /usr/local/lib/python3.6/dist-packages (from tensorboard<2.3.0,>=2.2.0->tensorflow==2.2) (0.4.2)\n",
            "Requirement already satisfied: tensorboard-plugin-wit>=1.6.0 in /usr/local/lib/python3.6/dist-packages (from tensorboard<2.3.0,>=2.2.0->tensorflow==2.2) (1.7.0)\n",
            "Requirement already satisfied: google-auth<2,>=1.6.3 in /usr/local/lib/python3.6/dist-packages (from tensorboard<2.3.0,>=2.2.0->tensorflow==2.2) (1.17.2)\n",
            "Requirement already satisfied: setuptools>=41.0.0 in /usr/local/lib/python3.6/dist-packages (from tensorboard<2.3.0,>=2.2.0->tensorflow==2.2) (50.3.2)\n",
            "Requirement already satisfied: werkzeug>=0.11.15 in /usr/local/lib/python3.6/dist-packages (from tensorboard<2.3.0,>=2.2.0->tensorflow==2.2) (1.0.1)\n",
            "Requirement already satisfied: markdown>=2.6.8 in /usr/local/lib/python3.6/dist-packages (from tensorboard<2.3.0,>=2.2.0->tensorflow==2.2) (3.3.3)\n",
            "Requirement already satisfied: requests<3,>=2.21.0 in /usr/local/lib/python3.6/dist-packages (from tensorboard<2.3.0,>=2.2.0->tensorflow==2.2) (2.23.0)\n",
            "Requirement already satisfied: requests-oauthlib>=0.7.0 in /usr/local/lib/python3.6/dist-packages (from google-auth-oauthlib<0.5,>=0.4.1->tensorboard<2.3.0,>=2.2.0->tensorflow==2.2) (1.3.0)\n",
            "Requirement already satisfied: rsa<5,>=3.1.4; python_version >= \"3\" in /usr/local/lib/python3.6/dist-packages (from google-auth<2,>=1.6.3->tensorboard<2.3.0,>=2.2.0->tensorflow==2.2) (4.6)\n",
            "Requirement already satisfied: pyasn1-modules>=0.2.1 in /usr/local/lib/python3.6/dist-packages (from google-auth<2,>=1.6.3->tensorboard<2.3.0,>=2.2.0->tensorflow==2.2) (0.2.8)\n",
            "Requirement already satisfied: cachetools<5.0,>=2.0.0 in /usr/local/lib/python3.6/dist-packages (from google-auth<2,>=1.6.3->tensorboard<2.3.0,>=2.2.0->tensorflow==2.2) (4.1.1)\n",
            "Requirement already satisfied: importlib-metadata; python_version < \"3.8\" in /usr/local/lib/python3.6/dist-packages (from markdown>=2.6.8->tensorboard<2.3.0,>=2.2.0->tensorflow==2.2) (2.0.0)\n",
            "Requirement already satisfied: certifi>=2017.4.17 in /usr/local/lib/python3.6/dist-packages (from requests<3,>=2.21.0->tensorboard<2.3.0,>=2.2.0->tensorflow==2.2) (2020.11.8)\n",
            "Requirement already satisfied: urllib3!=1.25.0,!=1.25.1,<1.26,>=1.21.1 in /usr/local/lib/python3.6/dist-packages (from requests<3,>=2.21.0->tensorboard<2.3.0,>=2.2.0->tensorflow==2.2) (1.24.3)\n",
            "Requirement already satisfied: idna<3,>=2.5 in /usr/local/lib/python3.6/dist-packages (from requests<3,>=2.21.0->tensorboard<2.3.0,>=2.2.0->tensorflow==2.2) (2.10)\n",
            "Requirement already satisfied: chardet<4,>=3.0.2 in /usr/local/lib/python3.6/dist-packages (from requests<3,>=2.21.0->tensorboard<2.3.0,>=2.2.0->tensorflow==2.2) (3.0.4)\n",
            "Requirement already satisfied: oauthlib>=3.0.0 in /usr/local/lib/python3.6/dist-packages (from requests-oauthlib>=0.7.0->google-auth-oauthlib<0.5,>=0.4.1->tensorboard<2.3.0,>=2.2.0->tensorflow==2.2) (3.1.0)\n",
            "Requirement already satisfied: pyasn1>=0.1.3 in /usr/local/lib/python3.6/dist-packages (from rsa<5,>=3.1.4; python_version >= \"3\"->google-auth<2,>=1.6.3->tensorboard<2.3.0,>=2.2.0->tensorflow==2.2) (0.4.8)\n",
            "Requirement already satisfied: zipp>=0.5 in /usr/local/lib/python3.6/dist-packages (from importlib-metadata; python_version < \"3.8\"->markdown>=2.6.8->tensorboard<2.3.0,>=2.2.0->tensorflow==2.2) (3.4.0)\n"
          ],
          "name": "stdout"
        }
      ]
    },
    {
      "cell_type": "code",
      "metadata": {
        "id": "LEkxJcMxwYug"
      },
      "source": [
        "import tensorflow as tf\n",
        "from tensorflow import keras\n",
        "from keras import layers\n",
        "from keras.utils import normalize"
      ],
      "execution_count": 28,
      "outputs": []
    },
    {
      "cell_type": "code",
      "metadata": {
        "id": "3jrt3OitwUB0"
      },
      "source": [
        "#Normalizing the data\n",
        "from keras.utils import normalize\n",
        "Xtrain=normalize(trainX)\n",
        "Xtest=normalize(testX)"
      ],
      "execution_count": 29,
      "outputs": []
    },
    {
      "cell_type": "code",
      "metadata": {
        "id": "QttWHQk5IHWu"
      },
      "source": [
        "# Defining the model\n",
        "tf.keras.backend.set_floatx('float64')\n",
        "model=keras.models.Sequential()\n",
        "#model.add(keras.layers.Flatten()) #Flattens the input\n",
        "model.add(keras.layers.Dense(39,activation=tf.nn.relu)) #Adding input layer with 39 neurons and relu activation func\n",
        "model.add(keras.layers.Dense(39,activation=tf.nn.relu))\n",
        "model.add(keras.layers.Dense(2,activation=tf.nn.softmax))\n",
        "# Adam Optimiser converges faster than any other existing optimizer\n",
        "# sparse categorical crossentropy combines the good of crossentropy and one hot encoding\n",
        "model.compile(optimizer=\"adam\",loss=\"sparse_categorical_crossentropy\",metrics=[\"accuracy\"])"
      ],
      "execution_count": 30,
      "outputs": []
    },
    {
      "cell_type": "code",
      "metadata": {
        "colab": {
          "base_uri": "https://localhost:8080/"
        },
        "id": "EYxAcrZnCBmn",
        "outputId": "b31efdfe-6bdd-441b-b903-df6dbd612b82"
      },
      "source": [
        "model.fit(Xtrain,trainY,epochs=100)"
      ],
      "execution_count": 31,
      "outputs": [
        {
          "output_type": "stream",
          "text": [
            "Epoch 1/100\n",
            "1080/1080 [==============================] - 2s 2ms/step - loss: 0.3574 - accuracy: 0.8846\n",
            "Epoch 2/100\n",
            "1080/1080 [==============================] - 2s 1ms/step - loss: 0.3457 - accuracy: 0.8847\n",
            "Epoch 3/100\n",
            "1080/1080 [==============================] - 2s 1ms/step - loss: 0.3425 - accuracy: 0.8847\n",
            "Epoch 4/100\n",
            "1080/1080 [==============================] - 2s 1ms/step - loss: 0.3400 - accuracy: 0.8847\n",
            "Epoch 5/100\n",
            "1080/1080 [==============================] - 2s 1ms/step - loss: 0.3380 - accuracy: 0.8847\n",
            "Epoch 6/100\n",
            "1080/1080 [==============================] - 2s 1ms/step - loss: 0.3365 - accuracy: 0.8846\n",
            "Epoch 7/100\n",
            "1080/1080 [==============================] - 2s 1ms/step - loss: 0.3360 - accuracy: 0.8846\n",
            "Epoch 8/100\n",
            "1080/1080 [==============================] - 2s 1ms/step - loss: 0.3348 - accuracy: 0.8847\n",
            "Epoch 9/100\n",
            "1080/1080 [==============================] - 2s 1ms/step - loss: 0.3331 - accuracy: 0.8844\n",
            "Epoch 10/100\n",
            "1080/1080 [==============================] - 2s 1ms/step - loss: 0.3329 - accuracy: 0.8845\n",
            "Epoch 11/100\n",
            "1080/1080 [==============================] - 2s 2ms/step - loss: 0.3316 - accuracy: 0.8846\n",
            "Epoch 12/100\n",
            "1080/1080 [==============================] - 2s 1ms/step - loss: 0.3305 - accuracy: 0.8845\n",
            "Epoch 13/100\n",
            "1080/1080 [==============================] - 2s 1ms/step - loss: 0.3302 - accuracy: 0.8844\n",
            "Epoch 14/100\n",
            "1080/1080 [==============================] - 2s 1ms/step - loss: 0.3283 - accuracy: 0.8843\n",
            "Epoch 15/100\n",
            "1080/1080 [==============================] - 2s 1ms/step - loss: 0.3276 - accuracy: 0.8844\n",
            "Epoch 16/100\n",
            "1080/1080 [==============================] - 2s 1ms/step - loss: 0.3265 - accuracy: 0.8848\n",
            "Epoch 17/100\n",
            "1080/1080 [==============================] - 2s 1ms/step - loss: 0.3255 - accuracy: 0.8849\n",
            "Epoch 18/100\n",
            "1080/1080 [==============================] - 2s 1ms/step - loss: 0.3247 - accuracy: 0.8848\n",
            "Epoch 19/100\n",
            "1080/1080 [==============================] - 2s 1ms/step - loss: 0.3236 - accuracy: 0.8853\n",
            "Epoch 20/100\n",
            "1080/1080 [==============================] - 2s 1ms/step - loss: 0.3228 - accuracy: 0.8850\n",
            "Epoch 21/100\n",
            "1080/1080 [==============================] - 2s 1ms/step - loss: 0.3218 - accuracy: 0.8854\n",
            "Epoch 22/100\n",
            "1080/1080 [==============================] - 2s 1ms/step - loss: 0.3216 - accuracy: 0.8857\n",
            "Epoch 23/100\n",
            "1080/1080 [==============================] - 2s 2ms/step - loss: 0.3208 - accuracy: 0.8854\n",
            "Epoch 24/100\n",
            "1080/1080 [==============================] - 2s 2ms/step - loss: 0.3206 - accuracy: 0.8849\n",
            "Epoch 25/100\n",
            "1080/1080 [==============================] - 2s 2ms/step - loss: 0.3197 - accuracy: 0.8857\n",
            "Epoch 26/100\n",
            "1080/1080 [==============================] - 2s 2ms/step - loss: 0.3203 - accuracy: 0.8850\n",
            "Epoch 27/100\n",
            "1080/1080 [==============================] - 2s 2ms/step - loss: 0.3190 - accuracy: 0.8855\n",
            "Epoch 28/100\n",
            "1080/1080 [==============================] - 2s 2ms/step - loss: 0.3190 - accuracy: 0.8854\n",
            "Epoch 29/100\n",
            "1080/1080 [==============================] - 2s 2ms/step - loss: 0.3188 - accuracy: 0.8859\n",
            "Epoch 30/100\n",
            "1080/1080 [==============================] - 2s 2ms/step - loss: 0.3177 - accuracy: 0.8860\n",
            "Epoch 31/100\n",
            "1080/1080 [==============================] - 2s 2ms/step - loss: 0.3174 - accuracy: 0.8861\n",
            "Epoch 32/100\n",
            "1080/1080 [==============================] - 2s 2ms/step - loss: 0.3177 - accuracy: 0.8858\n",
            "Epoch 33/100\n",
            "1080/1080 [==============================] - 2s 2ms/step - loss: 0.3174 - accuracy: 0.8861\n",
            "Epoch 34/100\n",
            "1080/1080 [==============================] - 2s 2ms/step - loss: 0.3168 - accuracy: 0.8861\n",
            "Epoch 35/100\n",
            "1080/1080 [==============================] - 2s 1ms/step - loss: 0.3161 - accuracy: 0.8864\n",
            "Epoch 36/100\n",
            "1080/1080 [==============================] - 2s 2ms/step - loss: 0.3167 - accuracy: 0.8860\n",
            "Epoch 37/100\n",
            "1080/1080 [==============================] - 2s 1ms/step - loss: 0.3157 - accuracy: 0.8862\n",
            "Epoch 38/100\n",
            "1080/1080 [==============================] - 2s 1ms/step - loss: 0.3161 - accuracy: 0.8861\n",
            "Epoch 39/100\n",
            "1080/1080 [==============================] - 2s 1ms/step - loss: 0.3155 - accuracy: 0.8863\n",
            "Epoch 40/100\n",
            "1080/1080 [==============================] - 2s 1ms/step - loss: 0.3152 - accuracy: 0.8864\n",
            "Epoch 41/100\n",
            "1080/1080 [==============================] - 2s 2ms/step - loss: 0.3148 - accuracy: 0.8863\n",
            "Epoch 42/100\n",
            "1080/1080 [==============================] - 2s 2ms/step - loss: 0.3143 - accuracy: 0.8864\n",
            "Epoch 43/100\n",
            "1080/1080 [==============================] - 2s 1ms/step - loss: 0.3155 - accuracy: 0.8869\n",
            "Epoch 44/100\n",
            "1080/1080 [==============================] - 2s 1ms/step - loss: 0.3142 - accuracy: 0.8866\n",
            "Epoch 45/100\n",
            "1080/1080 [==============================] - 2s 1ms/step - loss: 0.3126 - accuracy: 0.8874\n",
            "Epoch 46/100\n",
            "1080/1080 [==============================] - 2s 1ms/step - loss: 0.3136 - accuracy: 0.8868\n",
            "Epoch 47/100\n",
            "1080/1080 [==============================] - 2s 1ms/step - loss: 0.3135 - accuracy: 0.8863\n",
            "Epoch 48/100\n",
            "1080/1080 [==============================] - 2s 1ms/step - loss: 0.3130 - accuracy: 0.8869\n",
            "Epoch 49/100\n",
            "1080/1080 [==============================] - 2s 1ms/step - loss: 0.3126 - accuracy: 0.8869\n",
            "Epoch 50/100\n",
            "1080/1080 [==============================] - 2s 1ms/step - loss: 0.3132 - accuracy: 0.8866\n",
            "Epoch 51/100\n",
            "1080/1080 [==============================] - 2s 2ms/step - loss: 0.3127 - accuracy: 0.8864\n",
            "Epoch 52/100\n",
            "1080/1080 [==============================] - 2s 1ms/step - loss: 0.3124 - accuracy: 0.8864\n",
            "Epoch 53/100\n",
            "1080/1080 [==============================] - 2s 1ms/step - loss: 0.3119 - accuracy: 0.8864\n",
            "Epoch 54/100\n",
            "1080/1080 [==============================] - 2s 1ms/step - loss: 0.3120 - accuracy: 0.8872\n",
            "Epoch 55/100\n",
            "1080/1080 [==============================] - 2s 2ms/step - loss: 0.3111 - accuracy: 0.8870\n",
            "Epoch 56/100\n",
            "1080/1080 [==============================] - 2s 1ms/step - loss: 0.3115 - accuracy: 0.8868\n",
            "Epoch 57/100\n",
            "1080/1080 [==============================] - 2s 1ms/step - loss: 0.3112 - accuracy: 0.8865\n",
            "Epoch 58/100\n",
            "1080/1080 [==============================] - 2s 1ms/step - loss: 0.3108 - accuracy: 0.8870\n",
            "Epoch 59/100\n",
            "1080/1080 [==============================] - 2s 1ms/step - loss: 0.3106 - accuracy: 0.8876\n",
            "Epoch 60/100\n",
            "1080/1080 [==============================] - 2s 1ms/step - loss: 0.3102 - accuracy: 0.8871\n",
            "Epoch 61/100\n",
            "1080/1080 [==============================] - 2s 1ms/step - loss: 0.3108 - accuracy: 0.8869\n",
            "Epoch 62/100\n",
            "1080/1080 [==============================] - 2s 2ms/step - loss: 0.3109 - accuracy: 0.8880\n",
            "Epoch 63/100\n",
            "1080/1080 [==============================] - 2s 1ms/step - loss: 0.3106 - accuracy: 0.8866\n",
            "Epoch 64/100\n",
            "1080/1080 [==============================] - 2s 1ms/step - loss: 0.3099 - accuracy: 0.8875\n",
            "Epoch 65/100\n",
            "1080/1080 [==============================] - 2s 1ms/step - loss: 0.3102 - accuracy: 0.8874\n",
            "Epoch 66/100\n",
            "1080/1080 [==============================] - 3s 3ms/step - loss: 0.3094 - accuracy: 0.8876\n",
            "Epoch 67/100\n",
            "1080/1080 [==============================] - 3s 3ms/step - loss: 0.3090 - accuracy: 0.8876\n",
            "Epoch 68/100\n",
            "1080/1080 [==============================] - 2s 1ms/step - loss: 0.3092 - accuracy: 0.8872\n",
            "Epoch 69/100\n",
            "1080/1080 [==============================] - 2s 1ms/step - loss: 0.3090 - accuracy: 0.8882\n",
            "Epoch 70/100\n",
            "1080/1080 [==============================] - 2s 2ms/step - loss: 0.3084 - accuracy: 0.8878\n",
            "Epoch 71/100\n",
            "1080/1080 [==============================] - 2s 2ms/step - loss: 0.3083 - accuracy: 0.8874\n",
            "Epoch 72/100\n",
            "1080/1080 [==============================] - 2s 2ms/step - loss: 0.3085 - accuracy: 0.8876\n",
            "Epoch 73/100\n",
            "1080/1080 [==============================] - 2s 2ms/step - loss: 0.3084 - accuracy: 0.8871\n",
            "Epoch 74/100\n",
            "1080/1080 [==============================] - 2s 1ms/step - loss: 0.3077 - accuracy: 0.8879\n",
            "Epoch 75/100\n",
            "1080/1080 [==============================] - 2s 1ms/step - loss: 0.3089 - accuracy: 0.8883\n",
            "Epoch 76/100\n",
            "1080/1080 [==============================] - 2s 2ms/step - loss: 0.3081 - accuracy: 0.8876\n",
            "Epoch 77/100\n",
            "1080/1080 [==============================] - 2s 2ms/step - loss: 0.3079 - accuracy: 0.8876\n",
            "Epoch 78/100\n",
            "1080/1080 [==============================] - 2s 2ms/step - loss: 0.3081 - accuracy: 0.8877\n",
            "Epoch 79/100\n",
            "1080/1080 [==============================] - 2s 2ms/step - loss: 0.3076 - accuracy: 0.8878\n",
            "Epoch 80/100\n",
            "1080/1080 [==============================] - 2s 1ms/step - loss: 0.3080 - accuracy: 0.8879\n",
            "Epoch 81/100\n",
            "1080/1080 [==============================] - 2s 2ms/step - loss: 0.3073 - accuracy: 0.8884\n",
            "Epoch 82/100\n",
            "1080/1080 [==============================] - 2s 1ms/step - loss: 0.3082 - accuracy: 0.8878\n",
            "Epoch 83/100\n",
            "1080/1080 [==============================] - 2s 1ms/step - loss: 0.3075 - accuracy: 0.8871\n",
            "Epoch 84/100\n",
            "1080/1080 [==============================] - 2s 1ms/step - loss: 0.3069 - accuracy: 0.8875\n",
            "Epoch 85/100\n",
            "1080/1080 [==============================] - 2s 2ms/step - loss: 0.3065 - accuracy: 0.8882\n",
            "Epoch 86/100\n",
            "1080/1080 [==============================] - 2s 2ms/step - loss: 0.3072 - accuracy: 0.8877\n",
            "Epoch 87/100\n",
            "1080/1080 [==============================] - 2s 1ms/step - loss: 0.3065 - accuracy: 0.8877\n",
            "Epoch 88/100\n",
            "1080/1080 [==============================] - 2s 1ms/step - loss: 0.3071 - accuracy: 0.8879\n",
            "Epoch 89/100\n",
            "1080/1080 [==============================] - 2s 1ms/step - loss: 0.3065 - accuracy: 0.8880\n",
            "Epoch 90/100\n",
            "1080/1080 [==============================] - 2s 1ms/step - loss: 0.3062 - accuracy: 0.8878\n",
            "Epoch 91/100\n",
            "1080/1080 [==============================] - 2s 1ms/step - loss: 0.3057 - accuracy: 0.8885\n",
            "Epoch 92/100\n",
            "1080/1080 [==============================] - 2s 2ms/step - loss: 0.3062 - accuracy: 0.8888\n",
            "Epoch 93/100\n",
            "1080/1080 [==============================] - 2s 1ms/step - loss: 0.3061 - accuracy: 0.8875\n",
            "Epoch 94/100\n",
            "1080/1080 [==============================] - 2s 1ms/step - loss: 0.3060 - accuracy: 0.8884\n",
            "Epoch 95/100\n",
            "1080/1080 [==============================] - 2s 1ms/step - loss: 0.3048 - accuracy: 0.8884\n",
            "Epoch 96/100\n",
            "1080/1080 [==============================] - 2s 1ms/step - loss: 0.3056 - accuracy: 0.8885\n",
            "Epoch 97/100\n",
            "1080/1080 [==============================] - 2s 2ms/step - loss: 0.3059 - accuracy: 0.8880\n",
            "Epoch 98/100\n",
            "1080/1080 [==============================] - 2s 2ms/step - loss: 0.3056 - accuracy: 0.8885\n",
            "Epoch 99/100\n",
            "1080/1080 [==============================] - 2s 2ms/step - loss: 0.3051 - accuracy: 0.8878\n",
            "Epoch 100/100\n",
            "1080/1080 [==============================] - 2s 2ms/step - loss: 0.3058 - accuracy: 0.8885\n"
          ],
          "name": "stdout"
        },
        {
          "output_type": "execute_result",
          "data": {
            "text/plain": [
              "<tensorflow.python.keras.callbacks.History at 0x7ff5e2249cf8>"
            ]
          },
          "metadata": {
            "tags": []
          },
          "execution_count": 31
        }
      ]
    },
    {
      "cell_type": "code",
      "metadata": {
        "id": "g8rgl-pUgb9-"
      },
      "source": [
        "predY = model.predict(Xtest)\n",
        "y_pred_class = np.argmax(predY,axis=1)"
      ],
      "execution_count": 32,
      "outputs": []
    },
    {
      "cell_type": "code",
      "metadata": {
        "colab": {
          "base_uri": "https://localhost:8080/"
        },
        "id": "BSgLc8Xuh2h3",
        "outputId": "846b40c6-1fd1-4838-ebe2-96e0b314dab3"
      },
      "source": [
        "from sklearn.metrics import classification_report,confusion_matrix\n",
        "cm1=(confusion_matrix(testY,y_pred_class))\n",
        "print('Confusion Matrix : \\n', cm1)\n",
        "total1=sum(sum(cm1))\n",
        "\n",
        "accuracy1=(cm1[0,0]+cm1[1,1])/total1\n",
        "print ('Accuracy : ', accuracy1)\n",
        "\n",
        "sensitivity1 = cm1[0,0]/(cm1[0,0]+cm1[0,1])\n",
        "print('Sensitivity : ', sensitivity1 )\n",
        "\n",
        "specificity1 = cm1[1,1]/(cm1[1,0]+cm1[1,1])\n",
        "print('Specificity : ', specificity1)"
      ],
      "execution_count": 33,
      "outputs": [
        {
          "output_type": "stream",
          "text": [
            "Confusion Matrix : \n",
            " [[7518   79]\n",
            " [ 937  101]]\n",
            "Accuracy :  0.8823393167342212\n",
            "Sensitivity :  0.989601158351981\n",
            "Specificity :  0.09730250481695568\n"
          ],
          "name": "stdout"
        }
      ]
    },
    {
      "cell_type": "code",
      "metadata": {
        "id": "EYN0xJMrV3cV",
        "colab": {
          "base_uri": "https://localhost:8080/"
        },
        "outputId": "d29b43df-c0da-475a-e4a4-817d75e22df6"
      },
      "source": [
        "print(classification_report(testY,y_pred_class))"
      ],
      "execution_count": 34,
      "outputs": [
        {
          "output_type": "stream",
          "text": [
            "              precision    recall  f1-score   support\n",
            "\n",
            "           0       0.89      0.99      0.94      7597\n",
            "           1       0.56      0.10      0.17      1038\n",
            "\n",
            "    accuracy                           0.88      8635\n",
            "   macro avg       0.73      0.54      0.55      8635\n",
            "weighted avg       0.85      0.88      0.84      8635\n",
            "\n"
          ],
          "name": "stdout"
        }
      ]
    },
    {
      "cell_type": "code",
      "metadata": {
        "colab": {
          "base_uri": "https://localhost:8080/"
        },
        "id": "w0Bi85-N85DU",
        "outputId": "174fa83b-2af7-47be-e28a-a99e6f504137"
      },
      "source": [
        "import sklearn.metrics as metrics\n",
        "#AUC\n",
        "artificialNeuralNetworkauc = metrics.roc_auc_score(testY , y_pred_class)\n",
        "artificialNeuralNetworkauc"
      ],
      "execution_count": 35,
      "outputs": [
        {
          "output_type": "execute_result",
          "data": {
            "text/plain": [
              "0.5434518315844684"
            ]
          },
          "metadata": {
            "tags": []
          },
          "execution_count": 35
        }
      ]
    },
    {
      "cell_type": "markdown",
      "metadata": {
        "id": "aMtGELS-IHWv"
      },
      "source": [
        "## Probabilistic Neural Network"
      ]
    },
    {
      "cell_type": "code",
      "metadata": {
        "id": "DegfzDoSr2Jf",
        "colab": {
          "base_uri": "https://localhost:8080/",
          "height": 851
        },
        "outputId": "0d08426c-820e-47f9-8693-2754ade883f7"
      },
      "source": [
        "!pip install neupy"
      ],
      "execution_count": 36,
      "outputs": [
        {
          "output_type": "stream",
          "text": [
            "Requirement already satisfied: neupy in /usr/local/lib/python3.6/dist-packages (0.8.2)\n",
            "Requirement already satisfied: progressbar2==3.34.3 in /usr/local/lib/python3.6/dist-packages (from neupy) (3.34.3)\n",
            "Requirement already satisfied: scipy>=0.19.0 in /usr/local/lib/python3.6/dist-packages (from neupy) (1.4.1)\n",
            "Collecting tensorflow<1.14.0,>=1.10.1\n",
            "  Using cached https://files.pythonhosted.org/packages/db/d3/651f95288a6cd9094f7411cdd90ef12a3d01a268009e0e3cd66b5c8d65bd/tensorflow-1.13.2-cp36-cp36m-manylinux1_x86_64.whl\n",
            "Requirement already satisfied: graphviz==0.5.1 in /usr/local/lib/python3.6/dist-packages (from neupy) (0.5.1)\n",
            "Requirement already satisfied: h5py in /usr/local/lib/python3.6/dist-packages (from neupy) (2.10.0)\n",
            "Requirement already satisfied: numpy>=1.13.3 in /usr/local/lib/python3.6/dist-packages (from neupy) (1.18.5)\n",
            "Requirement already satisfied: matplotlib>=1.5.1 in /usr/local/lib/python3.6/dist-packages (from neupy) (3.2.2)\n",
            "Requirement already satisfied: python-utils>=2.1.0 in /usr/local/lib/python3.6/dist-packages (from progressbar2==3.34.3->neupy) (2.4.0)\n",
            "Requirement already satisfied: keras-applications>=1.0.6 in /usr/local/lib/python3.6/dist-packages (from tensorflow<1.14.0,>=1.10.1->neupy) (1.0.8)\n",
            "Requirement already satisfied: wheel>=0.26 in /usr/local/lib/python3.6/dist-packages (from tensorflow<1.14.0,>=1.10.1->neupy) (0.35.1)\n",
            "Requirement already satisfied: astor>=0.6.0 in /usr/local/lib/python3.6/dist-packages (from tensorflow<1.14.0,>=1.10.1->neupy) (0.8.1)\n",
            "Requirement already satisfied: absl-py>=0.1.6 in /usr/local/lib/python3.6/dist-packages (from tensorflow<1.14.0,>=1.10.1->neupy) (0.10.0)\n",
            "Requirement already satisfied: keras-preprocessing>=1.0.5 in /usr/local/lib/python3.6/dist-packages (from tensorflow<1.14.0,>=1.10.1->neupy) (1.1.2)\n",
            "Requirement already satisfied: gast>=0.2.0 in /usr/local/lib/python3.6/dist-packages (from tensorflow<1.14.0,>=1.10.1->neupy) (0.3.3)\n",
            "Requirement already satisfied: grpcio>=1.8.6 in /usr/local/lib/python3.6/dist-packages (from tensorflow<1.14.0,>=1.10.1->neupy) (1.33.2)\n",
            "Collecting tensorflow-estimator<1.14.0rc0,>=1.13.0\n",
            "  Using cached https://files.pythonhosted.org/packages/bb/48/13f49fc3fa0fdf916aa1419013bb8f2ad09674c275b4046d5ee669a46873/tensorflow_estimator-1.13.0-py2.py3-none-any.whl\n",
            "Requirement already satisfied: six>=1.10.0 in /usr/local/lib/python3.6/dist-packages (from tensorflow<1.14.0,>=1.10.1->neupy) (1.15.0)\n",
            "Collecting tensorboard<1.14.0,>=1.13.0\n",
            "  Using cached https://files.pythonhosted.org/packages/0f/39/bdd75b08a6fba41f098b6cb091b9e8c7a80e1b4d679a581a0ccd17b10373/tensorboard-1.13.1-py3-none-any.whl\n",
            "Requirement already satisfied: termcolor>=1.1.0 in /usr/local/lib/python3.6/dist-packages (from tensorflow<1.14.0,>=1.10.1->neupy) (1.1.0)\n",
            "Requirement already satisfied: protobuf>=3.6.1 in /usr/local/lib/python3.6/dist-packages (from tensorflow<1.14.0,>=1.10.1->neupy) (3.12.4)\n",
            "Requirement already satisfied: kiwisolver>=1.0.1 in /usr/local/lib/python3.6/dist-packages (from matplotlib>=1.5.1->neupy) (1.3.1)\n",
            "Requirement already satisfied: cycler>=0.10 in /usr/local/lib/python3.6/dist-packages (from matplotlib>=1.5.1->neupy) (0.10.0)\n",
            "Requirement already satisfied: python-dateutil>=2.1 in /usr/local/lib/python3.6/dist-packages (from matplotlib>=1.5.1->neupy) (2.8.1)\n",
            "Requirement already satisfied: pyparsing!=2.0.4,!=2.1.2,!=2.1.6,>=2.0.1 in /usr/local/lib/python3.6/dist-packages (from matplotlib>=1.5.1->neupy) (2.4.7)\n",
            "Requirement already satisfied: mock>=2.0.0 in /usr/local/lib/python3.6/dist-packages (from tensorflow-estimator<1.14.0rc0,>=1.13.0->tensorflow<1.14.0,>=1.10.1->neupy) (4.0.2)\n",
            "Requirement already satisfied: markdown>=2.6.8 in /usr/local/lib/python3.6/dist-packages (from tensorboard<1.14.0,>=1.13.0->tensorflow<1.14.0,>=1.10.1->neupy) (3.3.3)\n",
            "Requirement already satisfied: werkzeug>=0.11.15 in /usr/local/lib/python3.6/dist-packages (from tensorboard<1.14.0,>=1.13.0->tensorflow<1.14.0,>=1.10.1->neupy) (1.0.1)\n",
            "Requirement already satisfied: setuptools in /usr/local/lib/python3.6/dist-packages (from protobuf>=3.6.1->tensorflow<1.14.0,>=1.10.1->neupy) (50.3.2)\n",
            "Requirement already satisfied: importlib-metadata; python_version < \"3.8\" in /usr/local/lib/python3.6/dist-packages (from markdown>=2.6.8->tensorboard<1.14.0,>=1.13.0->tensorflow<1.14.0,>=1.10.1->neupy) (2.0.0)\n",
            "Requirement already satisfied: zipp>=0.5 in /usr/local/lib/python3.6/dist-packages (from importlib-metadata; python_version < \"3.8\"->markdown>=2.6.8->tensorboard<1.14.0,>=1.13.0->tensorflow<1.14.0,>=1.10.1->neupy) (3.4.0)\n",
            "Installing collected packages: tensorflow-estimator, tensorboard, tensorflow\n",
            "  Found existing installation: tensorflow-estimator 2.2.0\n",
            "    Uninstalling tensorflow-estimator-2.2.0:\n",
            "      Successfully uninstalled tensorflow-estimator-2.2.0\n",
            "  Found existing installation: tensorboard 2.2.2\n",
            "    Uninstalling tensorboard-2.2.2:\n",
            "      Successfully uninstalled tensorboard-2.2.2\n",
            "  Found existing installation: tensorflow 2.2.0\n",
            "    Uninstalling tensorflow-2.2.0:\n",
            "      Successfully uninstalled tensorflow-2.2.0\n",
            "Successfully installed tensorboard-1.13.1 tensorflow-1.13.2 tensorflow-estimator-1.13.0\n"
          ],
          "name": "stdout"
        },
        {
          "output_type": "display_data",
          "data": {
            "application/vnd.colab-display-data+json": {
              "pip_warning": {
                "packages": [
                  "tensorboard",
                  "tensorflow"
                ]
              }
            }
          },
          "metadata": {
            "tags": []
          }
        }
      ]
    },
    {
      "cell_type": "code",
      "metadata": {
        "id": "QQn6Mki3IHWv"
      },
      "source": [
        "from neupy import algorithms\n",
        "from sklearn import metrics"
      ],
      "execution_count": 37,
      "outputs": []
    },
    {
      "cell_type": "code",
      "metadata": {
        "id": "MkyEj5ORsNIr",
        "colab": {
          "base_uri": "https://localhost:8080/"
        },
        "outputId": "f76638ee-7dc2-4c2e-8d3c-ff073f93fc99"
      },
      "source": [
        "pnn = algorithms.PNN(std=10,verbose=True)\n",
        "pnn.train(Xtrain,trainY)"
      ],
      "execution_count": 38,
      "outputs": [
        {
          "output_type": "stream",
          "text": [
            "\n",
            "Main information\n",
            "\n",
            "[ALGORITHM] PNN\n",
            "\r\n",
            "[OPTION] batch_size = 128\n",
            "[OPTION] std = 10\n",
            "[OPTION] verbose = True\n",
            "\r\n"
          ],
          "name": "stdout"
        }
      ]
    },
    {
      "cell_type": "code",
      "metadata": {
        "id": "82oCXHwjuRYs",
        "colab": {
          "base_uri": "https://localhost:8080/"
        },
        "outputId": "eca19ad9-5838-43cf-d871-bdc68b48d5d6"
      },
      "source": [
        "pred=pnn.predict(Xtest)\n",
        "prob=pnn.predict_proba(Xtest)\n",
        "print(pred)"
      ],
      "execution_count": 39,
      "outputs": [
        {
          "output_type": "stream",
          "text": [
            "Time: 0:01:52 | 98%|########################################### | ETA:  0:00:01"
          ],
          "name": "stderr"
        },
        {
          "output_type": "stream",
          "text": [
            "[1 1 1 ... 0 1 1]\n"
          ],
          "name": "stdout"
        },
        {
          "output_type": "stream",
          "text": [
            "\r                                                                               \r"
          ],
          "name": "stderr"
        }
      ]
    },
    {
      "cell_type": "code",
      "metadata": {
        "id": "RFFbRm1QsNBN",
        "colab": {
          "base_uri": "https://localhost:8080/"
        },
        "outputId": "607dc5c5-52dc-465b-96ab-e128550681f3"
      },
      "source": [
        "y_pred = pnn.predict(testX)"
      ],
      "execution_count": 40,
      "outputs": [
        {
          "output_type": "stream",
          "text": [
            ""
          ],
          "name": "stderr"
        }
      ]
    },
    {
      "cell_type": "code",
      "metadata": {
        "id": "d3eQ4NWZBt_P",
        "colab": {
          "base_uri": "https://localhost:8080/"
        },
        "outputId": "58bae6c2-662c-4ffc-98d6-714186083d0c"
      },
      "source": [
        "from sklearn.metrics import classification_report,confusion_matrix\n",
        "cm1=(confusion_matrix(testY,y_pred))\n",
        "print('Confusion Matrix : \\n', cm1)\n",
        "total1=sum(sum(cm1))\n",
        "\n",
        "accuracy1=(cm1[0,0]+cm1[1,1])/total1\n",
        "print ('Accuracy : ', accuracy1)\n",
        "\n",
        "sensitivity1 = cm1[0,0]/(cm1[0,0]+cm1[0,1])\n",
        "print('Sensitivity : ', sensitivity1 )\n",
        "\n",
        "specificity1 = cm1[1,1]/(cm1[1,0]+cm1[1,1])\n",
        "print('Specificity : ', specificity1)"
      ],
      "execution_count": 41,
      "outputs": [
        {
          "output_type": "stream",
          "text": [
            "Confusion Matrix : \n",
            " [[6312 1285]\n",
            " [ 881  157]]\n",
            "Accuracy :  0.749160393746381\n",
            "Sensitivity :  0.8308542845860208\n",
            "Specificity :  0.151252408477842\n"
          ],
          "name": "stdout"
        }
      ]
    },
    {
      "cell_type": "code",
      "metadata": {
        "id": "VpzZOt4OGTuF",
        "colab": {
          "base_uri": "https://localhost:8080/"
        },
        "outputId": "16ea8453-19fa-430a-8cd5-5613f70f3848"
      },
      "source": [
        "print(classification_report(testY,y_pred))"
      ],
      "execution_count": 42,
      "outputs": [
        {
          "output_type": "stream",
          "text": [
            "              precision    recall  f1-score   support\n",
            "\n",
            "           0       0.88      0.83      0.85      7597\n",
            "           1       0.11      0.15      0.13      1038\n",
            "\n",
            "    accuracy                           0.75      8635\n",
            "   macro avg       0.49      0.49      0.49      8635\n",
            "weighted avg       0.79      0.75      0.77      8635\n",
            "\n"
          ],
          "name": "stdout"
        }
      ]
    },
    {
      "cell_type": "code",
      "metadata": {
        "id": "JuuSC5Ut8_2W",
        "colab": {
          "base_uri": "https://localhost:8080/"
        },
        "outputId": "bbdbc1f4-c1de-4f39-e58b-9996e4e0cb33"
      },
      "source": [
        "import sklearn.metrics as metrics\n",
        "#AUC\n",
        "probablisticNeuralNetworkauc = metrics.roc_auc_score(testY , y_pred)\n",
        "probablisticNeuralNetworkauc"
      ],
      "execution_count": 43,
      "outputs": [
        {
          "output_type": "execute_result",
          "data": {
            "text/plain": [
              "0.49105334653193133"
            ]
          },
          "metadata": {
            "tags": []
          },
          "execution_count": 43
        }
      ]
    },
    {
      "cell_type": "markdown",
      "metadata": {
        "id": "-r1ge63A9iLC"
      },
      "source": [
        "**Comparing all the auc scores:**"
      ]
    },
    {
      "cell_type": "code",
      "metadata": {
        "id": "ffGgC1fg9nL_",
        "colab": {
          "base_uri": "https://localhost:8080/"
        },
        "outputId": "e4df43c4-295b-4ee5-f707-7adf795bdb5a"
      },
      "source": [
        "print('random forest', randomforestauc)\n",
        "print('Support Vector Machines', supportVectorMachineauc)\n",
        "print('Artificial Neural Network', artificialNeuralNetworkauc)\n",
        "print('Probablistic Neural Network', probablisticNeuralNetworkauc)"
      ],
      "execution_count": 44,
      "outputs": [
        {
          "output_type": "stream",
          "text": [
            "random forest 0.5876486205512114\n",
            "Support Vector Machines 0.5\n",
            "Artificial Neural Network 0.5434518315844684\n",
            "Probablistic Neural Network 0.49105334653193133\n"
          ],
          "name": "stdout"
        }
      ]
    },
    {
      "cell_type": "code",
      "metadata": {
        "id": "RDkumW7S9qku",
        "colab": {
          "base_uri": "https://localhost:8080/"
        },
        "outputId": "54b37204-7bfb-4e29-9e45-750617796083"
      },
      "source": [
        "print('best result is:' )\n",
        "print(max(randomforestauc, supportVectorMachineauc, artificialNeuralNetworkauc, probablisticNeuralNetworkauc))"
      ],
      "execution_count": 45,
      "outputs": [
        {
          "output_type": "stream",
          "text": [
            "best result is:\n",
            "0.5876486205512114\n"
          ],
          "name": "stdout"
        }
      ]
    }
  ]
}